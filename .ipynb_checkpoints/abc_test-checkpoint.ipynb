{
 "cells": [
  {
   "cell_type": "markdown",
   "metadata": {},
   "source": [
    "# ABC-NAS"
   ]
  },
  {
   "cell_type": "code",
   "execution_count": 4,
   "metadata": {
    "colab": {
     "base_uri": "https://localhost:8080/",
     "height": 34
    },
    "colab_type": "code",
    "id": "vu3k4v0WR2F-",
    "outputId": "0be704e8-b11b-4e32-a588-3db9dee0e072"
   },
   "outputs": [
    {
     "name": "stderr",
     "output_type": "stream",
     "text": [
      "UsageError: Line magic function `%` not found.\n"
     ]
    }
   ],
   "source": [
    "% pip install gym\n",
    "import gym\n",
    "import numpy as np\n",
    "import random\n",
    "from collections import deque\n",
    "from keras.models import Sequential\n",
    "from keras.layers import Dense\n",
    "from keras.optimizers import Adam\n",
    "from copy import deepcopy\n",
    "import matplotlib.pyplot as plt"
   ]
  },
  {
   "cell_type": "markdown",
   "metadata": {},
   "source": [
    "### Temporary Test Environment"
   ]
  },
  {
   "cell_type": "code",
   "execution_count": 2,
   "metadata": {
    "colab": {},
    "colab_type": "code",
    "id": "SPr3ZrSJSBbw"
   },
   "outputs": [],
   "source": [
    "ENV_NAME = \"CartPole-v1\"\n",
    "LEARNING_RATE = 0.001"
   ]
  },
  {
   "cell_type": "code",
   "execution_count": 3,
   "metadata": {
    "colab": {},
    "colab_type": "code",
    "id": "4c1Jb0l7RvH9"
   },
   "outputs": [
    {
     "name": "stdout",
     "output_type": "stream",
     "text": [
      "Observation space:  4\n",
      "Action Space:  2\n"
     ]
    }
   ],
   "source": [
    "env = gym.make(ENV_NAME)\n",
    "observation_space = env.observation_space.shape[0]\n",
    "action_space = env.action_space.n\n",
    "\n",
    "print(\"Observation space: \", observation_space)\n",
    "print(\"Action Space: \", action_space)"
   ]
  },
  {
   "cell_type": "markdown",
   "metadata": {
    "colab_type": "text",
    "id": "yzYOUN5ORmUZ"
   },
   "source": [
    "### Sample Model"
   ]
  },
  {
   "cell_type": "code",
   "execution_count": 1,
   "metadata": {
    "colab": {
     "base_uri": "https://localhost:8080/",
     "height": 88
    },
    "colab_type": "code",
    "id": "y4p6sO_MRVgM",
    "outputId": "d1462234-087e-4e51-c63d-f653f0cebb83"
   },
   "outputs": [
    {
     "ename": "NameError",
     "evalue": "name 'Sequential' is not defined",
     "output_type": "error",
     "traceback": [
      "\u001b[0;31m---------------------------------------------------------------------------\u001b[0m",
      "\u001b[0;31mNameError\u001b[0m                                 Traceback (most recent call last)",
      "\u001b[0;32m<ipython-input-1-195553054d3c>\u001b[0m in \u001b[0;36m<module>\u001b[0;34m\u001b[0m\n\u001b[0;32m----> 1\u001b[0;31m \u001b[0mmodelABC\u001b[0m \u001b[0;34m=\u001b[0m \u001b[0mSequential\u001b[0m\u001b[0;34m(\u001b[0m\u001b[0;34m)\u001b[0m\u001b[0;34m\u001b[0m\u001b[0;34m\u001b[0m\u001b[0m\n\u001b[0m\u001b[1;32m      2\u001b[0m \u001b[0mmodelABC\u001b[0m\u001b[0;34m.\u001b[0m\u001b[0madd\u001b[0m\u001b[0;34m(\u001b[0m\u001b[0mDense\u001b[0m\u001b[0;34m(\u001b[0m\u001b[0;36m24\u001b[0m\u001b[0;34m,\u001b[0m \u001b[0minput_shape\u001b[0m\u001b[0;34m=\u001b[0m\u001b[0;34m(\u001b[0m\u001b[0mobservation_space\u001b[0m\u001b[0;34m,\u001b[0m\u001b[0;34m)\u001b[0m\u001b[0;34m,\u001b[0m \u001b[0mactivation\u001b[0m\u001b[0;34m=\u001b[0m\u001b[0;34m\"relu\"\u001b[0m\u001b[0;34m,\u001b[0m \u001b[0mname\u001b[0m\u001b[0;34m=\u001b[0m\u001b[0;34m'layer_1'\u001b[0m\u001b[0;34m)\u001b[0m\u001b[0;34m)\u001b[0m\u001b[0;34m\u001b[0m\u001b[0;34m\u001b[0m\u001b[0m\n\u001b[1;32m      3\u001b[0m \u001b[0mmodelABC\u001b[0m\u001b[0;34m.\u001b[0m\u001b[0madd\u001b[0m\u001b[0;34m(\u001b[0m\u001b[0mDense\u001b[0m\u001b[0;34m(\u001b[0m\u001b[0;36m24\u001b[0m\u001b[0;34m,\u001b[0m \u001b[0mactivation\u001b[0m\u001b[0;34m=\u001b[0m\u001b[0;34m\"relu\"\u001b[0m\u001b[0;34m,\u001b[0m \u001b[0mname\u001b[0m\u001b[0;34m=\u001b[0m\u001b[0;34m'layer_2'\u001b[0m\u001b[0;34m)\u001b[0m\u001b[0;34m)\u001b[0m\u001b[0;34m\u001b[0m\u001b[0;34m\u001b[0m\u001b[0m\n\u001b[1;32m      4\u001b[0m \u001b[0mmodelABC\u001b[0m\u001b[0;34m.\u001b[0m\u001b[0madd\u001b[0m\u001b[0;34m(\u001b[0m\u001b[0mDense\u001b[0m\u001b[0;34m(\u001b[0m\u001b[0maction_space\u001b[0m\u001b[0;34m,\u001b[0m \u001b[0mactivation\u001b[0m\u001b[0;34m=\u001b[0m\u001b[0;34m\"linear\"\u001b[0m\u001b[0;34m,\u001b[0m \u001b[0mname\u001b[0m\u001b[0;34m=\u001b[0m\u001b[0;34m'layer_3'\u001b[0m\u001b[0;34m)\u001b[0m\u001b[0;34m)\u001b[0m\u001b[0;34m\u001b[0m\u001b[0;34m\u001b[0m\u001b[0m\n\u001b[1;32m      5\u001b[0m \u001b[0mmodelABC\u001b[0m\u001b[0;34m.\u001b[0m\u001b[0mcompile\u001b[0m\u001b[0;34m(\u001b[0m\u001b[0mloss\u001b[0m\u001b[0;34m=\u001b[0m\u001b[0;34m\"mse\"\u001b[0m\u001b[0;34m,\u001b[0m \u001b[0moptimizer\u001b[0m\u001b[0;34m=\u001b[0m\u001b[0mAdam\u001b[0m\u001b[0;34m(\u001b[0m\u001b[0mlr\u001b[0m\u001b[0;34m=\u001b[0m\u001b[0mLEARNING_RATE\u001b[0m\u001b[0;34m)\u001b[0m\u001b[0;34m)\u001b[0m\u001b[0;34m\u001b[0m\u001b[0;34m\u001b[0m\u001b[0m\n",
      "\u001b[0;31mNameError\u001b[0m: name 'Sequential' is not defined"
     ]
    }
   ],
   "source": [
    "modelABC = Sequential()\n",
    "modelABC.add(Dense(24, input_shape=(observation_space,), activation=\"relu\", name='layer_1'))\n",
    "modelABC.add(Dense(24, activation=\"relu\", name='layer_2'))\n",
    "modelABC.add(Dense(action_space, activation=\"linear\", name='layer_3'))\n",
    "modelABC.compile(loss=\"mse\", optimizer=Adam(lr=LEARNING_RATE))"
   ]
  },
  {
   "cell_type": "code",
   "execution_count": 5,
   "metadata": {},
   "outputs": [
    {
     "name": "stdout",
     "output_type": "stream",
     "text": [
      "_________________________________________________________________\n",
      "Layer (type)                 Output Shape              Param #   \n",
      "=================================================================\n",
      "layer_1 (Dense)              (None, 24)                120       \n",
      "_________________________________________________________________\n",
      "layer_2 (Dense)              (None, 24)                600       \n",
      "_________________________________________________________________\n",
      "layer_3 (Dense)              (None, 2)                 50        \n",
      "=================================================================\n",
      "Total params: 770\n",
      "Trainable params: 770\n",
      "Non-trainable params: 0\n",
      "_________________________________________________________________\n"
     ]
    }
   ],
   "source": [
    "modelABC.summary()"
   ]
  },
  {
   "cell_type": "code",
   "execution_count": 6,
   "metadata": {},
   "outputs": [],
   "source": [
    "def updateWeightsBias(params):\n",
    "    layer_1 = modelABC.get_layer('layer_1').get_weights()\n",
    "    layer_2 = modelABC.get_layer('layer_2').get_weights()\n",
    "    layer_3 = modelABC.get_layer('layer_3').get_weights()\n",
    "    \n",
    "    layer1_W_shape = (layer_1[0].shape[0] * layer_1[0].shape[1])\n",
    "    layer1_B_shape = layer1_W_shape + (layer_1[1].shape[0])\n",
    "    layer2_W_shape = layer1_B_shape + (layer_2[0].shape[0] * layer_2[0].shape[1])\n",
    "    layer2_B_shape = layer2_W_shape + (layer_2[1].shape[0])\n",
    "    layer3_W_shape = layer2_B_shape + (layer_3[0].shape[0] * layer_3[0].shape[1])\n",
    "    layer3_B_shape = layer3_W_shape + (layer_3[1].shape[0])\n",
    "\n",
    "    layer1_W = params[0:layer1_W_shape].reshape(layer_1[0].shape)\n",
    "    layer1_B = params[layer1_W_shape:layer1_B_shape].reshape(layer_1[1].shape)\n",
    "    layer2_W = params[layer1_B_shape:layer2_W_shape].reshape(layer_2[0].shape)\n",
    "    layer2_B = params[layer2_W_shape:layer2_B_shape].reshape(layer_2[1].shape)\n",
    "    layer3_W = params[layer2_B_shape:layer3_W_shape].reshape(layer_3[0].shape)\n",
    "    layer3_B = params[layer3_W_shape:layer3_B_shape].reshape(layer_3[1].shape)\n",
    "    \n",
    "    modelABC.get_layer('layer_1').set_weights([layer1_W, layer1_B])\n",
    "    modelABC.get_layer('layer_2').set_weights([layer2_W, layer2_B])\n",
    "    modelABC.get_layer('layer_3').set_weights([layer3_W, layer3_B])"
   ]
  },
  {
   "cell_type": "code",
   "execution_count": 7,
   "metadata": {
    "colab": {},
    "colab_type": "code",
    "id": "vGntGvFtSc2Z"
   },
   "outputs": [],
   "source": [
    "def calculateFitness():\n",
    "    state = env.reset()\n",
    "    state = np.reshape(state, [1, observation_space])\n",
    "    rewardTotal = 0\n",
    "    while True:\n",
    "        #env.render()\n",
    "        model_output = modelABC.predict(state)\n",
    "        action = np.argmax(model_output[0])\n",
    "        state_next, reward, terminal, info = env.step(action)\n",
    "        rewardTotal += reward\n",
    "        state_next = np.reshape(state_next, [1, observation_space])\n",
    "        state = state_next\n",
    "        if terminal:\n",
    "            break\n",
    "    return (10 / rewardTotal)"
   ]
  },
  {
   "cell_type": "code",
   "execution_count": 8,
   "metadata": {},
   "outputs": [],
   "source": [
    "def calculateScore():\n",
    "    state = env.reset()\n",
    "    state = np.reshape(state, [1, observation_space])\n",
    "    rewardTotal = 0\n",
    "    while True:\n",
    "        #env.render()\n",
    "        model_output = modelABC.predict(state)\n",
    "        action = np.argmax(model_output[0])\n",
    "        state_next, reward, terminal, info = env.step(action)\n",
    "        rewardTotal += reward\n",
    "        state_next = np.reshape(state_next, [1, observation_space])\n",
    "        state = state_next\n",
    "        if terminal:\n",
    "            print(\"Score: \" + str(rewardTotal))\n",
    "            break\n",
    "    return rewardTotal"
   ]
  },
  {
   "cell_type": "code",
   "execution_count": 9,
   "metadata": {
    "colab": {
     "base_uri": "https://localhost:8080/",
     "height": 544
    },
    "colab_type": "code",
    "id": "xIF9a9v9TB8Q",
    "outputId": "8b172596-4108-4f2d-bfec-f565bcf43d9d"
   },
   "outputs": [],
   "source": [
    "def calculateAverageScore():\n",
    "    totalScore = 0\n",
    "    numberOfPlays = 20\n",
    "    print(\"\\n\")\n",
    "    for _ in range(numberOfPlays):\n",
    "        totalScore += calculateScore()\n",
    "    return (totalScore/numberOfPlays)"
   ]
  },
  {
   "cell_type": "code",
   "execution_count": 10,
   "metadata": {},
   "outputs": [
    {
     "name": "stdout",
     "output_type": "stream",
     "text": [
      "\n",
      "\n",
      "Score: 151.0\n",
      "Score: 220.0\n",
      "Score: 266.0\n",
      "Score: 132.0\n",
      "Score: 43.0\n",
      "Score: 168.0\n",
      "Score: 95.0\n",
      "Score: 32.0\n",
      "Score: 126.0\n",
      "Score: 56.0\n",
      "Score: 42.0\n",
      "Score: 35.0\n",
      "Score: 111.0\n",
      "Score: 238.0\n",
      "Score: 58.0\n",
      "Score: 135.0\n",
      "Score: 284.0\n",
      "Score: 166.0\n",
      "Score: 62.0\n",
      "Score: 218.0\n"
     ]
    },
    {
     "data": {
      "text/plain": [
       "131.9"
      ]
     },
     "execution_count": 10,
     "metadata": {},
     "output_type": "execute_result"
    }
   ],
   "source": [
    "calculateAverageScore()"
   ]
  },
  {
   "cell_type": "markdown",
   "metadata": {},
   "source": [
    "### Artificial Bee Colony Algorithm Implementation"
   ]
  },
  {
   "cell_type": "code",
   "execution_count": 11,
   "metadata": {},
   "outputs": [],
   "source": [
    "class OnLookerBee(object):\n",
    "    TRIAL_DEFAULT_VALUE = 0\n",
    "    INITIAL_PROBABILITY = 0.0\n",
    "\n",
    "    def __init__(self, model, minVal, maxVal):\n",
    "        self.trial = OnLookerBee.TRIAL_DEFAULT_VALUE\n",
    "        self.prob = OnLookerBee.INITIAL_PROBABILITY\n",
    "        self.model = model\n",
    "        self.minVal = minVal\n",
    "        self.maxVal = maxVal\n",
    "        self.pos = model.initalize()\n",
    "        self.fitness = model.evaluate(self.pos)\n",
    "\n",
    "    def onlook(self, best_food_sources, max_trials):\n",
    "        candidate = np.random.choice(best_food_sources)\n",
    "        self.__exploit(candidate.pos, candidate.fitness, max_trials)\n",
    "\n",
    "    def reset_bee(self, max_trials):\n",
    "        if self.trial >= max_trials:\n",
    "            self.__reset_bee()\n",
    "\n",
    "    def __reset_bee(self):\n",
    "        self.pos = self.model.initalize()\n",
    "        self.fitness = self.model.evaluate(self.pos)\n",
    "        self.trial = OnLookerBee.TRIAL_DEFAULT_VALUE\n",
    "        self.prob = OnLookerBee.INITIAL_PROBABILITY\n",
    "\n",
    "    def evaluate_boundaries(self, pos):\n",
    "        if (pos < self.minVal).any() or (pos > self.maxVal).any():\n",
    "            pos[pos > self.maxVal] = self.maxVal\n",
    "            pos[pos < self.minVal] = self.minVal\n",
    "        return pos\n",
    "\n",
    "    def __exploit(self, candidate, fitness, max_trials):\n",
    "        if self.trial <= max_trials:\n",
    "            component = np.random.choice(candidate)\n",
    "            phi = np.random.uniform(low=-1, high=1, size=len(candidate))\n",
    "            n_pos = candidate + (candidate - component) * phi\n",
    "            n_pos = self.evaluate_boundaries(n_pos)\n",
    "            n_fitness = self.model.evaluate(n_pos)\n",
    "\n",
    "            if n_fitness <= fitness:\n",
    "                self.pos = n_pos\n",
    "                self.fitness = n_fitness\n",
    "                self.trial = 0\n",
    "            else:\n",
    "                self.trial += 1"
   ]
  },
  {
   "cell_type": "code",
   "execution_count": 12,
   "metadata": {},
   "outputs": [],
   "source": [
    "class EmployeeBee(object):\n",
    "    TRIAL_DEFAULT_VALUE = 0\n",
    "    INITIAL_PROBABILITY = 0.0\n",
    "\n",
    "    def __init__(self, model, minVal, maxVal):\n",
    "        self.trial = EmployeeBee.TRIAL_DEFAULT_VALUE\n",
    "        self.prob = EmployeeBee.INITIAL_PROBABILITY\n",
    "        self.model = model\n",
    "        self.minVal = minVal\n",
    "        self.maxVal = maxVal\n",
    "        self.pos = model.initalize()\n",
    "        self.fitness = model.evaluate(self.pos)\n",
    "\n",
    "    def compute_prob(self, max_fitness):\n",
    "        self.prob = self.get_fitness() / max_fitness\n",
    "\n",
    "    def update_bee(self, pos, fitness):\n",
    "        if fitness <= self.fitness:\n",
    "            print(\"\\t Bee fitness - current fitness: {} previous fitness: {}\"\n",
    "                  .format( \"%2.4f\" % fitness, \"%2.4f\" % self.fitness))\n",
    "            self.pos = pos\n",
    "            self.fitness = fitness\n",
    "            self.trial = 0\n",
    "        else:\n",
    "            self.trial += 1\n",
    "\n",
    "    def get_fitness(self):\n",
    "        return 1 / (1 + self.fitness) if self.fitness >= 0 else 1 + np.abs(self.fitness)\n",
    "\n",
    "    def reset_bee(self, max_trials):\n",
    "        if self.trial >= max_trials:\n",
    "            self.__reset_bee()\n",
    "\n",
    "    def __reset_bee(self):\n",
    "        self.pos = self.model.initalize()\n",
    "        self.fitness = self.model.evaluate(self.pos)\n",
    "        self.trial = OnLookerBee.TRIAL_DEFAULT_VALUE\n",
    "        self.prob = OnLookerBee.INITIAL_PROBABILITY\n",
    "\n",
    "    def evaluate_boundaries(self, pos):\n",
    "        if (pos < self.minVal).any() or (pos > self.maxVal).any():\n",
    "            pos[pos > self.maxVal] = self.maxVal\n",
    "            pos[pos < self.minVal] = self.minVal\n",
    "        return pos\n",
    "    \n",
    "    def explore(self, max_trials):\n",
    "        if self.trial <= max_trials:\n",
    "            component = np.random.choice(self.pos)\n",
    "            phi = np.random.uniform(low=-1, high=1, size=len(self.pos))\n",
    "            n_pos = self.pos + (self.pos - component) * phi\n",
    "            n_pos = self.evaluate_boundaries(n_pos)\n",
    "            n_fitness = self.model.evaluate(n_pos)\n",
    "            self.update_bee(n_pos, n_fitness)"
   ]
  },
  {
   "cell_type": "code",
   "execution_count": 13,
   "metadata": {},
   "outputs": [],
   "source": [
    "class ABC(object):\n",
    "    def __init__(self, model, colony_size=30, n_iter=500, max_trials=100, minVal=-1, maxVal=1):\n",
    "        self.model = model\n",
    "        self.minVal = minVal\n",
    "        self.maxVal = maxVal\n",
    "\n",
    "        self.n_iter = n_iter\n",
    "        self.colony_size = colony_size\n",
    "        self.max_trials = max_trials\n",
    "\n",
    "        self.optimal_solution = None\n",
    "        self.optimal_solution_list = []\n",
    "\n",
    "    def reset_value(self):\n",
    "        self.optimal_solution = None\n",
    "        self.optimal_solution_list = []\n",
    "\n",
    "    def update_optimality_tracking(self):\n",
    "        self.optimal_solution_list.append(self.optimal_solution.fitness)\n",
    "\n",
    "    def find_optimal_solution(self):\n",
    "        n_optimal_solution = \\\n",
    "            min(self.onlokeer_bees + self.employee_bees,\n",
    "                key=lambda bee: bee.fitness)\n",
    "        if not self.optimal_solution:\n",
    "            self.optimal_solution = deepcopy(n_optimal_solution)\n",
    "        else:\n",
    "            if n_optimal_solution.fitness < self.optimal_solution.fitness:\n",
    "                self.optimal_solution = deepcopy(n_optimal_solution)\n",
    "\n",
    "    def initialize_employee_bees(self):\n",
    "        self.employee_bees = []\n",
    "        for itr in range(self.colony_size // 2):\n",
    "            self.employee_bees.append(EmployeeBee(self.model, self.minVal, self.maxVal))\n",
    "\n",
    "    def initialize_onlooker_bees(self):\n",
    "        self.onlokeer_bees = []\n",
    "        for itr in range(self.colony_size // 2):\n",
    "            self.onlokeer_bees.append(OnLookerBee(self.model, self.minVal, self.maxVal))\n",
    "\n",
    "    def employee_bees_phase(self):\n",
    "        for bee in self.employee_bees:\n",
    "            bee.explore(self.max_trials)\n",
    "\n",
    "    def calculate_probabilities(self):\n",
    "        sum_fitness = sum(map(lambda bee: bee.get_fitness(), self.employee_bees))\n",
    "        map(lambda bee: bee.compute_prob(sum_fitness), self.employee_bees)\n",
    "\n",
    "    def select_best_food_sources(self):\n",
    "        self.best_food_sources =\\\n",
    "            filter(lambda bee: bee.prob > np.random.uniform(low=0, high=1),\n",
    "                   self.employee_bees)\n",
    "        while not self.best_food_sources:\n",
    "            self.best_food_sources = \\\n",
    "                filter(lambda bee: bee.prob > np.random.uniform(low=0, high=1),\n",
    "                       self.employee_bees)\n",
    "\n",
    "    def onlooker_bees_phase(self):\n",
    "        map(lambda bee: bee.onlook(self.best_food_sources, self.max_trials),\n",
    "            self.onlokeer_bees)\n",
    "\n",
    "    def scout_bees_phase(self):\n",
    "        map(lambda bee: bee.reset_bee(self.max_trials),\n",
    "            self.onlokeer_bees + self.employee_bees)\n",
    "\n",
    "    def optimize(self):\n",
    "        self.reset_value()\n",
    "        \n",
    "        self.initialize_employee_bees()\n",
    "        self.initialize_onlooker_bees()\n",
    "\n",
    "        for itr in range(self.n_iter):\n",
    "            self.employee_bees_phase()\n",
    "            self.find_optimal_solution()\n",
    "\n",
    "            self.calculate_probabilities()\n",
    "            self.select_best_food_sources()\n",
    "\n",
    "            self.onlooker_bees_phase()\n",
    "            self.scout_bees_phase()\n",
    "\n",
    "            self.find_optimal_solution()\n",
    "            self.update_optimality_tracking()\n",
    "            \n",
    "            print(\"Iteration: {} = Optimal Fitness: {}\".format(itr, \"%2.4f\" % self.optimal_solution.fitness))"
   ]
  },
  {
   "cell_type": "code",
   "execution_count": 14,
   "metadata": {},
   "outputs": [],
   "source": [
    "class NeuralNetworkParams(object):\n",
    "    def __init__(self, dim, minVal=-1, maxVal=1):\n",
    "        self.dim = dim\n",
    "        self.minVal = minVal\n",
    "        self.maxVal = maxVal\n",
    "\n",
    "    def initalize(self):\n",
    "        return np.repeat(self.minVal, repeats=self.dim) \\\n",
    "               + np.random.uniform(low=0, high=1, size=self.dim) *\\\n",
    "               np.repeat(self.maxVal - self.minVal, repeats=self.dim)\n",
    "\n",
    "    def evaluate(self, x):\n",
    "        updateWeightsBias(x)\n",
    "        return calculateFitness()"
   ]
  },
  {
   "cell_type": "code",
   "execution_count": 15,
   "metadata": {},
   "outputs": [],
   "source": [
    "def runABCAlgorithm(model, colony_size=40, n_iter=100, max_trials=50):\n",
    "    optimizer = ABC(model=model, colony_size=colony_size, n_iter=n_iter, max_trials=max_trials)\n",
    "    optimizer.optimize()\n",
    "    \n",
    "    values = np.array(optimizer.optimal_solution_list)\n",
    "    itrations = range(n_iter)\n",
    "    \n",
    "    return itrations, values, optimizer.optimal_solution.pos"
   ]
  },
  {
   "cell_type": "code",
   "execution_count": 16,
   "metadata": {},
   "outputs": [
    {
     "name": "stdout",
     "output_type": "stream",
     "text": [
      "\t Bee fitness - current fitness: 0.6667 previous fitness: 1.0000\n",
      "\t Bee fitness - current fitness: 1.0000 previous fitness: 1.0000\n",
      "\t Bee fitness - current fitness: 0.5263 previous fitness: 0.5882\n",
      "\t Bee fitness - current fitness: 0.9091 previous fitness: 1.0000\n",
      "\t Bee fitness - current fitness: 1.2500 previous fitness: 1.2500\n",
      "\t Bee fitness - current fitness: 1.0000 previous fitness: 1.0000\n",
      "\t Bee fitness - current fitness: 1.0000 previous fitness: 1.1111\n",
      "\t Bee fitness - current fitness: 1.1111 previous fitness: 1.1111\n",
      "\t Bee fitness - current fitness: 0.2381 previous fitness: 0.5556\n",
      "Iteration: 0 = Optimal Fitness: 0.1190\n",
      "\t Bee fitness - current fitness: 0.8333 previous fitness: 1.0000\n",
      "\t Bee fitness - current fitness: 1.1111 previous fitness: 1.1111\n",
      "\t Bee fitness - current fitness: 0.8333 previous fitness: 1.0000\n",
      "\t Bee fitness - current fitness: 0.1449 previous fitness: 0.5263\n",
      "\t Bee fitness - current fitness: 1.0000 previous fitness: 1.2500\n",
      "\t Bee fitness - current fitness: 0.7692 previous fitness: 1.1111\n",
      "\t Bee fitness - current fitness: 0.8333 previous fitness: 1.0000\n",
      "\t Bee fitness - current fitness: 1.0000 previous fitness: 1.0000\n",
      "Iteration: 1 = Optimal Fitness: 0.1190\n",
      "\t Bee fitness - current fitness: 1.1111 previous fitness: 1.1111\n",
      "\t Bee fitness - current fitness: 0.0549 previous fitness: 0.1449\n",
      "\t Bee fitness - current fitness: 1.0000 previous fitness: 1.0000\n",
      "\t Bee fitness - current fitness: 0.8333 previous fitness: 1.0000\n",
      "\t Bee fitness - current fitness: 1.0000 previous fitness: 1.0000\n",
      "\t Bee fitness - current fitness: 0.3030 previous fitness: 0.8333\n",
      "\t Bee fitness - current fitness: 0.8333 previous fitness: 0.8333\n",
      "\t Bee fitness - current fitness: 0.3030 previous fitness: 0.3448\n",
      "Iteration: 2 = Optimal Fitness: 0.0549\n",
      "\t Bee fitness - current fitness: 0.7143 previous fitness: 0.8333\n",
      "\t Bee fitness - current fitness: 1.1111 previous fitness: 1.1111\n",
      "\t Bee fitness - current fitness: 1.0000 previous fitness: 1.0000\n",
      "\t Bee fitness - current fitness: 0.1852 previous fitness: 1.0000\n",
      "\t Bee fitness - current fitness: 0.6250 previous fitness: 0.8333\n",
      "\t Bee fitness - current fitness: 1.0000 previous fitness: 1.0000\n",
      "Iteration: 3 = Optimal Fitness: 0.0549\n",
      "\t Bee fitness - current fitness: 0.9091 previous fitness: 1.1111\n",
      "\t Bee fitness - current fitness: 0.5000 previous fitness: 0.8333\n",
      "\t Bee fitness - current fitness: 0.6250 previous fitness: 0.9091\n",
      "\t Bee fitness - current fitness: 0.5882 previous fitness: 0.8333\n",
      "\t Bee fitness - current fitness: 0.1282 previous fitness: 0.1852\n",
      "\t Bee fitness - current fitness: 0.6667 previous fitness: 0.7692\n",
      "Iteration: 4 = Optimal Fitness: 0.0549\n",
      "\t Bee fitness - current fitness: 0.4167 previous fitness: 0.5882\n",
      "Iteration: 5 = Optimal Fitness: 0.0549\n",
      "\t Bee fitness - current fitness: 0.6667 previous fitness: 0.6667\n",
      "\t Bee fitness - current fitness: 0.4545 previous fitness: 0.7143\n",
      "\t Bee fitness - current fitness: 0.4545 previous fitness: 0.9091\n",
      "\t Bee fitness - current fitness: 0.4167 previous fitness: 0.5000\n",
      "\t Bee fitness - current fitness: 0.3704 previous fitness: 0.9091\n",
      "\t Bee fitness - current fitness: 0.7692 previous fitness: 1.0000\n",
      "\t Bee fitness - current fitness: 0.0943 previous fitness: 0.1282\n",
      "\t Bee fitness - current fitness: 0.5556 previous fitness: 1.0000\n",
      "Iteration: 6 = Optimal Fitness: 0.0549\n",
      "\t Bee fitness - current fitness: 0.0725 previous fitness: 0.4545\n",
      "\t Bee fitness - current fitness: 0.1042 previous fitness: 0.3704\n",
      "\t Bee fitness - current fitness: 0.7143 previous fitness: 1.0000\n",
      "\t Bee fitness - current fitness: 0.1724 previous fitness: 0.6667\n",
      "\t Bee fitness - current fitness: 0.5000 previous fitness: 0.6250\n",
      "Iteration: 7 = Optimal Fitness: 0.0549\n",
      "\t Bee fitness - current fitness: 0.7692 previous fitness: 0.7692\n",
      "\t Bee fitness - current fitness: 0.0667 previous fitness: 0.1042\n",
      "\t Bee fitness - current fitness: 0.2174 previous fitness: 0.7143\n",
      "\t Bee fitness - current fitness: 0.1667 previous fitness: 0.2381\n",
      "Iteration: 8 = Optimal Fitness: 0.0549\n",
      "\t Bee fitness - current fitness: 0.4545 previous fitness: 0.7692\n",
      "\t Bee fitness - current fitness: 0.4000 previous fitness: 0.4167\n",
      "\t Bee fitness - current fitness: 0.2857 previous fitness: 0.5556\n",
      "Iteration: 9 = Optimal Fitness: 0.0549\n",
      "\t Bee fitness - current fitness: 0.2564 previous fitness: 0.3030\n",
      "\t Bee fitness - current fitness: 0.1250 previous fitness: 0.5000\n",
      "Iteration: 10 = Optimal Fitness: 0.0549\n",
      "\t Bee fitness - current fitness: 0.5000 previous fitness: 0.6250\n",
      "\t Bee fitness - current fitness: 0.4000 previous fitness: 0.7692\n",
      "\t Bee fitness - current fitness: 0.1515 previous fitness: 0.1667\n",
      "\t Bee fitness - current fitness: 0.0538 previous fitness: 0.2857\n",
      "Iteration: 11 = Optimal Fitness: 0.0538\n",
      "\t Bee fitness - current fitness: 0.0200 previous fitness: 0.4000\n",
      "Iteration: 12 = Optimal Fitness: 0.0200\n",
      "\t Bee fitness - current fitness: 0.2222 previous fitness: 0.4167\n",
      "Iteration: 13 = Optimal Fitness: 0.0200\n",
      "\t Bee fitness - current fitness: 0.1961 previous fitness: 0.6667\n",
      "\t Bee fitness - current fitness: 0.2632 previous fitness: 0.3030\n",
      "Iteration: 14 = Optimal Fitness: 0.0200\n",
      "\t Bee fitness - current fitness: 0.1695 previous fitness: 0.2222\n",
      "Iteration: 15 = Optimal Fitness: 0.0200\n",
      "Iteration: 16 = Optimal Fitness: 0.0200\n",
      "\t Bee fitness - current fitness: 0.0200 previous fitness: 0.1961\n",
      "\t Bee fitness - current fitness: 0.1724 previous fitness: 0.1724\n",
      "\t Bee fitness - current fitness: 0.0621 previous fitness: 0.1351\n",
      "Iteration: 17 = Optimal Fitness: 0.0200\n",
      "Iteration: 18 = Optimal Fitness: 0.0200\n",
      "\t Bee fitness - current fitness: 0.2703 previous fitness: 0.4545\n",
      "\t Bee fitness - current fitness: 0.1031 previous fitness: 0.1515\n",
      "Iteration: 19 = Optimal Fitness: 0.0200\n",
      "\t Bee fitness - current fitness: 0.0870 previous fitness: 0.1250\n",
      "Iteration: 20 = Optimal Fitness: 0.0200\n",
      "Iteration: 21 = Optimal Fitness: 0.0200\n",
      "\t Bee fitness - current fitness: 0.2128 previous fitness: 0.4000\n",
      "Iteration: 22 = Optimal Fitness: 0.0200\n",
      "Iteration: 23 = Optimal Fitness: 0.0200\n",
      "\t Bee fitness - current fitness: 0.1471 previous fitness: 0.5000\n",
      "Iteration: 24 = Optimal Fitness: 0.0200\n",
      "Iteration: 25 = Optimal Fitness: 0.0200\n",
      "\t Bee fitness - current fitness: 0.0847 previous fitness: 0.0870\n",
      "\t Bee fitness - current fitness: 0.0909 previous fitness: 0.1695\n",
      "Iteration: 26 = Optimal Fitness: 0.0200\n",
      "Iteration: 27 = Optimal Fitness: 0.0200\n",
      "\t Bee fitness - current fitness: 0.3846 previous fitness: 0.4545\n",
      "Iteration: 28 = Optimal Fitness: 0.0200\n",
      "Iteration: 29 = Optimal Fitness: 0.0200\n",
      "Iteration: 30 = Optimal Fitness: 0.0200\n",
      "\t Bee fitness - current fitness: 0.1818 previous fitness: 0.3846\n",
      "Iteration: 31 = Optimal Fitness: 0.0200\n",
      "Iteration: 32 = Optimal Fitness: 0.0200\n",
      "\t Bee fitness - current fitness: 0.1493 previous fitness: 0.2174\n",
      "Iteration: 33 = Optimal Fitness: 0.0200\n",
      "\t Bee fitness - current fitness: 0.1961 previous fitness: 0.2564\n",
      "Iteration: 34 = Optimal Fitness: 0.0200\n",
      "Iteration: 35 = Optimal Fitness: 0.0200\n",
      "\t Bee fitness - current fitness: 0.0200 previous fitness: 0.0621\n",
      "Iteration: 36 = Optimal Fitness: 0.0200\n",
      "\t Bee fitness - current fitness: 0.0893 previous fitness: 0.0943\n",
      "Iteration: 37 = Optimal Fitness: 0.0200\n",
      "\t Bee fitness - current fitness: 0.1299 previous fitness: 0.2703\n",
      "\t Bee fitness - current fitness: 0.1961 previous fitness: 0.2632\n",
      "Iteration: 38 = Optimal Fitness: 0.0200\n",
      "Iteration: 39 = Optimal Fitness: 0.0200\n",
      "\t Bee fitness - current fitness: 0.1818 previous fitness: 0.2222\n",
      "\t Bee fitness - current fitness: 0.0962 previous fitness: 0.1961\n",
      "Iteration: 40 = Optimal Fitness: 0.0200\n",
      "Iteration: 41 = Optimal Fitness: 0.0200\n",
      "\t Bee fitness - current fitness: 0.1724 previous fitness: 0.1818\n",
      "Iteration: 42 = Optimal Fitness: 0.0200\n",
      "\t Bee fitness - current fitness: 0.0200 previous fitness: 0.1818\n",
      "Iteration: 43 = Optimal Fitness: 0.0200\n",
      "Iteration: 44 = Optimal Fitness: 0.0200\n",
      "Iteration: 45 = Optimal Fitness: 0.0200\n",
      "Iteration: 46 = Optimal Fitness: 0.0200\n",
      "Iteration: 47 = Optimal Fitness: 0.0200\n",
      "\t Bee fitness - current fitness: 0.0200 previous fitness: 0.1299\n",
      "Iteration: 48 = Optimal Fitness: 0.0200\n",
      "\t Bee fitness - current fitness: 0.0862 previous fitness: 0.1724\n",
      "Iteration: 49 = Optimal Fitness: 0.0200\n",
      "\t Bee fitness - current fitness: 0.0552 previous fitness: 0.1724\n",
      "\t Bee fitness - current fitness: 0.1754 previous fitness: 0.1961\n",
      "\t Bee fitness - current fitness: 0.0971 previous fitness: 0.1031\n"
     ]
    },
    {
     "name": "stdout",
     "output_type": "stream",
     "text": [
      "Iteration: 50 = Optimal Fitness: 0.0200\n",
      "Iteration: 51 = Optimal Fitness: 0.0200\n",
      "Iteration: 52 = Optimal Fitness: 0.0200\n",
      "Iteration: 53 = Optimal Fitness: 0.0200\n",
      "Iteration: 54 = Optimal Fitness: 0.0200\n",
      "Iteration: 55 = Optimal Fitness: 0.0200\n",
      "Iteration: 56 = Optimal Fitness: 0.0200\n",
      "Iteration: 57 = Optimal Fitness: 0.0200\n",
      "Iteration: 58 = Optimal Fitness: 0.0200\n",
      "\t Bee fitness - current fitness: 0.0200 previous fitness: 0.0200\n",
      "Iteration: 59 = Optimal Fitness: 0.0200\n",
      "Iteration: 60 = Optimal Fitness: 0.0200\n",
      "\t Bee fitness - current fitness: 0.0758 previous fitness: 0.1471\n",
      "\t Bee fitness - current fitness: 0.0200 previous fitness: 0.0893\n",
      "Iteration: 61 = Optimal Fitness: 0.0200\n",
      "Iteration: 62 = Optimal Fitness: 0.0200\n",
      "Iteration: 63 = Optimal Fitness: 0.0200\n",
      "Iteration: 64 = Optimal Fitness: 0.0200\n",
      "\t Bee fitness - current fitness: 0.0735 previous fitness: 0.0909\n",
      "Iteration: 65 = Optimal Fitness: 0.0200\n",
      "\t Bee fitness - current fitness: 0.1639 previous fitness: 0.2128\n",
      "\t Bee fitness - current fitness: 0.0200 previous fitness: 0.0200\n",
      "Iteration: 66 = Optimal Fitness: 0.0200\n",
      "Iteration: 67 = Optimal Fitness: 0.0200\n",
      "\t Bee fitness - current fitness: 0.1190 previous fitness: 0.1754\n",
      "Iteration: 68 = Optimal Fitness: 0.0200\n",
      "\t Bee fitness - current fitness: 0.1250 previous fitness: 0.1639\n",
      "Iteration: 69 = Optimal Fitness: 0.0200\n",
      "\t Bee fitness - current fitness: 0.0200 previous fitness: 0.0847\n",
      "Iteration: 70 = Optimal Fitness: 0.0200\n",
      "Iteration: 71 = Optimal Fitness: 0.0200\n",
      "\t Bee fitness - current fitness: 0.0200 previous fitness: 0.0200\n",
      "Iteration: 72 = Optimal Fitness: 0.0200\n",
      "Iteration: 73 = Optimal Fitness: 0.0200\n",
      "\t Bee fitness - current fitness: 0.0877 previous fitness: 0.1190\n",
      "Iteration: 74 = Optimal Fitness: 0.0200\n",
      "Iteration: 75 = Optimal Fitness: 0.0200\n",
      "Iteration: 76 = Optimal Fitness: 0.0200\n",
      "\t Bee fitness - current fitness: 0.0752 previous fitness: 0.0758\n",
      "Iteration: 77 = Optimal Fitness: 0.0200\n",
      "Iteration: 78 = Optimal Fitness: 0.0200\n",
      "Iteration: 79 = Optimal Fitness: 0.0200\n",
      "Iteration: 80 = Optimal Fitness: 0.0200\n",
      "Iteration: 81 = Optimal Fitness: 0.0200\n",
      "Iteration: 82 = Optimal Fitness: 0.0200\n",
      "\t Bee fitness - current fitness: 0.0200 previous fitness: 0.0752\n",
      "Iteration: 83 = Optimal Fitness: 0.0200\n",
      "Iteration: 84 = Optimal Fitness: 0.0200\n",
      "Iteration: 85 = Optimal Fitness: 0.0200\n",
      "Iteration: 86 = Optimal Fitness: 0.0200\n",
      "Iteration: 87 = Optimal Fitness: 0.0200\n",
      "Iteration: 88 = Optimal Fitness: 0.0200\n",
      "Iteration: 89 = Optimal Fitness: 0.0200\n",
      "Iteration: 90 = Optimal Fitness: 0.0200\n",
      "\t Bee fitness - current fitness: 0.0200 previous fitness: 0.0200\n",
      "Iteration: 91 = Optimal Fitness: 0.0200\n",
      "Iteration: 92 = Optimal Fitness: 0.0200\n",
      "\t Bee fitness - current fitness: 0.0200 previous fitness: 0.0971\n",
      "Iteration: 93 = Optimal Fitness: 0.0200\n",
      "Iteration: 94 = Optimal Fitness: 0.0200\n",
      "Iteration: 95 = Optimal Fitness: 0.0200\n",
      "Iteration: 96 = Optimal Fitness: 0.0200\n",
      "Iteration: 97 = Optimal Fitness: 0.0200\n",
      "Iteration: 98 = Optimal Fitness: 0.0200\n",
      "Iteration: 99 = Optimal Fitness: 0.0200\n"
     ]
    }
   ],
   "source": [
    "itrations, values, solutionParamsABC = runABCAlgorithm(NeuralNetworkParams(770))"
   ]
  },
  {
   "cell_type": "code",
   "execution_count": 17,
   "metadata": {},
   "outputs": [
    {
     "name": "stdout",
     "output_type": "stream",
     "text": [
      "\n",
      "\n",
      "Score: 407.0\n",
      "Score: 305.0\n",
      "Score: 355.0\n",
      "Score: 500.0\n",
      "Score: 500.0\n",
      "Score: 458.0\n",
      "Score: 500.0\n",
      "Score: 441.0\n",
      "Score: 500.0\n",
      "Score: 500.0\n",
      "Score: 500.0\n",
      "Score: 487.0\n",
      "Score: 500.0\n",
      "Score: 500.0\n",
      "Score: 500.0\n",
      "Score: 437.0\n",
      "Score: 500.0\n",
      "Score: 439.0\n",
      "Score: 500.0\n",
      "Score: 500.0\n",
      "\n",
      "fitness:  0.02 \n",
      "Average Score:  466.45\n"
     ]
    }
   ],
   "source": [
    "print(\"\\nfitness: \", NeuralNetworkParams(770).evaluate(solutionParamsABC),\"\\nAverage Score: \", calculateAverageScore())"
   ]
  },
  {
   "cell_type": "code",
   "execution_count": 18,
   "metadata": {},
   "outputs": [
    {
     "data": {
      "image/png": "[encoded data removed]",
      "text/plain": [
       "<Figure size 432x288 with 1 Axes>"
      ]
     },
     "metadata": {
      "needs_background": "light"
     },
     "output_type": "display_data"
    }
   ],
   "source": [
    "plt.plot(itrations, values, label='CartPole ABC')\n",
    "\n",
    "plt.legend(loc='upper right')\n",
    "plt.xlabel('Iterations')\n",
    "plt.ylabel('Fitness')\n",
    "plt.title('Cartpole ABC - Fitness Plot')\n",
    "\n",
    "plt.show()"
   ]
  },
  {
   "cell_type": "markdown",
   "metadata": {},
   "source": [
    "## Cartpole Using DQN"
   ]
  },
  {
   "cell_type": "code",
   "execution_count": 19,
   "metadata": {},
   "outputs": [],
   "source": [
    "class DQNSolver:\n",
    "    def __init__(self, observation_space, action_space, memory_size=10000,\n",
    "                 learning_rate=0.001, initial_exploration_rate=1.0,\n",
    "                 exploration_decay=0.995, exploration_min=0.1, gamma=0.95, batch_size=20):\n",
    "\n",
    "        self.action_space = action_space\n",
    "        \n",
    "        self.model = Sequential()\n",
    "        self.model.add(Dense(24, input_shape=(observation_space,), activation=\"relu\"))\n",
    "        self.model.add(Dense(24, activation=\"relu\"))\n",
    "        self.model.add(Dense(self.action_space, activation=\"linear\"))\n",
    "        self.model.compile(loss=\"mse\", optimizer=Adam(lr=learning_rate))\n",
    "        \n",
    "        self.exploration_rate = initial_exploration_rate\n",
    "        self.exploration_decay = exploration_decay\n",
    "        self.exploration_min = exploration_min\n",
    "        self.batch_size = batch_size\n",
    "        self.gamma = gamma\n",
    "        self.memory = deque(maxlen=memory_size)\n",
    "\n",
    "    def get_action(self, state):\n",
    "        if self.exploration_rate > np.random.rand():\n",
    "            return random.randrange(self.action_space)\n",
    "        \n",
    "        q_values = self.model.predict(state)\n",
    "        \n",
    "        return np.argmax(q_values[0])\n",
    "\n",
    "    def remember(self, state, action, reward, next_state, done):\n",
    "        self.memory.append((state, action, reward, next_state, done))\n",
    "\n",
    "    def experience_replay(self):\n",
    "        if len(self.memory) < self.batch_size:\n",
    "            return\n",
    "        \n",
    "        batch = random.sample(self.memory, self.batch_size)\n",
    "        \n",
    "        for state, action, reward, state_next, terminal in batch:\n",
    "            q_update = reward\n",
    "            \n",
    "            if not terminal:\n",
    "                q_update = (reward + self.gamma * np.amax(self.model.predict(state_next)[0]))\n",
    "            \n",
    "            q_values = self.model.predict(state)\n",
    "            q_values[0][action] = q_update\n",
    "            self.model.fit(state, q_values, verbose=0)\n",
    "            \n",
    "        self.exploration_rate *= self.exploration_decay\n",
    "        self.exploration_rate = max(self.exploration_min, self.exploration_rate)"
   ]
  },
  {
   "cell_type": "code",
   "execution_count": 24,
   "metadata": {},
   "outputs": [],
   "source": [
    "def runDQN(optimizer, iterations=100):\n",
    "    fitness = []\n",
    "    for _ in range(iterations):\n",
    "        state = env.reset()\n",
    "        state = np.reshape(state, [1, observation_space])\n",
    "        \n",
    "        rewardTotal = 0\n",
    "        while True:\n",
    "            #env.render()\n",
    "            action = optimizer.get_action(state)\n",
    "            state_next, reward, terminal, info = env.step(action)\n",
    "\n",
    "            rewardTotal += reward\n",
    "            reward = reward if not terminal else -reward\n",
    "            \n",
    "            state_next = np.reshape(state_next, [1, observation_space])\n",
    "            optimizer.remember(state, action, reward, state_next, terminal)\n",
    "            state = state_next\n",
    "            \n",
    "            if terminal:\n",
    "                print(\"Iteration: {}  Score: {} Fitness: {}\".format(_, str(rewardTotal), \"%2.4f\" % (10/rewardTotal)))\n",
    "                fitness.append(10/rewardTotal)\n",
    "                break\n",
    "            \n",
    "            optimizer.experience_replay()\n",
    "    return range(iterations), fitness"
   ]
  },
  {
   "cell_type": "code",
   "execution_count": 25,
   "metadata": {},
   "outputs": [
    {
     "name": "stdout",
     "output_type": "stream",
     "text": [
      "Iteration: 0  Score: 17.0 Fitness: 0.5882\n",
      "Iteration: 1  Score: 21.0 Fitness: 0.4762\n",
      "Iteration: 2  Score: 26.0 Fitness: 0.3846\n",
      "Iteration: 3  Score: 44.0 Fitness: 0.2273\n",
      "Iteration: 4  Score: 15.0 Fitness: 0.6667\n",
      "Iteration: 5  Score: 13.0 Fitness: 0.7692\n",
      "Iteration: 6  Score: 16.0 Fitness: 0.6250\n",
      "Iteration: 7  Score: 11.0 Fitness: 0.9091\n",
      "Iteration: 8  Score: 13.0 Fitness: 0.7692\n",
      "Iteration: 9  Score: 10.0 Fitness: 1.0000\n",
      "Iteration: 10  Score: 10.0 Fitness: 1.0000\n",
      "Iteration: 11  Score: 11.0 Fitness: 0.9091\n",
      "Iteration: 12  Score: 10.0 Fitness: 1.0000\n",
      "Iteration: 13  Score: 16.0 Fitness: 0.6250\n",
      "Iteration: 14  Score: 17.0 Fitness: 0.5882\n",
      "Iteration: 15  Score: 10.0 Fitness: 1.0000\n",
      "Iteration: 16  Score: 14.0 Fitness: 0.7143\n",
      "Iteration: 17  Score: 10.0 Fitness: 1.0000\n",
      "Iteration: 18  Score: 12.0 Fitness: 0.8333\n",
      "Iteration: 19  Score: 10.0 Fitness: 1.0000\n",
      "Iteration: 20  Score: 10.0 Fitness: 1.0000\n",
      "Iteration: 21  Score: 15.0 Fitness: 0.6667\n",
      "Iteration: 22  Score: 9.0 Fitness: 1.1111\n",
      "Iteration: 23  Score: 10.0 Fitness: 1.0000\n",
      "Iteration: 24  Score: 10.0 Fitness: 1.0000\n",
      "Iteration: 25  Score: 10.0 Fitness: 1.0000\n",
      "Iteration: 26  Score: 10.0 Fitness: 1.0000\n",
      "Iteration: 27  Score: 10.0 Fitness: 1.0000\n",
      "Iteration: 28  Score: 13.0 Fitness: 0.7692\n",
      "Iteration: 29  Score: 11.0 Fitness: 0.9091\n",
      "Iteration: 30  Score: 9.0 Fitness: 1.1111\n",
      "Iteration: 31  Score: 9.0 Fitness: 1.1111\n",
      "Iteration: 32  Score: 12.0 Fitness: 0.8333\n",
      "Iteration: 33  Score: 13.0 Fitness: 0.7692\n",
      "Iteration: 34  Score: 11.0 Fitness: 0.9091\n",
      "Iteration: 35  Score: 10.0 Fitness: 1.0000\n",
      "Iteration: 36  Score: 10.0 Fitness: 1.0000\n",
      "Iteration: 37  Score: 10.0 Fitness: 1.0000\n",
      "Iteration: 38  Score: 10.0 Fitness: 1.0000\n",
      "Iteration: 39  Score: 10.0 Fitness: 1.0000\n",
      "Iteration: 40  Score: 11.0 Fitness: 0.9091\n",
      "Iteration: 41  Score: 10.0 Fitness: 1.0000\n",
      "Iteration: 42  Score: 14.0 Fitness: 0.7143\n",
      "Iteration: 43  Score: 14.0 Fitness: 0.7143\n",
      "Iteration: 44  Score: 12.0 Fitness: 0.8333\n",
      "Iteration: 45  Score: 18.0 Fitness: 0.5556\n",
      "Iteration: 46  Score: 12.0 Fitness: 0.8333\n",
      "Iteration: 47  Score: 17.0 Fitness: 0.5882\n",
      "Iteration: 48  Score: 26.0 Fitness: 0.3846\n",
      "Iteration: 49  Score: 22.0 Fitness: 0.4545\n",
      "Iteration: 50  Score: 27.0 Fitness: 0.3704\n",
      "Iteration: 51  Score: 67.0 Fitness: 0.1493\n",
      "Iteration: 52  Score: 51.0 Fitness: 0.1961\n",
      "Iteration: 53  Score: 45.0 Fitness: 0.2222\n",
      "Iteration: 54  Score: 30.0 Fitness: 0.3333\n",
      "Iteration: 55  Score: 29.0 Fitness: 0.3448\n",
      "Iteration: 56  Score: 37.0 Fitness: 0.2703\n",
      "Iteration: 57  Score: 46.0 Fitness: 0.2174\n",
      "Iteration: 58  Score: 28.0 Fitness: 0.3571\n",
      "Iteration: 59  Score: 62.0 Fitness: 0.1613\n",
      "Iteration: 60  Score: 33.0 Fitness: 0.3030\n",
      "Iteration: 61  Score: 34.0 Fitness: 0.2941\n",
      "Iteration: 62  Score: 74.0 Fitness: 0.1351\n",
      "Iteration: 63  Score: 224.0 Fitness: 0.0446\n",
      "Iteration: 64  Score: 127.0 Fitness: 0.0787\n",
      "Iteration: 65  Score: 105.0 Fitness: 0.0952\n",
      "Iteration: 66  Score: 141.0 Fitness: 0.0709\n",
      "Iteration: 67  Score: 173.0 Fitness: 0.0578\n",
      "Iteration: 68  Score: 141.0 Fitness: 0.0709\n",
      "Iteration: 69  Score: 149.0 Fitness: 0.0671\n",
      "Iteration: 70  Score: 207.0 Fitness: 0.0483\n",
      "Iteration: 71  Score: 231.0 Fitness: 0.0433\n",
      "Iteration: 72  Score: 333.0 Fitness: 0.0300\n",
      "Iteration: 73  Score: 210.0 Fitness: 0.0476\n",
      "Iteration: 74  Score: 273.0 Fitness: 0.0366\n",
      "Iteration: 75  Score: 202.0 Fitness: 0.0495\n",
      "Iteration: 76  Score: 250.0 Fitness: 0.0400\n",
      "Iteration: 77  Score: 218.0 Fitness: 0.0459\n",
      "Iteration: 78  Score: 185.0 Fitness: 0.0541\n",
      "Iteration: 79  Score: 234.0 Fitness: 0.0427\n",
      "Iteration: 80  Score: 339.0 Fitness: 0.0295\n",
      "Iteration: 81  Score: 409.0 Fitness: 0.0244\n",
      "Iteration: 82  Score: 300.0 Fitness: 0.0333\n",
      "Iteration: 83  Score: 416.0 Fitness: 0.0240\n",
      "Iteration: 84  Score: 308.0 Fitness: 0.0325\n",
      "Iteration: 85  Score: 219.0 Fitness: 0.0457\n",
      "Iteration: 86  Score: 365.0 Fitness: 0.0274\n",
      "Iteration: 87  Score: 245.0 Fitness: 0.0408\n",
      "Iteration: 88  Score: 293.0 Fitness: 0.0341\n",
      "Iteration: 89  Score: 291.0 Fitness: 0.0344\n",
      "Iteration: 90  Score: 327.0 Fitness: 0.0306\n",
      "Iteration: 91  Score: 281.0 Fitness: 0.0356\n",
      "Iteration: 92  Score: 364.0 Fitness: 0.0275\n",
      "Iteration: 93  Score: 284.0 Fitness: 0.0352\n",
      "Iteration: 94  Score: 157.0 Fitness: 0.0637\n",
      "Iteration: 95  Score: 276.0 Fitness: 0.0362\n",
      "Iteration: 96  Score: 226.0 Fitness: 0.0442\n",
      "Iteration: 97  Score: 245.0 Fitness: 0.0408\n",
      "Iteration: 98  Score: 283.0 Fitness: 0.0353\n",
      "Iteration: 99  Score: 235.0 Fitness: 0.0426\n"
     ]
    }
   ],
   "source": [
    "itr, dqnValues = runDQN(DQNSolver(observation_space, action_space))"
   ]
  },
  {
   "cell_type": "code",
   "execution_count": 26,
   "metadata": {},
   "outputs": [
    {
     "data": {
      "image/png": "[encoded data removed]",
      "text/plain": [
       "<Figure size 432x288 with 1 Axes>"
      ]
     },
     "metadata": {
      "needs_background": "light"
     },
     "output_type": "display_data"
    }
   ],
   "source": [
    "plt.plot(itr, dqnValues, label='CartPole DQN')\n",
    "\n",
    "plt.legend(loc='upper right')\n",
    "plt.xlabel('Iterations')\n",
    "plt.ylabel('Fitness')\n",
    "plt.title('Cartpole Deep Q Network - Fitness Plot')\n",
    "\n",
    "plt.show()"
   ]
  },
  {
   "cell_type": "markdown",
   "metadata": {},
   "source": [
    "## Conclusion"
   ]
  },
  {
   "cell_type": "markdown",
   "metadata": {},
   "source": [
    "##### Plot of learning curve of ABC vs DQN"
   ]
  },
  {
   "cell_type": "code",
   "execution_count": 27,
   "metadata": {},
   "outputs": [
    {
     "data": {
      "image/png": "[encoded data removed]",
      "text/plain": [
       "<Figure size 432x288 with 1 Axes>"
      ]
     },
     "metadata": {
      "needs_background": "light"
     },
     "output_type": "display_data"
    }
   ],
   "source": [
    "plt.plot(itr, dqnValues, label='CartPole DQN')\n",
    "plt.plot(itrations, values, label='CartPole ABC')\n",
    "\n",
    "plt.legend(loc='upper right')\n",
    "plt.xlabel('Iterations')\n",
    "plt.ylabel('Fitness')\n",
    "plt.title('Fitness Comparison - DQN vs ABC')\n",
    "\n",
    "plt.show()"
   ]
  },
  {
   "cell_type": "markdown",
   "metadata": {},
   "source": [
    "We see that ABC Algorithm converges faster than the Neural Network model using backpropagation. Also ABC Algorithm Neural Network Model gets better score than the DQN Neural Network model. "
   ]
  }
 ],
 "metadata": {
  "accelerator": "GPU",
  "colab": {
   "collapsed_sections": [],
   "name": "CartPole-ABC.ipynb",
   "provenance": [],
   "version": "0.3.2"
  },
  "kernelspec": {
   "display_name": "Python 3",
   "language": "python",
   "name": "python3"
  },
  "language_info": {
   "codemirror_mode": {
    "name": "ipython",
    "version": 3
   },
   "file_extension": ".py",
   "mimetype": "text/x-python",
   "name": "python",
   "nbconvert_exporter": "python",
   "pygments_lexer": "ipython3",
   "version": "3.9.5"
  }
 },
 "nbformat": 4,
 "nbformat_minor": 1
}
