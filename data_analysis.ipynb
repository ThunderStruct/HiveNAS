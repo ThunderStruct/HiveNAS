{
 "cells": [
  {
   "cell_type": "markdown",
   "id": "cd609861",
   "metadata": {},
   "source": [
    "### Libraries"
   ]
  },
  {
   "cell_type": "code",
   "execution_count": 1,
   "id": "93f54c94",
   "metadata": {
    "ExecuteTime": {
     "end_time": "2022-10-01T11:43:08.845603Z",
     "start_time": "2022-10-01T11:43:07.457086Z"
    }
   },
   "outputs": [],
   "source": [
    "import re\n",
    "import os\n",
    "import pickle\n",
    "import numpy as np\n",
    "import pandas as pd\n",
    "import plotly.express as px\n",
    "import plotly.graph_objects as go\n",
    "from matplotlib import pyplot as plt\n",
    "pd.options.plotting.backend = \"matplotlib\""
   ]
  },
  {
   "cell_type": "markdown",
   "id": "55967e95",
   "metadata": {},
   "source": [
    "### Macros"
   ]
  },
  {
   "cell_type": "markdown",
   "id": "5ca6ced3",
   "metadata": {},
   "source": [
    "#### File-Handling Macros"
   ]
  },
  {
   "cell_type": "code",
   "execution_count": 2,
   "id": "afc741b8",
   "metadata": {
    "ExecuteTime": {
     "end_time": "2022-10-01T11:43:08.854569Z",
     "start_time": "2022-10-01T11:43:08.848486Z"
    }
   },
   "outputs": [],
   "source": [
    "''' Input/Output file related macros '''\n",
    "\n",
    "CONFIG_VERSION_1 = 'hivenas_a'\n",
    "CONFIG_VERSION_2 = 'hivenas_aug_a'\n",
    "RESULTS_PATH = './res/archived results/'\n",
    "ANALYSIS_RESULTS_PATH = './analysis/images/'\n",
    "\n",
    "if not os.path.exists(ANALYSIS_RESULTS_PATH):\n",
    "    os.makedirs(ANALYSIS_RESULTS_PATH)\n",
    "    \n",
    "    \n",
    "def get_file_path(config, file_extension):\n",
    "    ''' Returns relative path for a given filename and configuration version '''\n",
    "    \n",
    "    f_path = os.path.join(RESULTS_PATH, config)\n",
    "    f_path = os.path.join(f_path, config + f'.{file_extension}')\n",
    "    \n",
    "    return f_path\n",
    "\n",
    "\n",
    "def get_all_paths(config, directory, endswith='.pickle'):\n",
    "    ''' Returns a list of paths for all files in a given directory and configuration version '''\n",
    "    \n",
    "    paths = []\n",
    "    root_dir = os.path.join(RESULTS_PATH, config)\n",
    "    root_dir = os.path.join(root_dir, directory)\n",
    "    \n",
    "    for root, dirnames, filenames in os.walk(root_dir):\n",
    "        for filename in filenames:\n",
    "            if filename.endswith(endswith):\n",
    "                paths.append((os.path.join(root, filename), filename))\n",
    "\n",
    "    return paths"
   ]
  },
  {
   "cell_type": "markdown",
   "id": "4cde572c",
   "metadata": {},
   "source": [
    "#### Data Analysis Macros"
   ]
  },
  {
   "cell_type": "code",
   "execution_count": 21,
   "id": "8e2ea5f9",
   "metadata": {
    "ExecuteTime": {
     "end_time": "2022-10-01T11:53:31.697474Z",
     "start_time": "2022-10-01T11:53:31.692650Z"
    }
   },
   "outputs": [],
   "source": [
    "''' Data analysis and processing related macros '''\n",
    "def reject_outliers(data, m=1.5):\n",
    "    ''' Prunes data points outside m standard deviations '''\n",
    "    return data[abs(data - np.mean(data)) < m * np.std(data)]\n",
    "\n",
    "TRACE_1_COLOR = 'rgba(230,126,34,1.0)'\n",
    "TRACE_1_DOTTED_COLOR = 'rgba(230,126,34,0.5)'\n",
    "TRACE_2_COLOR = 'rgba(52,152,219,1.0)'\n",
    "TRACE_2_DOTTED_COLOR = 'rgba(52,152,219,0.5)'\n",
    "GRID_LINE_COLOR = 'rgba(189,195,199,0.75)'\n",
    "GRID_ZERO_LINE_COLOR = 'rgba(189,195,199,1.0)'\n",
    "PLOT_TEXT_COLOR = 'rgba(44,62,80,1.0)'"
   ]
  },
  {
   "cell_type": "markdown",
   "id": "e43c0765",
   "metadata": {},
   "source": [
    "### Data Structuring and Manipulation"
   ]
  },
  {
   "cell_type": "markdown",
   "id": "58a735e7",
   "metadata": {},
   "source": [
    "#### Log File"
   ]
  },
  {
   "cell_type": "code",
   "execution_count": 4,
   "id": "ebcf02eb",
   "metadata": {
    "ExecuteTime": {
     "end_time": "2022-10-01T11:43:10.325595Z",
     "start_time": "2022-10-01T11:43:08.862767Z"
    },
    "scrolled": true
   },
   "outputs": [
    {
     "name": "stdout",
     "output_type": "stream",
     "text": [
      "                                                  arch  epoch  val_acc  \\\n",
      "0    input|sep5x5_128|sep3x3_32|avg_pool3x3|sep5x5_...      1   0.5441   \n",
      "1    input|sep5x5_128|sep3x3_32|avg_pool3x3|sep5x5_...      2   0.6463   \n",
      "2    input|sep5x5_128|sep3x3_32|avg_pool3x3|sep5x5_...      3   0.6679   \n",
      "3    input|sep5x5_128|sep3x3_32|avg_pool3x3|sep5x5_...      4   0.7018   \n",
      "4    input|sep5x5_128|sep3x3_32|avg_pool3x3|sep5x5_...      5   0.7029   \n",
      "..                                                 ...    ...      ...   \n",
      "310  input|sep5x5_32|sep3x3_32|sep3x3_64|dropout|ou...      1   0.5197   \n",
      "311  input|sep5x5_32|sep3x3_32|sep3x3_64|dropout|ou...      2   0.6027   \n",
      "312  input|sep5x5_32|sep3x3_32|sep3x3_64|dropout|ou...      3   0.6623   \n",
      "313  input|sep5x5_32|sep3x3_32|sep3x3_64|dropout|ou...      4   0.6771   \n",
      "314  input|sep5x5_32|sep3x3_32|sep3x3_64|dropout|ou...      5   0.6753   \n",
      "\n",
      "     val_loss  train_acc  train_loss  eval_idx         type  bee_id  itr  \n",
      "0      1.2490     0.4450      1.5248         0  EmployeeBee       0    1  \n",
      "1      0.9835     0.6092      1.0965         0  EmployeeBee       0    1  \n",
      "2      0.9322     0.6961      0.8636         0  EmployeeBee       0    1  \n",
      "3      0.8695     0.7742      0.6436         0  EmployeeBee       0    1  \n",
      "4      0.9606     0.8500      0.4259         0  EmployeeBee       0    1  \n",
      "..        ...        ...         ...       ...          ...     ...  ...  \n",
      "310    1.3132     0.4524      1.5074        62  OnlookerBee       3    9  \n",
      "311    1.0934     0.6079      1.1020        62  OnlookerBee       3    9  \n",
      "312    0.9499     0.7002      0.8517        62  OnlookerBee       3    9  \n",
      "313    0.9680     0.7855      0.6104        62  OnlookerBee       3    9  \n",
      "314    1.0678     0.8734      0.3685        62  OnlookerBee       3    9  \n",
      "\n",
      "[315 rows x 10 columns] \n",
      "\n",
      "\n",
      "                                                  arch  epoch  val_acc  \\\n",
      "0    input|batch_norm|sep3x3_32|batch_norm|avg_pool...      1   0.3794   \n",
      "1    input|batch_norm|sep3x3_32|batch_norm|avg_pool...      2   0.5201   \n",
      "2    input|batch_norm|sep3x3_32|batch_norm|avg_pool...      3   0.5328   \n",
      "3    input|batch_norm|sep3x3_32|batch_norm|avg_pool...      4   0.5690   \n",
      "4    input|batch_norm|sep3x3_32|batch_norm|avg_pool...      5   0.5900   \n",
      "..                                                 ...    ...      ...   \n",
      "271  input|sep3x3_32|avg_pool3x3|sep3x3_128|batch_n...      2   0.4216   \n",
      "272  input|sep3x3_32|avg_pool3x3|sep3x3_128|batch_n...      3   0.5302   \n",
      "273  input|sep3x3_32|avg_pool3x3|sep3x3_128|batch_n...      4   0.5580   \n",
      "274  input|sep3x3_32|avg_pool3x3|sep3x3_128|batch_n...      5   0.5697   \n",
      "275  input|sep5x5_128|avg_pool3x3|sep3x3_128|batch_...      1   0.1602   \n",
      "\n",
      "     val_loss  train_acc  train_loss  eval_idx         type  bee_id  itr  \n",
      "0      1.8182     0.3638      2.0736         0  EmployeeBee       0    1  \n",
      "1      1.3720     0.4797      1.4564         0  EmployeeBee       0    1  \n",
      "2      1.3144     0.5339      1.3197         0  EmployeeBee       0    1  \n",
      "3      1.2319     0.5621      1.2383         0  EmployeeBee       0    1  \n",
      "4      1.1706     0.5844      1.1760         0  EmployeeBee       0    1  \n",
      "..        ...        ...         ...       ...          ...     ...  ...  \n",
      "271    1.6789     0.5089      1.3740        54  OnlookerBee       2    8  \n",
      "272    1.3504     0.5594      1.2446        54  OnlookerBee       2    8  \n",
      "273    1.2675     0.5889      1.1623        54  OnlookerBee       2    8  \n",
      "274    1.2411     0.6136      1.0972        54  OnlookerBee       2    8  \n",
      "275    2.1773     0.4276      1.6165        55  OnlookerBee       3    8  \n",
      "\n",
      "[276 rows x 10 columns]\n"
     ]
    }
   ],
   "source": [
    "def get_log_df(config):\n",
    "    ''' Loads and structures a log file (raw) into a DF '''\n",
    "    \n",
    "    # Get raw file str\n",
    "    f_path = get_file_path(config, 'log')\n",
    "    \n",
    "    raw_file = ''\n",
    "    \n",
    "    with open(f_path) as f:\n",
    "        for line in f:\n",
    "            raw_file += line\n",
    "\n",
    "    # Extract evaluation logs by tag\n",
    "    evals = raw_file.split('EVALUATION LOG:')\n",
    "    evals.pop(0)\n",
    "\n",
    "    log_df = pd.DataFrame()\n",
    "\n",
    "    # Format raw text and populate dataframe\n",
    "    eval_idx = 0\n",
    "    itr = 1\n",
    "    for e in evals:\n",
    "        arch = re.search('(?<=Candidate \\().+?(?=\\))', e).group(0)\n",
    "        val_acc = re.findall('(?<=val_sparse_categorical_accuracy: )[0-9]+\\.[0-9]+', e)\n",
    "        val_loss = re.findall('(?<=val_loss: )[0-9]+\\.[0-9]+', e)\n",
    "        train_acc = re.findall('(?<= sparse_categorical_accuracy: )[0-9]+\\.[0-9]+', e)\n",
    "        train_loss = re.findall('(?<= loss: )[0-9]+\\.[0-9]+', e)\n",
    "\n",
    "        for i in range(len(val_acc)):\n",
    "            series = pd.Series({\n",
    "                'arch': arch,\n",
    "                'epoch': i + 1,\n",
    "                'val_acc': val_acc[i],\n",
    "                'val_loss': val_loss[i],\n",
    "                'train_acc': train_acc[i],\n",
    "                'train_loss': train_loss[i],\n",
    "                'eval_idx': int(eval_idx),\n",
    "                'type': e.split(' ')[1],\n",
    "                'bee_id': int(e.split(' ')[3].strip('()')),\n",
    "                'itr': int(itr)\n",
    "            })\n",
    "            log_df = log_df.append(series, ignore_index=True)\n",
    "\n",
    "        eval_idx += 1\n",
    "\n",
    "        if e.find('itr: ') != -1:\n",
    "            itr += 1\n",
    "\n",
    "    # Standardize types\n",
    "    keys_int = ['itr', 'bee_id', 'eval_idx', 'epoch']\n",
    "    keys_float = ['val_acc', 'val_loss', 'train_acc', 'train_loss']\n",
    "\n",
    "    for key in keys_int:\n",
    "        log_df[key] = log_df[key].astype(int)\n",
    "\n",
    "    for key in keys_float:\n",
    "        log_df[key] = log_df[key].astype(float)\n",
    "\n",
    "    return log_df\n",
    "\n",
    "log_df_a = get_log_df(CONFIG_VERSION_1)\n",
    "log_df_b = get_log_df(CONFIG_VERSION_2)\n",
    "\n",
    "print(log_df_a, '\\n\\n')\n",
    "print(log_df_b)"
   ]
  },
  {
   "cell_type": "markdown",
   "id": "19eb1570",
   "metadata": {},
   "source": [
    "#### Main Results File"
   ]
  },
  {
   "cell_type": "code",
   "execution_count": 5,
   "id": "287c4e09",
   "metadata": {
    "ExecuteTime": {
     "end_time": "2022-10-01T11:43:10.362103Z",
     "start_time": "2022-10-01T11:43:10.328007Z"
    }
   },
   "outputs": [
    {
     "name": "stdout",
     "output_type": "stream",
     "text": [
      "       bee_type  bee_id bee_parent  itr  \\\n",
      "0   EmployeeBee     0.0          -  0.0   \n",
      "1   EmployeeBee     1.0          -  0.0   \n",
      "2   EmployeeBee     2.0          -  0.0   \n",
      "3   OnlookerBee     0.0          0  0.0   \n",
      "4   OnlookerBee     1.0          0  0.0   \n",
      "..          ...     ...        ...  ...   \n",
      "58  EmployeeBee     2.0          -  8.0   \n",
      "59  OnlookerBee     0.0          1  8.0   \n",
      "60  OnlookerBee     1.0          2  8.0   \n",
      "61  OnlookerBee     2.0          2  8.0   \n",
      "62  OnlookerBee     3.0          0  8.0   \n",
      "\n",
      "                                            candidate  fitness  \\\n",
      "0   input|sep5x5_128|sep3x3_32|avg_pool3x3|sep5x5_...   0.7100   \n",
      "1   input|dropout|sep5x5_128|sep5x5_128|sep3x3_128...   0.6957   \n",
      "2   input|sep5x5_32|sep3x3_32|sep5x5_128|sep5x5_12...   0.6742   \n",
      "3   input|sep3x3_64|sep3x3_32|avg_pool3x3|sep5x5_1...   0.7034   \n",
      "4   input|sep5x5_128|sep3x3_32|avg_pool3x3|avg_poo...   0.7125   \n",
      "..                                                ...      ...   \n",
      "58  input|sep5x5_128|sep5x5_64|sep5x5_32|sep5x5_32...   0.6836   \n",
      "59  input|sep5x5_64|sep3x3_128|sep5x5_128|sep3x3_1...   0.6896   \n",
      "60  input|sep5x5_128|sep3x3_64|sep5x5_32|sep5x5_32...   0.6895   \n",
      "61  input|max_pool3x3|sep3x3_64|sep5x5_32|sep5x5_3...   0.7040   \n",
      "62  input|sep5x5_32|sep3x3_32|sep3x3_64|dropout|ou...   0.6717   \n",
      "\n",
      "    center_fitness  epochs       params  \\\n",
      "0           0.7100     5.0  118512042.0   \n",
      "1           0.6957     5.0  118539114.0   \n",
      "2           0.6742     5.0  118524650.0   \n",
      "3           0.7100     5.0  118506794.0   \n",
      "4           0.7125     5.0   30033418.0   \n",
      "..             ...     ...          ...   \n",
      "58          0.6836     5.0   30045130.0   \n",
      "59          0.6975     5.0  118545898.0   \n",
      "60          0.6895     5.0   30043082.0   \n",
      "61          0.7040     5.0   30031050.0   \n",
      "62          0.6717     5.0   59519914.0   \n",
      "\n",
      "                               weights_filename        time  \n",
      "0   07ed2f8dad8f13696d9e744bd2cee462ce1aeb5e.h5   96.206304  \n",
      "1   358a49e299a35d9c323b54943b8db3b3439d6eee.h5   93.934911  \n",
      "2   274b18d5fd5aaaabf71fec8e61a5ff944d88cad1.h5   85.121949  \n",
      "3   b0f90cbfb47656ed8b26f980b761c416b3e88b41.h5   78.242229  \n",
      "4   ef3753a581827723cea745e79ef46216b2ad953c.h5   40.846144  \n",
      "..                                          ...         ...  \n",
      "58  af094395751a105a0569012637117c6fc43cdbf9.h5   86.176310  \n",
      "59  3bf8953cf9688754d6ba94daa70066b91641fc13.h5  101.271654  \n",
      "60  212ffbd58b915d50d088de3c25a6aca99ab1a904.h5   54.087123  \n",
      "61  413535c7389f4fcd946639a5c7b811373db4c0bd.h5   45.860370  \n",
      "62  e309ee60a47d8de63e04c2e517b9bded39168ee2.h5   48.611340  \n",
      "\n",
      "[63 rows x 11 columns] \n",
      "\n",
      "        bee_type  bee_id bee_parent  itr  \\\n",
      "0   EmployeeBee     0.0          -  0.0   \n",
      "1   EmployeeBee     1.0          -  0.0   \n",
      "2   EmployeeBee     2.0          -  0.0   \n",
      "3   OnlookerBee     0.0          0  0.0   \n",
      "4   OnlookerBee     1.0          0  0.0   \n",
      "5   OnlookerBee     2.0          1  0.0   \n",
      "6   OnlookerBee     3.0          2  0.0   \n",
      "7   EmployeeBee     0.0          -  1.0   \n",
      "8   EmployeeBee     1.0          -  1.0   \n",
      "9   EmployeeBee     2.0          -  1.0   \n",
      "10  OnlookerBee     0.0          2  1.0   \n",
      "11  OnlookerBee     1.0          0  1.0   \n",
      "12  OnlookerBee     2.0          2  1.0   \n",
      "13  OnlookerBee     3.0          0  1.0   \n",
      "14  EmployeeBee     0.0          -  2.0   \n",
      "15  EmployeeBee     1.0          -  2.0   \n",
      "16  EmployeeBee     2.0          -  2.0   \n",
      "17  OnlookerBee     0.0          1  2.0   \n",
      "18  OnlookerBee     1.0          2  2.0   \n",
      "19  OnlookerBee     2.0          2  2.0   \n",
      "20  OnlookerBee     3.0          1  2.0   \n",
      "21  EmployeeBee     0.0          -  3.0   \n",
      "22  EmployeeBee     1.0          -  3.0   \n",
      "23  EmployeeBee     2.0          -  3.0   \n",
      "24  OnlookerBee     0.0          2  3.0   \n",
      "25  OnlookerBee     1.0          1  3.0   \n",
      "26  OnlookerBee     2.0          0  3.0   \n",
      "27  OnlookerBee     3.0          0  3.0   \n",
      "28  EmployeeBee     0.0          -  4.0   \n",
      "29  EmployeeBee     1.0          -  4.0   \n",
      "30  EmployeeBee     2.0          -  4.0   \n",
      "31  OnlookerBee     0.0          2  4.0   \n",
      "32  OnlookerBee     1.0          2  4.0   \n",
      "33  OnlookerBee     2.0          1  4.0   \n",
      "34  OnlookerBee     3.0          2  4.0   \n",
      "35  EmployeeBee     0.0          -  5.0   \n",
      "36  EmployeeBee     1.0          -  5.0   \n",
      "37  EmployeeBee     2.0          -  5.0   \n",
      "38  OnlookerBee     0.0          0  5.0   \n",
      "39  OnlookerBee     1.0          1  5.0   \n",
      "40  OnlookerBee     2.0          0  5.0   \n",
      "41  OnlookerBee     3.0          2  5.0   \n",
      "42  EmployeeBee     0.0          -  6.0   \n",
      "43  EmployeeBee     1.0          -  6.0   \n",
      "44  EmployeeBee     2.0          -  6.0   \n",
      "45  OnlookerBee     0.0          1  6.0   \n",
      "46  OnlookerBee     1.0          0  6.0   \n",
      "47  OnlookerBee     2.0          0  6.0   \n",
      "48  OnlookerBee     3.0          0  6.0   \n",
      "49  EmployeeBee     0.0          -  7.0   \n",
      "50  EmployeeBee     1.0          -  7.0   \n",
      "51  EmployeeBee     2.0          -  7.0   \n",
      "52  OnlookerBee     0.0          1  7.0   \n",
      "53  OnlookerBee     1.0          2  7.0   \n",
      "54  OnlookerBee     2.0          2  7.0   \n",
      "\n",
      "                                            candidate  fitness  \\\n",
      "0   input|batch_norm|sep3x3_32|batch_norm|avg_pool...   0.6446   \n",
      "1   input|max_pool3x3|sep5x5_64|sep5x5_128|avg_poo...   0.6796   \n",
      "2   input|batch_norm|batch_norm|avg_pool3x3|max_po...   0.5839   \n",
      "3   input|batch_norm|sep3x3_32|sep5x5_128|avg_pool...   0.6564   \n",
      "4   input|dropout|sep3x3_32|sep5x5_128|avg_pool3x3...   0.6838   \n",
      "5   input|sep3x3_32|sep5x5_64|sep5x5_128|avg_pool3...   0.6891   \n",
      "6   input|batch_norm|batch_norm|sep3x3_32|max_pool...   0.6185   \n",
      "7   input|sep5x5_128|sep5x5_128|sep3x3_64|sep3x3_6...   0.6514   \n",
      "8   input|sep5x5_64|sep5x5_64|sep5x5_128|avg_pool3...   0.6824   \n",
      "9   input|sep5x5_128|batch_norm|sep3x3_32|max_pool...   0.6187   \n",
      "10  input|sep5x5_128|batch_norm|sep3x3_32|avg_pool...   0.6629   \n",
      "11  input|sep5x5_128|avg_pool3x3|sep3x3_64|sep3x3_...   0.6487   \n",
      "12  input|sep5x5_128|dropout|sep3x3_32|avg_pool3x3...   0.6425   \n",
      "13  input|sep5x5_128|sep5x5_128|avg_pool3x3|sep3x3...   0.6741   \n",
      "14  input|avg_pool3x3|max_pool3x3|batch_norm|sep3x...   0.6456   \n",
      "15  input|dropout|dropout|max_pool3x3|batch_norm|o...   0.5944   \n",
      "16  input|sep5x5_128|sep5x5_32|sep5x5_128|sep3x3_6...   0.6480   \n",
      "17  input|dropout|dropout|sep3x3_32|batch_norm|output   0.5505   \n",
      "18  input|sep5x5_128|sep3x3_64|sep5x5_128|sep3x3_6...   0.6433   \n",
      "19  input|sep5x5_128|sep5x5_32|sep5x5_32|sep3x3_64...   0.5745   \n",
      "20  input|avg_pool3x3|dropout|max_pool3x3|batch_no...   0.5631   \n",
      "21  input|avg_pool3x3|max_pool3x3|avg_pool3x3|sep3...   0.6512   \n",
      "22  input|avg_pool3x3|avg_pool3x3|sep3x3_32|sep5x5...   0.6465   \n",
      "23  input|sep3x3_32|sep3x3_64|avg_pool3x3|sep5x5_6...   0.6443   \n",
      "24  input|sep3x3_32|sep5x5_32|avg_pool3x3|sep5x5_6...   0.6433   \n",
      "25  input|max_pool3x3|avg_pool3x3|sep3x3_32|sep5x5...   0.6575   \n",
      "26  input|avg_pool3x3|sep5x5_32|avg_pool3x3|sep3x3...   0.6549   \n",
      "27  input|avg_pool3x3|sep5x5_32|avg_pool3x3|max_po...   0.6373   \n",
      "28  input|avg_pool3x3|sep3x3_64|batch_norm|sep5x5_...   0.6196   \n",
      "29  input|max_pool3x3|avg_pool3x3|sep3x3_32|sep3x3...   0.6864   \n",
      "30  input|sep3x3_32|sep3x3_64|avg_pool3x3|sep5x5_1...   0.6848   \n",
      "31  input|sep3x3_32|sep3x3_64|sep3x3_32|sep5x5_128...   0.6349   \n",
      "32  input|sep3x3_32|sep3x3_64|avg_pool3x3|max_pool...   0.6806   \n",
      "33  input|sep5x5_128|avg_pool3x3|sep3x3_32|sep3x3_...   0.6545   \n",
      "34  input|sep3x3_128|sep3x3_64|avg_pool3x3|sep5x5_...   0.6859   \n",
      "35  input|avg_pool3x3|sep3x3_32|batch_norm|sep5x5_...   0.6049   \n",
      "36  input|sep5x5_128|max_pool3x3|sep3x3_32|sep5x5_...   0.6411   \n",
      "37  input|sep3x3_64|sep5x5_64|sep3x3_64|avg_pool3x...   0.6863   \n",
      "38  input|avg_pool3x3|sep3x3_64|sep3x3_128|sep5x5_...   0.6502   \n",
      "39  input|sep5x5_128|max_pool3x3|sep5x5_64|sep5x5_...   0.6908   \n",
      "40  input|sep3x3_32|sep3x3_64|sep3x3_128|sep5x5_32...   0.1000   \n",
      "41  input|sep5x5_32|sep5x5_64|sep3x3_64|avg_pool3x...   0.6636   \n",
      "42  input|sep3x3_32|dropout|sep5x5_128|sep3x3_32|o...   0.6025   \n",
      "43  input|sep3x3_64|max_pool3x3|sep5x5_64|sep5x5_6...   0.7025   \n",
      "44  input|sep3x3_64|sep5x5_64|sep3x3_64|sep3x3_64|...   0.6509   \n",
      "45  input|sep3x3_64|avg_pool3x3|sep5x5_64|sep5x5_6...   0.6666   \n",
      "46  input|sep5x5_128|dropout|sep5x5_128|sep3x3_32|...   0.6558   \n",
      "47  input|sep5x5_64|dropout|sep5x5_128|sep3x3_32|o...   0.6606   \n",
      "48  input|sep5x5_64|sep5x5_128|sep5x5_128|sep3x3_3...   0.1000   \n",
      "49  input|avg_pool3x3|sep3x3_128|dropout|sep3x3_64...   0.6774   \n",
      "50  input|sep5x5_64|sep3x3_64|max_pool3x3|sep5x5_1...   0.7104   \n",
      "51  input|batch_norm|avg_pool3x3|sep5x5_64|batch_n...   0.6273   \n",
      "52  input|max_pool3x3|sep3x3_64|max_pool3x3|sep5x5...   0.7085   \n",
      "53  input|batch_norm|avg_pool3x3|sep3x3_128|batch_...   0.6549   \n",
      "54  input|sep3x3_32|avg_pool3x3|sep3x3_128|batch_n...   0.6329   \n",
      "\n",
      "    center_fitness  epochs       params  \\\n",
      "0           0.6446     5.0   30024586.0   \n",
      "1           0.6796     5.0  118509546.0   \n",
      "2           0.5839     5.0   30023242.0   \n",
      "3           0.6564     5.0  118503146.0   \n",
      "4           0.6838     5.0  118503082.0   \n",
      "5           0.6891     5.0  118510890.0   \n",
      "6           0.6185     5.0   30024586.0   \n",
      "7           0.6514     5.0   59553194.0   \n",
      "8           0.6891     5.0  118515306.0   \n",
      "9           0.6187     5.0   30033674.0   \n",
      "10          0.6629     5.0   30033674.0   \n",
      "11          0.6514     5.0   59533482.0   \n",
      "12          0.6629     5.0   30033418.0   \n",
      "13          0.6741     5.0   59548458.0   \n",
      "14          0.6456     5.0   59516778.0   \n",
      "15          0.5944     5.0   30023178.0   \n",
      "16          0.6480     5.0   59541098.0   \n",
      "17          0.5944     5.0   30024522.0   \n",
      "18          0.6480     5.0   59548074.0   \n",
      "19          0.6480     5.0   59530922.0   \n",
      "20          0.5944     5.0   30023178.0   \n",
      "21          0.6512     5.0   59516714.0   \n",
      "22          0.6465     5.0   59518570.0   \n",
      "23          0.6443     5.0   59523818.0   \n",
      "24          0.6443     5.0   59520426.0   \n",
      "25          0.6575     5.0   59518570.0   \n",
      "26          0.6549     5.0   59518570.0   \n",
      "27          0.6549     5.0   30024970.0   \n",
      "28          0.6196     5.0   30029322.0   \n",
      "29          0.6864     5.0   59518058.0   \n",
      "30          0.6848     5.0  118510378.0   \n",
      "31          0.6848     5.0  118508138.0   \n",
      "32          0.6848     5.0   59518058.0   \n",
      "33          0.6864     5.0   59527018.0   \n",
      "34          0.6859     5.0  118520554.0   \n",
      "35          0.6196     5.0   30026378.0   \n",
      "36          0.6411     5.0   59527530.0   \n",
      "37          0.6863     5.0   59527210.0   \n",
      "38          0.6502     5.0   30041738.0   \n",
      "39          0.6908     5.0   59536554.0   \n",
      "40          0.6502     5.0   30043082.0   \n",
      "41          0.6863     5.0   59523818.0   \n",
      "42          0.6025     5.0   30034762.0   \n",
      "43          0.7025     5.0   59528234.0   \n",
      "44          0.6863     5.0   59531946.0   \n",
      "45          0.7025     5.0   59528234.0   \n",
      "46          0.6558     5.0   30053130.0   \n",
      "47          0.6606     5.0   30041226.0   \n",
      "48          0.6606     5.0   30060938.0   \n",
      "49          0.6774     5.0   59528234.0   \n",
      "50          0.7104     5.0  118514282.0   \n",
      "51          0.6273     5.0   59517418.0   \n",
      "52          0.7104     5.0  118509034.0   \n",
      "53          0.6549     5.0  118501546.0   \n",
      "54          0.6549     5.0  118502826.0   \n",
      "\n",
      "                               weights_filename        time  \n",
      "0   32c3fca69256adcd9aa276a5702a4fb5d4bab0fe.h5  491.283278  \n",
      "1   55d1afc19d4761bfc777a9fe069fd61521c11e79.h5  571.760044  \n",
      "2   a95d3a96acbd8f9c70d292bb327f2f3534f4b8df.h5  475.167964  \n",
      "3   fc2dff3e21b0928f70d6fb6cd0705b727e55b473.h5  562.365418  \n",
      "4   bf91dbd3699420675b8228e22d4e0d70fd5d2bbc.h5  564.413740  \n",
      "5   de758b283e91ac5c105e8fce7a1e756d90a6314c.h5  572.273328  \n",
      "6   57a6d1f6aa595bec5670e8bb8de6457859069dae.h5  490.837241  \n",
      "7   f25247edde6b6ab9016426b5578848e92372271d.h5  561.964891  \n",
      "8   1f3cc5d502e11890d8d386efc309b8601570dcc9.h5  561.369545  \n",
      "9   dbc42a0244211eb7ec9ffbebdeb44b21256a7962.h5  544.944599  \n",
      "10  2ecb05202a4650c9144791b1e577a81b5e1d1fab.h5  502.744812  \n",
      "11  e3b3c964b025f59bc72a407e231542f183f86fff.h5  576.662743  \n",
      "12  5d36d79c09d08aecc0f05d36ee124e089b965b5c.h5  506.993499  \n",
      "13  76e4348fb01c51e3b91ef637abe23df550c5391a.h5  562.010241  \n",
      "14  49f5a6d225bea3aa5f633eb8bd6ddcd12b1123fa.h5  502.487531  \n",
      "15  e7c2598d2e10454b21d25b0cfd331c851cce93aa.h5  518.304655  \n",
      "16  1796d4a4f7a517297ea944a776d80845da48a251.h5  565.161656  \n",
      "17  1cedd74b90ff9cddca9c2c1b6bac2b281be3afc2.h5  475.791544  \n",
      "18  4f97d2063b8d677f2b0e6d20cb9344c1a1c29fd5.h5  598.336939  \n",
      "19  a1141a18d223ce4d57efcaf2467c5bb793875fa4.h5  555.544686  \n",
      "20  3b35d638b176688eca6ae714dcab4c604e38d4ed.h5  476.601184  \n",
      "21  f1024d0f384bf31860fe1b5ab34c6fd7c803a31f.h5  505.479479  \n",
      "22  eb962abfb373b689adf43ed51f4aa01630f7a4f5.h5  554.460073  \n",
      "23  0782032c5ac3f5b68dc50aee90560af7d3e9e51a.h5  525.605567  \n",
      "24  97370d5ec9f3aca2766bc9c6160efbab0f7e5e32.h5  516.924654  \n",
      "25  16b6cc7844be8ba774d821744e6f66142ede54b9.h5  554.354534  \n",
      "26  e43db405f309e59324ca7a773a8a2b9a8d81f152.h5  518.135725  \n",
      "27  477ca39d44f10a7c3e5176bd389264ced461d766.h5  532.947274  \n",
      "28  2b52d11831ae5d842bf82c6fbc98cda40743e15c.h5  544.266153  \n",
      "29  fc7d8ff0b7c31f15a1b5acb923c7e3dccb83daa1.h5  555.362653  \n",
      "30  ef973d4a39dc681cf0309b60ff1a07fbfb71e1b0.h5  573.487330  \n",
      "31  d82dcfb618fd5e5679a0c42e41f7d7e26e068237.h5  628.803307  \n",
      "32  862255d83a70dacb77ae1670050521b94d5202c9.h5  518.042774  \n",
      "33  bbaed37c8c634665efff4896f5a6e516358e087a.h5  542.900492  \n",
      "34  2014d69697875d16fe2b21c5d689e7e1a1c9fb4b.h5  600.704533  \n",
      "35  41b08cfee0da971e5a171dca57eeb2fd055d4e3f.h5  578.588933  \n",
      "36  d8fe8ddefe5077602d6ede8ef2a9f9393f8d81f6.h5  578.772843  \n",
      "37  5b196672b5fe748d2d5679b88ffef1aa41d1eebb.h5  537.151249  \n",
      "38  38d0d9ad2875c870bc52736232012750772f2c4f.h5  564.767806  \n",
      "39  0c483a3ee13c51b03ae561b52faf661b070bc3cf.h5  596.795196  \n",
      "40  8f690ba51bdbf943d3630986614fc0ebbf2f433b.h5  569.052265  \n",
      "41  52741838813c51fae631c69d098d226c218d0950.h5  603.385893  \n",
      "42  af2b26d24a40350760a6afe080e6bf89b34964f6.h5  553.245742  \n",
      "43  d72f991137c6e355cb9484cb73990fe16c9f1ef1.h5  542.754013  \n",
      "44  a1f29bd27ebcb45f0a47f6b3d38d308c320b756c.h5  546.138469  \n",
      "45  69ecfb2d139e20eb74e169f76d77ea106843d956.h5  577.424036  \n",
      "46  4302e820efdc6f6869cd30388f4848cf01801184.h5  583.344598  \n",
      "47  71c96d6ae3603733337027e74f6107260d8ee69f.h5  528.265102  \n",
      "48  27a6637ebff210c649d32498d75ca00b73c1f9e8.h5  622.995689  \n",
      "49  9d3c73c9cdcbe89d71962b3702304b2299d97212.h5  608.724204  \n",
      "50  07d2251322ab964d5b2d1a1c4d546a9705bbdc26.h5  632.880053  \n",
      "51  1132551764f79e9c99a4e7f9d3b1da635d4423b2.h5  555.858394  \n",
      "52  6306985c4670e87e8c4d3fc7462389bd895723f4.h5  601.436742  \n",
      "53  49caa85ea7fdccc009ea9330943769c48e03da60.h5  562.490170  \n",
      "54  9eb8793c59331b783cdc06ca92ad0aebe8eb2a4f.h5  626.014266  \n"
     ]
    }
   ],
   "source": [
    "main_df_a = pd.read_csv(get_file_path(CONFIG_VERSION_1, 'csv'), header=0, index_col=0)\n",
    "main_df_b = pd.read_csv(get_file_path(CONFIG_VERSION_2, 'csv'), header=0, index_col=0)\n",
    "\n",
    "print(main_df_a, '\\n\\n', main_df_b)"
   ]
  },
  {
   "cell_type": "markdown",
   "id": "07db6c9c",
   "metadata": {},
   "source": [
    "#### Training History Files"
   ]
  },
  {
   "cell_type": "code",
   "execution_count": 6,
   "id": "b5f11832",
   "metadata": {
    "ExecuteTime": {
     "end_time": "2022-10-01T11:43:10.754547Z",
     "start_time": "2022-10-01T11:43:10.364688Z"
    }
   },
   "outputs": [
    {
     "name": "stdout",
     "output_type": "stream",
     "text": [
      "     epoch      loss  sparse_categorical_accuracy  val_loss  \\\n",
      "0        1  1.475623                     0.460225  1.460599   \n",
      "1        2  1.059200                     0.617950  0.991109   \n",
      "2        3  0.829793                     0.706475  0.877863   \n",
      "3        4  0.630564                     0.777000  0.873035   \n",
      "4        5  0.410721                     0.855125  0.940298   \n",
      "..     ...       ...                          ...       ...   \n",
      "310      1  2.302844                     0.098825  2.302775   \n",
      "311      2  2.302657                     0.099825  2.302778   \n",
      "312      3  2.302686                     0.098175  2.302868   \n",
      "313      4  2.302672                     0.101575  2.302859   \n",
      "314      5  2.302673                     0.100250  2.302806   \n",
      "\n",
      "     val_sparse_categorical_accuracy  \\\n",
      "0                             0.4674   \n",
      "1                             0.6435   \n",
      "2                             0.6876   \n",
      "3                             0.7061   \n",
      "4                             0.7030   \n",
      "..                               ...   \n",
      "310                           0.0937   \n",
      "311                           0.0937   \n",
      "312                           0.0937   \n",
      "313                           0.0937   \n",
      "314                           0.0937   \n",
      "\n",
      "                                     filename  \\\n",
      "0    b0f90cbfb47656ed8b26f980b761c416b3e88b41   \n",
      "1    b0f90cbfb47656ed8b26f980b761c416b3e88b41   \n",
      "2    b0f90cbfb47656ed8b26f980b761c416b3e88b41   \n",
      "3    b0f90cbfb47656ed8b26f980b761c416b3e88b41   \n",
      "4    b0f90cbfb47656ed8b26f980b761c416b3e88b41   \n",
      "..                                        ...   \n",
      "310  4c572fd57dfefa9181ab365fee5a6853c1082da1   \n",
      "311  4c572fd57dfefa9181ab365fee5a6853c1082da1   \n",
      "312  4c572fd57dfefa9181ab365fee5a6853c1082da1   \n",
      "313  4c572fd57dfefa9181ab365fee5a6853c1082da1   \n",
      "314  4c572fd57dfefa9181ab365fee5a6853c1082da1   \n",
      "\n",
      "                                                  arch  \n",
      "0    input|sep3x3_64|sep3x3_32|avg_pool3x3|sep5x5_1...  \n",
      "1    input|sep3x3_64|sep3x3_32|avg_pool3x3|sep5x5_1...  \n",
      "2    input|sep3x3_64|sep3x3_32|avg_pool3x3|sep5x5_1...  \n",
      "3    input|sep3x3_64|sep3x3_32|avg_pool3x3|sep5x5_1...  \n",
      "4    input|sep3x3_64|sep3x3_32|avg_pool3x3|sep5x5_1...  \n",
      "..                                                 ...  \n",
      "310  input|sep3x3_128|sep5x5_64|sep3x3_64|sep3x3_64...  \n",
      "311  input|sep3x3_128|sep5x5_64|sep3x3_64|sep3x3_64...  \n",
      "312  input|sep3x3_128|sep5x5_64|sep3x3_64|sep3x3_64...  \n",
      "313  input|sep3x3_128|sep5x5_64|sep3x3_64|sep3x3_64...  \n",
      "314  input|sep3x3_128|sep5x5_64|sep3x3_64|sep3x3_64...  \n",
      "\n",
      "[315 rows x 7 columns] \n",
      "\n",
      "      epoch      loss  sparse_categorical_accuracy  val_loss  \\\n",
      "0        1  1.753121                     0.362475  1.579932   \n",
      "1        2  1.446045                     0.482200  1.326587   \n",
      "2        3  1.305201                     0.536300  1.256457   \n",
      "3        4  1.204813                     0.571875  1.143992   \n",
      "4        5  1.127871                     0.602375  1.076566   \n",
      "..     ...       ...                          ...       ...   \n",
      "270      1  2.073587                     0.363800  1.818218   \n",
      "271      2  1.456352                     0.479725  1.371964   \n",
      "272      3  1.319712                     0.533950  1.314375   \n",
      "273      4  1.238253                     0.562100  1.231931   \n",
      "274      5  1.176015                     0.584375  1.170615   \n",
      "\n",
      "     val_sparse_categorical_accuracy  \\\n",
      "0                             0.4259   \n",
      "1                             0.5254   \n",
      "2                             0.5609   \n",
      "3                             0.5881   \n",
      "4                             0.6140   \n",
      "..                               ...   \n",
      "270                           0.3794   \n",
      "271                           0.5201   \n",
      "272                           0.5328   \n",
      "273                           0.5690   \n",
      "274                           0.5900   \n",
      "\n",
      "                                     filename  \\\n",
      "0    1f3cc5d502e11890d8d386efc309b8601570dcc9   \n",
      "1    1f3cc5d502e11890d8d386efc309b8601570dcc9   \n",
      "2    1f3cc5d502e11890d8d386efc309b8601570dcc9   \n",
      "3    1f3cc5d502e11890d8d386efc309b8601570dcc9   \n",
      "4    1f3cc5d502e11890d8d386efc309b8601570dcc9   \n",
      "..                                        ...   \n",
      "270  32c3fca69256adcd9aa276a5702a4fb5d4bab0fe   \n",
      "271  32c3fca69256adcd9aa276a5702a4fb5d4bab0fe   \n",
      "272  32c3fca69256adcd9aa276a5702a4fb5d4bab0fe   \n",
      "273  32c3fca69256adcd9aa276a5702a4fb5d4bab0fe   \n",
      "274  32c3fca69256adcd9aa276a5702a4fb5d4bab0fe   \n",
      "\n",
      "                                                  arch  \n",
      "0    input|sep5x5_64|sep5x5_64|sep5x5_128|avg_pool3...  \n",
      "1    input|sep5x5_64|sep5x5_64|sep5x5_128|avg_pool3...  \n",
      "2    input|sep5x5_64|sep5x5_64|sep5x5_128|avg_pool3...  \n",
      "3    input|sep5x5_64|sep5x5_64|sep5x5_128|avg_pool3...  \n",
      "4    input|sep5x5_64|sep5x5_64|sep5x5_128|avg_pool3...  \n",
      "..                                                 ...  \n",
      "270  input|batch_norm|sep3x3_32|batch_norm|avg_pool...  \n",
      "271  input|batch_norm|sep3x3_32|batch_norm|avg_pool...  \n",
      "272  input|batch_norm|sep3x3_32|batch_norm|avg_pool...  \n",
      "273  input|batch_norm|sep3x3_32|batch_norm|avg_pool...  \n",
      "274  input|batch_norm|sep3x3_32|batch_norm|avg_pool...  \n",
      "\n",
      "[275 rows x 7 columns]\n"
     ]
    }
   ],
   "source": [
    "def get_pickle_df(config, main_df):\n",
    "    ''' Loads and structures training hisotry pickle files '''\n",
    "    \n",
    "    paths = get_all_paths(config, 'training_history')\n",
    "    \n",
    "    # Load pickles into DFs\n",
    "    ret_df = pd.DataFrame()\n",
    "    \n",
    "    for (path, filename) in paths:\n",
    "        pckl = None\n",
    "        with open(path, 'rb') as f:\n",
    "            pckl = pickle.load(f)\n",
    "        temp_df = pd.DataFrame(pckl).reset_index().rename(columns={'index': 'epoch'})\n",
    "        \n",
    "        filename = filename.split('.')[0]\n",
    "        \n",
    "        temp_df['filename'] = filename\n",
    "        temp_df['epoch'] = temp_df['epoch'].apply(lambda e: e+1)\n",
    "        temp_df['arch'] = main_df.loc[main_df['weights_filename'] == filename + '.h5']['candidate'].values[0]\n",
    "        \n",
    "        ret_df = pd.concat([ret_df, temp_df])\n",
    "        \n",
    "    return ret_df.reset_index(drop=True)\n",
    "        \n",
    "# print(main_df_a.loc[main_df_a['weights_filename'] == 'b0f90cbfb47656ed8b26f980b761c416b3e88b41.h5']['candidate'])\n",
    "hist_df_a = get_pickle_df(CONFIG_VERSION_1, main_df_a)\n",
    "hist_df_b = get_pickle_df(CONFIG_VERSION_2, main_df_b)\n",
    "\n",
    "print(hist_df_a, '\\n\\n', hist_df_b)"
   ]
  },
  {
   "cell_type": "markdown",
   "id": "19d3ff4b",
   "metadata": {},
   "source": [
    "### Data Analysis"
   ]
  },
  {
   "cell_type": "markdown",
   "id": "4c8d5a11",
   "metadata": {},
   "source": [
    "#### Augmentation Improvement"
   ]
  },
  {
   "cell_type": "code",
   "execution_count": 32,
   "id": "969939ab",
   "metadata": {
    "ExecuteTime": {
     "end_time": "2022-10-02T20:08:01.112720Z",
     "start_time": "2022-10-02T20:08:00.034054Z"
    }
   },
   "outputs": [
    {
     "data": {
      "application/vnd.plotly.v1+json": {
       "config": {
        "plotlyServerURL": "https://plot.ly"
       },
       "data": [
        {
         "line": {
          "color": "rgba(230,126,34,1.0)"
         },
         "mode": "lines",
         "name": "HiveNAS",
         "type": "scatter",
         "x": [
          0,
          1,
          2,
          3,
          4,
          5,
          6,
          7,
          8,
          9,
          10,
          11,
          12,
          13,
          14,
          15,
          16,
          17,
          18,
          19,
          20,
          21,
          22,
          23,
          24,
          25,
          26,
          27,
          28,
          29,
          30,
          31,
          32,
          33,
          34,
          35,
          36,
          37,
          38,
          39,
          40,
          41,
          42,
          43,
          44,
          45,
          46,
          47,
          48,
          49,
          50
         ],
         "y": [
          -0.03313999176025391,
          -0.06053001284599304,
          -0.050674992799758914,
          -0.04109499454498291,
          -0.008240026235580445,
          -0.04608998894691467,
          -0.025974994897842406,
          -0.0991550087928772,
          -0.03554999828338623,
          -0.020524996519088744,
          -0.07994499802589417,
          -0.05517000555992126,
          -0.05489499568939209,
          -0.009289991855621339,
          -0.035820013284683226,
          0.019454997777938843,
          -0.06088999509811401,
          -0.010300010442733765,
          -0.033625006675720215,
          -0.006030000746250153,
          -0.017755007743835448,
          -0.017694997787475585,
          -0.023055011034011842,
          0.02599998712539673,
          0.017575013637542724,
          0.01515500545501709,
          0.015490007400512696,
          -0.05683499574661255,
          0.004890012741088867,
          -0.04492000341415405,
          -0.041835010051727295,
          -0.05428499579429626,
          -0.014129996299743652,
          -0.027459996938705444,
          0.009290003776550293,
          -0.05165499448776245,
          -0.06020998954772949,
          -0.03527000546455383,
          -0.01594499945640564,
          -0.022319990396499633,
          -0.007964992523193359,
          -0.038220000267028806,
          -0.030865013599395752,
          0.028109979629516602,
          -0.04253999590873718,
          0.004264998435974121,
          0.009699994325637817,
          -0.023259997367858887,
          -0.03392499089241028,
          -0.00018001794815063475,
          0.01711500287055969
         ]
        },
        {
         "line": {
          "color": "rgba(230,126,34,0.5)",
          "dash": "dot"
         },
         "mode": "lines",
         "name": "HiveNAS (mean)",
         "type": "scatter",
         "x": [
          0,
          1,
          2,
          3,
          4,
          5,
          6,
          7,
          8,
          9,
          10,
          11,
          12,
          13,
          14,
          15,
          16,
          17,
          18,
          19,
          20,
          21,
          22,
          23,
          24,
          25,
          26,
          27,
          28,
          29,
          30,
          31,
          32,
          33,
          34,
          35,
          36,
          37,
          38,
          39,
          40,
          41,
          42,
          43,
          44,
          45,
          46,
          47,
          48,
          49,
          50
         ],
         "y": [
          -0.024710196519599235,
          -0.024710196519599235,
          -0.024710196519599235,
          -0.024710196519599235,
          -0.024710196519599235,
          -0.024710196519599235,
          -0.024710196519599235,
          -0.024710196519599235,
          -0.024710196519599235,
          -0.024710196519599235,
          -0.024710196519599235,
          -0.024710196519599235,
          -0.024710196519599235,
          -0.024710196519599235,
          -0.024710196519599235,
          -0.024710196519599235,
          -0.024710196519599235,
          -0.024710196519599235,
          -0.024710196519599235,
          -0.024710196519599235,
          -0.024710196519599235,
          -0.024710196519599235,
          -0.024710196519599235,
          -0.024710196519599235,
          -0.024710196519599235,
          -0.024710196519599235,
          -0.024710196519599235,
          -0.024710196519599235,
          -0.024710196519599235,
          -0.024710196519599235,
          -0.024710196519599235,
          -0.024710196519599235,
          -0.024710196519599235,
          -0.024710196519599235,
          -0.024710196519599235,
          -0.024710196519599235,
          -0.024710196519599235,
          -0.024710196519599235,
          -0.024710196519599235,
          -0.024710196519599235,
          -0.024710196519599235,
          -0.024710196519599235,
          -0.024710196519599235,
          -0.024710196519599235,
          -0.024710196519599235,
          -0.024710196519599235,
          -0.024710196519599235,
          -0.024710196519599235,
          -0.024710196519599235,
          -0.024710196519599235,
          -0.024710196519599235
         ]
        },
        {
         "line": {
          "color": "rgba(52,152,219,1.0)"
         },
         "mode": "lines",
         "name": "HiveNAS+Aug",
         "type": "scatter",
         "x": [
          0,
          1,
          2,
          3,
          4,
          5,
          6,
          7,
          8,
          9,
          10,
          11,
          12,
          13,
          14,
          15,
          16,
          17,
          18,
          19,
          20,
          21,
          22,
          23,
          24,
          25,
          26,
          27,
          28,
          29,
          30,
          31,
          32,
          33,
          34,
          35,
          36,
          37,
          38,
          39,
          40,
          41,
          42,
          43,
          44,
          45,
          46,
          47,
          48,
          49,
          50
         ],
         "y": [
          0.024350005388259887,
          0.012730002403259277,
          0.02573002576828003,
          0.032690000534057614,
          0.033465003967285155,
          0.006615006923675537,
          0.010214996337890626,
          0.030014997720718382,
          0.03274499773979187,
          0.02407001256942749,
          0.030915004014968873,
          0.02191501259803772,
          0.03153499960899353,
          0.03896998763084412,
          0.013470005989074708,
          0.03147497773170471,
          0.004694986343383789,
          0.021404987573623656,
          0.021089988946914672,
          0.02190999984741211,
          0.03379501104354858,
          0.024299997091293334,
          0.037210005521774295,
          0.02996499538421631,
          0.032340008020401004,
          0.03540000319480896,
          0.03985499739646912,
          0.03757498264312744,
          0.02549501061439514,
          0.03745499849319458,
          0.03113502264022827,
          0.034299987554550174,
          0.031819993257522584,
          0.03383000493049622,
          0.02910999059677124,
          0.030569988489151,
          0.028415000438690184,
          0.026364994049072266,
          0.024875015020370483,
          0.035529989004135135,
          0.028210008144378663,
          0.04050000905990601,
          0.038670015335083005,
          0.036189991235733035,
          0.04696000218391418,
          0.03980001211166382,
          0.03456000685691833,
          0.03529499769210816,
          0.032120001316070554,
          0.026869994401931763,
          0.03181501030921936
         ]
        },
        {
         "line": {
          "color": "rgba(52,152,219,0.5)",
          "dash": "dot"
         },
         "mode": "lines",
         "name": "HiveNAS+Aug (mean)",
         "type": "scatter",
         "x": [
          0,
          1,
          2,
          3,
          4,
          5,
          6,
          7,
          8,
          9,
          10,
          11,
          12,
          13,
          14,
          15,
          16,
          17,
          18,
          19,
          20,
          21,
          22,
          23,
          24,
          25,
          26,
          27,
          28,
          29,
          30,
          31,
          32,
          33,
          34,
          35,
          36,
          37,
          38,
          39,
          40,
          41,
          42,
          43,
          44,
          45,
          46,
          47,
          48,
          49,
          50
         ],
         "y": [
          0.02941833418958327,
          0.02941833418958327,
          0.02941833418958327,
          0.02941833418958327,
          0.02941833418958327,
          0.02941833418958327,
          0.02941833418958327,
          0.02941833418958327,
          0.02941833418958327,
          0.02941833418958327,
          0.02941833418958327,
          0.02941833418958327,
          0.02941833418958327,
          0.02941833418958327,
          0.02941833418958327,
          0.02941833418958327,
          0.02941833418958327,
          0.02941833418958327,
          0.02941833418958327,
          0.02941833418958327,
          0.02941833418958327,
          0.02941833418958327,
          0.02941833418958327,
          0.02941833418958327,
          0.02941833418958327,
          0.02941833418958327,
          0.02941833418958327,
          0.02941833418958327,
          0.02941833418958327,
          0.02941833418958327,
          0.02941833418958327,
          0.02941833418958327,
          0.02941833418958327,
          0.02941833418958327,
          0.02941833418958327,
          0.02941833418958327,
          0.02941833418958327,
          0.02941833418958327,
          0.02941833418958327,
          0.02941833418958327,
          0.02941833418958327,
          0.02941833418958327,
          0.02941833418958327,
          0.02941833418958327,
          0.02941833418958327,
          0.02941833418958327,
          0.02941833418958327,
          0.02941833418958327,
          0.02941833418958327,
          0.02941833418958327,
          0.02941833418958327
         ]
        }
       ],
       "layout": {
        "autosize": false,
        "height": 500,
        "plot_bgcolor": "white",
        "template": {
         "data": {
          "bar": [
           {
            "error_x": {
             "color": "#2a3f5f"
            },
            "error_y": {
             "color": "#2a3f5f"
            },
            "marker": {
             "line": {
              "color": "#E5ECF6",
              "width": 0.5
             },
             "pattern": {
              "fillmode": "overlay",
              "size": 10,
              "solidity": 0.2
             }
            },
            "type": "bar"
           }
          ],
          "barpolar": [
           {
            "marker": {
             "line": {
              "color": "#E5ECF6",
              "width": 0.5
             },
             "pattern": {
              "fillmode": "overlay",
              "size": 10,
              "solidity": 0.2
             }
            },
            "type": "barpolar"
           }
          ],
          "carpet": [
           {
            "aaxis": {
             "endlinecolor": "#2a3f5f",
             "gridcolor": "white",
             "linecolor": "white",
             "minorgridcolor": "white",
             "startlinecolor": "#2a3f5f"
            },
            "baxis": {
             "endlinecolor": "#2a3f5f",
             "gridcolor": "white",
             "linecolor": "white",
             "minorgridcolor": "white",
             "startlinecolor": "#2a3f5f"
            },
            "type": "carpet"
           }
          ],
          "choropleth": [
           {
            "colorbar": {
             "outlinewidth": 0,
             "ticks": ""
            },
            "type": "choropleth"
           }
          ],
          "contour": [
           {
            "colorbar": {
             "outlinewidth": 0,
             "ticks": ""
            },
            "colorscale": [
             [
              0,
              "#0d0887"
             ],
             [
              0.1111111111111111,
              "#46039f"
             ],
             [
              0.2222222222222222,
              "#7201a8"
             ],
             [
              0.3333333333333333,
              "#9c179e"
             ],
             [
              0.4444444444444444,
              "#bd3786"
             ],
             [
              0.5555555555555556,
              "#d8576b"
             ],
             [
              0.6666666666666666,
              "#ed7953"
             ],
             [
              0.7777777777777778,
              "#fb9f3a"
             ],
             [
              0.8888888888888888,
              "#fdca26"
             ],
             [
              1,
              "#f0f921"
             ]
            ],
            "type": "contour"
           }
          ],
          "contourcarpet": [
           {
            "colorbar": {
             "outlinewidth": 0,
             "ticks": ""
            },
            "type": "contourcarpet"
           }
          ],
          "heatmap": [
           {
            "colorbar": {
             "outlinewidth": 0,
             "ticks": ""
            },
            "colorscale": [
             [
              0,
              "#0d0887"
             ],
             [
              0.1111111111111111,
              "#46039f"
             ],
             [
              0.2222222222222222,
              "#7201a8"
             ],
             [
              0.3333333333333333,
              "#9c179e"
             ],
             [
              0.4444444444444444,
              "#bd3786"
             ],
             [
              0.5555555555555556,
              "#d8576b"
             ],
             [
              0.6666666666666666,
              "#ed7953"
             ],
             [
              0.7777777777777778,
              "#fb9f3a"
             ],
             [
              0.8888888888888888,
              "#fdca26"
             ],
             [
              1,
              "#f0f921"
             ]
            ],
            "type": "heatmap"
           }
          ],
          "heatmapgl": [
           {
            "colorbar": {
             "outlinewidth": 0,
             "ticks": ""
            },
            "colorscale": [
             [
              0,
              "#0d0887"
             ],
             [
              0.1111111111111111,
              "#46039f"
             ],
             [
              0.2222222222222222,
              "#7201a8"
             ],
             [
              0.3333333333333333,
              "#9c179e"
             ],
             [
              0.4444444444444444,
              "#bd3786"
             ],
             [
              0.5555555555555556,
              "#d8576b"
             ],
             [
              0.6666666666666666,
              "#ed7953"
             ],
             [
              0.7777777777777778,
              "#fb9f3a"
             ],
             [
              0.8888888888888888,
              "#fdca26"
             ],
             [
              1,
              "#f0f921"
             ]
            ],
            "type": "heatmapgl"
           }
          ],
          "histogram": [
           {
            "marker": {
             "pattern": {
              "fillmode": "overlay",
              "size": 10,
              "solidity": 0.2
             }
            },
            "type": "histogram"
           }
          ],
          "histogram2d": [
           {
            "colorbar": {
             "outlinewidth": 0,
             "ticks": ""
            },
            "colorscale": [
             [
              0,
              "#0d0887"
             ],
             [
              0.1111111111111111,
              "#46039f"
             ],
             [
              0.2222222222222222,
              "#7201a8"
             ],
             [
              0.3333333333333333,
              "#9c179e"
             ],
             [
              0.4444444444444444,
              "#bd3786"
             ],
             [
              0.5555555555555556,
              "#d8576b"
             ],
             [
              0.6666666666666666,
              "#ed7953"
             ],
             [
              0.7777777777777778,
              "#fb9f3a"
             ],
             [
              0.8888888888888888,
              "#fdca26"
             ],
             [
              1,
              "#f0f921"
             ]
            ],
            "type": "histogram2d"
           }
          ],
          "histogram2dcontour": [
           {
            "colorbar": {
             "outlinewidth": 0,
             "ticks": ""
            },
            "colorscale": [
             [
              0,
              "#0d0887"
             ],
             [
              0.1111111111111111,
              "#46039f"
             ],
             [
              0.2222222222222222,
              "#7201a8"
             ],
             [
              0.3333333333333333,
              "#9c179e"
             ],
             [
              0.4444444444444444,
              "#bd3786"
             ],
             [
              0.5555555555555556,
              "#d8576b"
             ],
             [
              0.6666666666666666,
              "#ed7953"
             ],
             [
              0.7777777777777778,
              "#fb9f3a"
             ],
             [
              0.8888888888888888,
              "#fdca26"
             ],
             [
              1,
              "#f0f921"
             ]
            ],
            "type": "histogram2dcontour"
           }
          ],
          "mesh3d": [
           {
            "colorbar": {
             "outlinewidth": 0,
             "ticks": ""
            },
            "type": "mesh3d"
           }
          ],
          "parcoords": [
           {
            "line": {
             "colorbar": {
              "outlinewidth": 0,
              "ticks": ""
             }
            },
            "type": "parcoords"
           }
          ],
          "pie": [
           {
            "automargin": true,
            "type": "pie"
           }
          ],
          "scatter": [
           {
            "fillpattern": {
             "fillmode": "overlay",
             "size": 10,
             "solidity": 0.2
            },
            "type": "scatter"
           }
          ],
          "scatter3d": [
           {
            "line": {
             "colorbar": {
              "outlinewidth": 0,
              "ticks": ""
             }
            },
            "marker": {
             "colorbar": {
              "outlinewidth": 0,
              "ticks": ""
             }
            },
            "type": "scatter3d"
           }
          ],
          "scattercarpet": [
           {
            "marker": {
             "colorbar": {
              "outlinewidth": 0,
              "ticks": ""
             }
            },
            "type": "scattercarpet"
           }
          ],
          "scattergeo": [
           {
            "marker": {
             "colorbar": {
              "outlinewidth": 0,
              "ticks": ""
             }
            },
            "type": "scattergeo"
           }
          ],
          "scattergl": [
           {
            "marker": {
             "colorbar": {
              "outlinewidth": 0,
              "ticks": ""
             }
            },
            "type": "scattergl"
           }
          ],
          "scattermapbox": [
           {
            "marker": {
             "colorbar": {
              "outlinewidth": 0,
              "ticks": ""
             }
            },
            "type": "scattermapbox"
           }
          ],
          "scatterpolar": [
           {
            "marker": {
             "colorbar": {
              "outlinewidth": 0,
              "ticks": ""
             }
            },
            "type": "scatterpolar"
           }
          ],
          "scatterpolargl": [
           {
            "marker": {
             "colorbar": {
              "outlinewidth": 0,
              "ticks": ""
             }
            },
            "type": "scatterpolargl"
           }
          ],
          "scatterternary": [
           {
            "marker": {
             "colorbar": {
              "outlinewidth": 0,
              "ticks": ""
             }
            },
            "type": "scatterternary"
           }
          ],
          "surface": [
           {
            "colorbar": {
             "outlinewidth": 0,
             "ticks": ""
            },
            "colorscale": [
             [
              0,
              "#0d0887"
             ],
             [
              0.1111111111111111,
              "#46039f"
             ],
             [
              0.2222222222222222,
              "#7201a8"
             ],
             [
              0.3333333333333333,
              "#9c179e"
             ],
             [
              0.4444444444444444,
              "#bd3786"
             ],
             [
              0.5555555555555556,
              "#d8576b"
             ],
             [
              0.6666666666666666,
              "#ed7953"
             ],
             [
              0.7777777777777778,
              "#fb9f3a"
             ],
             [
              0.8888888888888888,
              "#fdca26"
             ],
             [
              1,
              "#f0f921"
             ]
            ],
            "type": "surface"
           }
          ],
          "table": [
           {
            "cells": {
             "fill": {
              "color": "#EBF0F8"
             },
             "line": {
              "color": "white"
             }
            },
            "header": {
             "fill": {
              "color": "#C8D4E3"
             },
             "line": {
              "color": "white"
             }
            },
            "type": "table"
           }
          ]
         },
         "layout": {
          "annotationdefaults": {
           "arrowcolor": "#2a3f5f",
           "arrowhead": 0,
           "arrowwidth": 1
          },
          "autotypenumbers": "strict",
          "coloraxis": {
           "colorbar": {
            "outlinewidth": 0,
            "ticks": ""
           }
          },
          "colorscale": {
           "diverging": [
            [
             0,
             "#8e0152"
            ],
            [
             0.1,
             "#c51b7d"
            ],
            [
             0.2,
             "#de77ae"
            ],
            [
             0.3,
             "#f1b6da"
            ],
            [
             0.4,
             "#fde0ef"
            ],
            [
             0.5,
             "#f7f7f7"
            ],
            [
             0.6,
             "#e6f5d0"
            ],
            [
             0.7,
             "#b8e186"
            ],
            [
             0.8,
             "#7fbc41"
            ],
            [
             0.9,
             "#4d9221"
            ],
            [
             1,
             "#276419"
            ]
           ],
           "sequential": [
            [
             0,
             "#0d0887"
            ],
            [
             0.1111111111111111,
             "#46039f"
            ],
            [
             0.2222222222222222,
             "#7201a8"
            ],
            [
             0.3333333333333333,
             "#9c179e"
            ],
            [
             0.4444444444444444,
             "#bd3786"
            ],
            [
             0.5555555555555556,
             "#d8576b"
            ],
            [
             0.6666666666666666,
             "#ed7953"
            ],
            [
             0.7777777777777778,
             "#fb9f3a"
            ],
            [
             0.8888888888888888,
             "#fdca26"
            ],
            [
             1,
             "#f0f921"
            ]
           ],
           "sequentialminus": [
            [
             0,
             "#0d0887"
            ],
            [
             0.1111111111111111,
             "#46039f"
            ],
            [
             0.2222222222222222,
             "#7201a8"
            ],
            [
             0.3333333333333333,
             "#9c179e"
            ],
            [
             0.4444444444444444,
             "#bd3786"
            ],
            [
             0.5555555555555556,
             "#d8576b"
            ],
            [
             0.6666666666666666,
             "#ed7953"
            ],
            [
             0.7777777777777778,
             "#fb9f3a"
            ],
            [
             0.8888888888888888,
             "#fdca26"
            ],
            [
             1,
             "#f0f921"
            ]
           ]
          },
          "colorway": [
           "#636efa",
           "#EF553B",
           "#00cc96",
           "#ab63fa",
           "#FFA15A",
           "#19d3f3",
           "#FF6692",
           "#B6E880",
           "#FF97FF",
           "#FECB52"
          ],
          "font": {
           "color": "#2a3f5f"
          },
          "geo": {
           "bgcolor": "white",
           "lakecolor": "white",
           "landcolor": "#E5ECF6",
           "showlakes": true,
           "showland": true,
           "subunitcolor": "white"
          },
          "hoverlabel": {
           "align": "left"
          },
          "hovermode": "closest",
          "mapbox": {
           "style": "light"
          },
          "paper_bgcolor": "white",
          "plot_bgcolor": "#E5ECF6",
          "polar": {
           "angularaxis": {
            "gridcolor": "white",
            "linecolor": "white",
            "ticks": ""
           },
           "bgcolor": "#E5ECF6",
           "radialaxis": {
            "gridcolor": "white",
            "linecolor": "white",
            "ticks": ""
           }
          },
          "scene": {
           "xaxis": {
            "backgroundcolor": "#E5ECF6",
            "gridcolor": "white",
            "gridwidth": 2,
            "linecolor": "white",
            "showbackground": true,
            "ticks": "",
            "zerolinecolor": "white"
           },
           "yaxis": {
            "backgroundcolor": "#E5ECF6",
            "gridcolor": "white",
            "gridwidth": 2,
            "linecolor": "white",
            "showbackground": true,
            "ticks": "",
            "zerolinecolor": "white"
           },
           "zaxis": {
            "backgroundcolor": "#E5ECF6",
            "gridcolor": "white",
            "gridwidth": 2,
            "linecolor": "white",
            "showbackground": true,
            "ticks": "",
            "zerolinecolor": "white"
           }
          },
          "shapedefaults": {
           "line": {
            "color": "#2a3f5f"
           }
          },
          "ternary": {
           "aaxis": {
            "gridcolor": "white",
            "linecolor": "white",
            "ticks": ""
           },
           "baxis": {
            "gridcolor": "white",
            "linecolor": "white",
            "ticks": ""
           },
           "bgcolor": "#E5ECF6",
           "caxis": {
            "gridcolor": "white",
            "linecolor": "white",
            "ticks": ""
           }
          },
          "title": {
           "x": 0.05
          },
          "xaxis": {
           "automargin": true,
           "gridcolor": "white",
           "linecolor": "white",
           "ticks": "",
           "title": {
            "standoff": 15
           },
           "zerolinecolor": "white",
           "zerolinewidth": 2
          },
          "yaxis": {
           "automargin": true,
           "gridcolor": "white",
           "linecolor": "white",
           "ticks": "",
           "title": {
            "standoff": 15
           },
           "zerolinecolor": "white",
           "zerolinewidth": 2
          }
         }
        },
        "title": {
         "text": "Validation / Training Percent Difference"
        },
        "width": 800,
        "xaxis": {
         "color": "rgba(44,62,80,1.0)",
         "gridcolor": "rgba(189,195,199,0.75)",
         "title": {
          "text": "Neural Architecture Index"
         },
         "zeroline": true,
         "zerolinecolor": "rgba(189,195,199,1.0)",
         "zerolinewidth": 1
        },
        "yaxis": {
         "color": "rgba(44,62,80,1.0)",
         "gridcolor": "rgba(189,195,199,0.75)",
         "range": [
          -0.10907050967216493,
          0.057526002675294875
         ],
         "tickformat": ",.0%",
         "title": {
          "text": "Generalization Improvement"
         },
         "zeroline": true,
         "zerolinecolor": "rgba(189,195,199,1.0)",
         "zerolinewidth": 1
        }
       }
      },
      "text/html": [
       "<div>                            <div id=\"68e1dabf-71ac-4a8f-9296-e4e4a982e4b7\" class=\"plotly-graph-div\" style=\"height:500px; width:800px;\"></div>            <script type=\"text/javascript\">                require([\"plotly\"], function(Plotly) {                    window.PLOTLYENV=window.PLOTLYENV || {};                                    if (document.getElementById(\"68e1dabf-71ac-4a8f-9296-e4e4a982e4b7\")) {                    Plotly.newPlot(                        \"68e1dabf-71ac-4a8f-9296-e4e4a982e4b7\",                        [{\"line\":{\"color\":\"rgba(230,126,34,1.0)\"},\"mode\":\"lines\",\"name\":\"HiveNAS\",\"x\":[0,1,2,3,4,5,6,7,8,9,10,11,12,13,14,15,16,17,18,19,20,21,22,23,24,25,26,27,28,29,30,31,32,33,34,35,36,37,38,39,40,41,42,43,44,45,46,47,48,49,50],\"y\":[-0.03313999176025391,-0.06053001284599304,-0.050674992799758914,-0.04109499454498291,-0.008240026235580445,-0.04608998894691467,-0.025974994897842406,-0.0991550087928772,-0.03554999828338623,-0.020524996519088744,-0.07994499802589417,-0.05517000555992126,-0.05489499568939209,-0.009289991855621339,-0.035820013284683226,0.019454997777938843,-0.06088999509811401,-0.010300010442733765,-0.033625006675720215,-0.006030000746250153,-0.017755007743835448,-0.017694997787475585,-0.023055011034011842,0.02599998712539673,0.017575013637542724,0.01515500545501709,0.015490007400512696,-0.05683499574661255,0.004890012741088867,-0.04492000341415405,-0.041835010051727295,-0.05428499579429626,-0.014129996299743652,-0.027459996938705444,0.009290003776550293,-0.05165499448776245,-0.06020998954772949,-0.03527000546455383,-0.01594499945640564,-0.022319990396499633,-0.007964992523193359,-0.038220000267028806,-0.030865013599395752,0.028109979629516602,-0.04253999590873718,0.004264998435974121,0.009699994325637817,-0.023259997367858887,-0.03392499089241028,-0.00018001794815063475,0.01711500287055969],\"type\":\"scatter\"},{\"line\":{\"color\":\"rgba(230,126,34,0.5)\",\"dash\":\"dot\"},\"mode\":\"lines\",\"name\":\"HiveNAS (mean)\",\"x\":[0,1,2,3,4,5,6,7,8,9,10,11,12,13,14,15,16,17,18,19,20,21,22,23,24,25,26,27,28,29,30,31,32,33,34,35,36,37,38,39,40,41,42,43,44,45,46,47,48,49,50],\"y\":[-0.024710196519599235,-0.024710196519599235,-0.024710196519599235,-0.024710196519599235,-0.024710196519599235,-0.024710196519599235,-0.024710196519599235,-0.024710196519599235,-0.024710196519599235,-0.024710196519599235,-0.024710196519599235,-0.024710196519599235,-0.024710196519599235,-0.024710196519599235,-0.024710196519599235,-0.024710196519599235,-0.024710196519599235,-0.024710196519599235,-0.024710196519599235,-0.024710196519599235,-0.024710196519599235,-0.024710196519599235,-0.024710196519599235,-0.024710196519599235,-0.024710196519599235,-0.024710196519599235,-0.024710196519599235,-0.024710196519599235,-0.024710196519599235,-0.024710196519599235,-0.024710196519599235,-0.024710196519599235,-0.024710196519599235,-0.024710196519599235,-0.024710196519599235,-0.024710196519599235,-0.024710196519599235,-0.024710196519599235,-0.024710196519599235,-0.024710196519599235,-0.024710196519599235,-0.024710196519599235,-0.024710196519599235,-0.024710196519599235,-0.024710196519599235,-0.024710196519599235,-0.024710196519599235,-0.024710196519599235,-0.024710196519599235,-0.024710196519599235,-0.024710196519599235],\"type\":\"scatter\"},{\"line\":{\"color\":\"rgba(52,152,219,1.0)\"},\"mode\":\"lines\",\"name\":\"HiveNAS+Aug\",\"x\":[0,1,2,3,4,5,6,7,8,9,10,11,12,13,14,15,16,17,18,19,20,21,22,23,24,25,26,27,28,29,30,31,32,33,34,35,36,37,38,39,40,41,42,43,44,45,46,47,48,49,50],\"y\":[0.024350005388259887,0.012730002403259277,0.02573002576828003,0.032690000534057614,0.033465003967285155,0.006615006923675537,0.010214996337890626,0.030014997720718382,0.03274499773979187,0.02407001256942749,0.030915004014968873,0.02191501259803772,0.03153499960899353,0.03896998763084412,0.013470005989074708,0.03147497773170471,0.004694986343383789,0.021404987573623656,0.021089988946914672,0.02190999984741211,0.03379501104354858,0.024299997091293334,0.037210005521774295,0.02996499538421631,0.032340008020401004,0.03540000319480896,0.03985499739646912,0.03757498264312744,0.02549501061439514,0.03745499849319458,0.03113502264022827,0.034299987554550174,0.031819993257522584,0.03383000493049622,0.02910999059677124,0.030569988489151,0.028415000438690184,0.026364994049072266,0.024875015020370483,0.035529989004135135,0.028210008144378663,0.04050000905990601,0.038670015335083005,0.036189991235733035,0.04696000218391418,0.03980001211166382,0.03456000685691833,0.03529499769210816,0.032120001316070554,0.026869994401931763,0.03181501030921936],\"type\":\"scatter\"},{\"line\":{\"color\":\"rgba(52,152,219,0.5)\",\"dash\":\"dot\"},\"mode\":\"lines\",\"name\":\"HiveNAS+Aug (mean)\",\"x\":[0,1,2,3,4,5,6,7,8,9,10,11,12,13,14,15,16,17,18,19,20,21,22,23,24,25,26,27,28,29,30,31,32,33,34,35,36,37,38,39,40,41,42,43,44,45,46,47,48,49,50],\"y\":[0.02941833418958327,0.02941833418958327,0.02941833418958327,0.02941833418958327,0.02941833418958327,0.02941833418958327,0.02941833418958327,0.02941833418958327,0.02941833418958327,0.02941833418958327,0.02941833418958327,0.02941833418958327,0.02941833418958327,0.02941833418958327,0.02941833418958327,0.02941833418958327,0.02941833418958327,0.02941833418958327,0.02941833418958327,0.02941833418958327,0.02941833418958327,0.02941833418958327,0.02941833418958327,0.02941833418958327,0.02941833418958327,0.02941833418958327,0.02941833418958327,0.02941833418958327,0.02941833418958327,0.02941833418958327,0.02941833418958327,0.02941833418958327,0.02941833418958327,0.02941833418958327,0.02941833418958327,0.02941833418958327,0.02941833418958327,0.02941833418958327,0.02941833418958327,0.02941833418958327,0.02941833418958327,0.02941833418958327,0.02941833418958327,0.02941833418958327,0.02941833418958327,0.02941833418958327,0.02941833418958327,0.02941833418958327,0.02941833418958327,0.02941833418958327,0.02941833418958327],\"type\":\"scatter\"}],                        {\"template\":{\"data\":{\"histogram2dcontour\":[{\"type\":\"histogram2dcontour\",\"colorbar\":{\"outlinewidth\":0,\"ticks\":\"\"},\"colorscale\":[[0.0,\"#0d0887\"],[0.1111111111111111,\"#46039f\"],[0.2222222222222222,\"#7201a8\"],[0.3333333333333333,\"#9c179e\"],[0.4444444444444444,\"#bd3786\"],[0.5555555555555556,\"#d8576b\"],[0.6666666666666666,\"#ed7953\"],[0.7777777777777778,\"#fb9f3a\"],[0.8888888888888888,\"#fdca26\"],[1.0,\"#f0f921\"]]}],\"choropleth\":[{\"type\":\"choropleth\",\"colorbar\":{\"outlinewidth\":0,\"ticks\":\"\"}}],\"histogram2d\":[{\"type\":\"histogram2d\",\"colorbar\":{\"outlinewidth\":0,\"ticks\":\"\"},\"colorscale\":[[0.0,\"#0d0887\"],[0.1111111111111111,\"#46039f\"],[0.2222222222222222,\"#7201a8\"],[0.3333333333333333,\"#9c179e\"],[0.4444444444444444,\"#bd3786\"],[0.5555555555555556,\"#d8576b\"],[0.6666666666666666,\"#ed7953\"],[0.7777777777777778,\"#fb9f3a\"],[0.8888888888888888,\"#fdca26\"],[1.0,\"#f0f921\"]]}],\"heatmap\":[{\"type\":\"heatmap\",\"colorbar\":{\"outlinewidth\":0,\"ticks\":\"\"},\"colorscale\":[[0.0,\"#0d0887\"],[0.1111111111111111,\"#46039f\"],[0.2222222222222222,\"#7201a8\"],[0.3333333333333333,\"#9c179e\"],[0.4444444444444444,\"#bd3786\"],[0.5555555555555556,\"#d8576b\"],[0.6666666666666666,\"#ed7953\"],[0.7777777777777778,\"#fb9f3a\"],[0.8888888888888888,\"#fdca26\"],[1.0,\"#f0f921\"]]}],\"heatmapgl\":[{\"type\":\"heatmapgl\",\"colorbar\":{\"outlinewidth\":0,\"ticks\":\"\"},\"colorscale\":[[0.0,\"#0d0887\"],[0.1111111111111111,\"#46039f\"],[0.2222222222222222,\"#7201a8\"],[0.3333333333333333,\"#9c179e\"],[0.4444444444444444,\"#bd3786\"],[0.5555555555555556,\"#d8576b\"],[0.6666666666666666,\"#ed7953\"],[0.7777777777777778,\"#fb9f3a\"],[0.8888888888888888,\"#fdca26\"],[1.0,\"#f0f921\"]]}],\"contourcarpet\":[{\"type\":\"contourcarpet\",\"colorbar\":{\"outlinewidth\":0,\"ticks\":\"\"}}],\"contour\":[{\"type\":\"contour\",\"colorbar\":{\"outlinewidth\":0,\"ticks\":\"\"},\"colorscale\":[[0.0,\"#0d0887\"],[0.1111111111111111,\"#46039f\"],[0.2222222222222222,\"#7201a8\"],[0.3333333333333333,\"#9c179e\"],[0.4444444444444444,\"#bd3786\"],[0.5555555555555556,\"#d8576b\"],[0.6666666666666666,\"#ed7953\"],[0.7777777777777778,\"#fb9f3a\"],[0.8888888888888888,\"#fdca26\"],[1.0,\"#f0f921\"]]}],\"surface\":[{\"type\":\"surface\",\"colorbar\":{\"outlinewidth\":0,\"ticks\":\"\"},\"colorscale\":[[0.0,\"#0d0887\"],[0.1111111111111111,\"#46039f\"],[0.2222222222222222,\"#7201a8\"],[0.3333333333333333,\"#9c179e\"],[0.4444444444444444,\"#bd3786\"],[0.5555555555555556,\"#d8576b\"],[0.6666666666666666,\"#ed7953\"],[0.7777777777777778,\"#fb9f3a\"],[0.8888888888888888,\"#fdca26\"],[1.0,\"#f0f921\"]]}],\"mesh3d\":[{\"type\":\"mesh3d\",\"colorbar\":{\"outlinewidth\":0,\"ticks\":\"\"}}],\"scatter\":[{\"fillpattern\":{\"fillmode\":\"overlay\",\"size\":10,\"solidity\":0.2},\"type\":\"scatter\"}],\"parcoords\":[{\"type\":\"parcoords\",\"line\":{\"colorbar\":{\"outlinewidth\":0,\"ticks\":\"\"}}}],\"scatterpolargl\":[{\"type\":\"scatterpolargl\",\"marker\":{\"colorbar\":{\"outlinewidth\":0,\"ticks\":\"\"}}}],\"bar\":[{\"error_x\":{\"color\":\"#2a3f5f\"},\"error_y\":{\"color\":\"#2a3f5f\"},\"marker\":{\"line\":{\"color\":\"#E5ECF6\",\"width\":0.5},\"pattern\":{\"fillmode\":\"overlay\",\"size\":10,\"solidity\":0.2}},\"type\":\"bar\"}],\"scattergeo\":[{\"type\":\"scattergeo\",\"marker\":{\"colorbar\":{\"outlinewidth\":0,\"ticks\":\"\"}}}],\"scatterpolar\":[{\"type\":\"scatterpolar\",\"marker\":{\"colorbar\":{\"outlinewidth\":0,\"ticks\":\"\"}}}],\"histogram\":[{\"marker\":{\"pattern\":{\"fillmode\":\"overlay\",\"size\":10,\"solidity\":0.2}},\"type\":\"histogram\"}],\"scattergl\":[{\"type\":\"scattergl\",\"marker\":{\"colorbar\":{\"outlinewidth\":0,\"ticks\":\"\"}}}],\"scatter3d\":[{\"type\":\"scatter3d\",\"line\":{\"colorbar\":{\"outlinewidth\":0,\"ticks\":\"\"}},\"marker\":{\"colorbar\":{\"outlinewidth\":0,\"ticks\":\"\"}}}],\"scattermapbox\":[{\"type\":\"scattermapbox\",\"marker\":{\"colorbar\":{\"outlinewidth\":0,\"ticks\":\"\"}}}],\"scatterternary\":[{\"type\":\"scatterternary\",\"marker\":{\"colorbar\":{\"outlinewidth\":0,\"ticks\":\"\"}}}],\"scattercarpet\":[{\"type\":\"scattercarpet\",\"marker\":{\"colorbar\":{\"outlinewidth\":0,\"ticks\":\"\"}}}],\"carpet\":[{\"aaxis\":{\"endlinecolor\":\"#2a3f5f\",\"gridcolor\":\"white\",\"linecolor\":\"white\",\"minorgridcolor\":\"white\",\"startlinecolor\":\"#2a3f5f\"},\"baxis\":{\"endlinecolor\":\"#2a3f5f\",\"gridcolor\":\"white\",\"linecolor\":\"white\",\"minorgridcolor\":\"white\",\"startlinecolor\":\"#2a3f5f\"},\"type\":\"carpet\"}],\"table\":[{\"cells\":{\"fill\":{\"color\":\"#EBF0F8\"},\"line\":{\"color\":\"white\"}},\"header\":{\"fill\":{\"color\":\"#C8D4E3\"},\"line\":{\"color\":\"white\"}},\"type\":\"table\"}],\"barpolar\":[{\"marker\":{\"line\":{\"color\":\"#E5ECF6\",\"width\":0.5},\"pattern\":{\"fillmode\":\"overlay\",\"size\":10,\"solidity\":0.2}},\"type\":\"barpolar\"}],\"pie\":[{\"automargin\":true,\"type\":\"pie\"}]},\"layout\":{\"autotypenumbers\":\"strict\",\"colorway\":[\"#636efa\",\"#EF553B\",\"#00cc96\",\"#ab63fa\",\"#FFA15A\",\"#19d3f3\",\"#FF6692\",\"#B6E880\",\"#FF97FF\",\"#FECB52\"],\"font\":{\"color\":\"#2a3f5f\"},\"hovermode\":\"closest\",\"hoverlabel\":{\"align\":\"left\"},\"paper_bgcolor\":\"white\",\"plot_bgcolor\":\"#E5ECF6\",\"polar\":{\"bgcolor\":\"#E5ECF6\",\"angularaxis\":{\"gridcolor\":\"white\",\"linecolor\":\"white\",\"ticks\":\"\"},\"radialaxis\":{\"gridcolor\":\"white\",\"linecolor\":\"white\",\"ticks\":\"\"}},\"ternary\":{\"bgcolor\":\"#E5ECF6\",\"aaxis\":{\"gridcolor\":\"white\",\"linecolor\":\"white\",\"ticks\":\"\"},\"baxis\":{\"gridcolor\":\"white\",\"linecolor\":\"white\",\"ticks\":\"\"},\"caxis\":{\"gridcolor\":\"white\",\"linecolor\":\"white\",\"ticks\":\"\"}},\"coloraxis\":{\"colorbar\":{\"outlinewidth\":0,\"ticks\":\"\"}},\"colorscale\":{\"sequential\":[[0.0,\"#0d0887\"],[0.1111111111111111,\"#46039f\"],[0.2222222222222222,\"#7201a8\"],[0.3333333333333333,\"#9c179e\"],[0.4444444444444444,\"#bd3786\"],[0.5555555555555556,\"#d8576b\"],[0.6666666666666666,\"#ed7953\"],[0.7777777777777778,\"#fb9f3a\"],[0.8888888888888888,\"#fdca26\"],[1.0,\"#f0f921\"]],\"sequentialminus\":[[0.0,\"#0d0887\"],[0.1111111111111111,\"#46039f\"],[0.2222222222222222,\"#7201a8\"],[0.3333333333333333,\"#9c179e\"],[0.4444444444444444,\"#bd3786\"],[0.5555555555555556,\"#d8576b\"],[0.6666666666666666,\"#ed7953\"],[0.7777777777777778,\"#fb9f3a\"],[0.8888888888888888,\"#fdca26\"],[1.0,\"#f0f921\"]],\"diverging\":[[0,\"#8e0152\"],[0.1,\"#c51b7d\"],[0.2,\"#de77ae\"],[0.3,\"#f1b6da\"],[0.4,\"#fde0ef\"],[0.5,\"#f7f7f7\"],[0.6,\"#e6f5d0\"],[0.7,\"#b8e186\"],[0.8,\"#7fbc41\"],[0.9,\"#4d9221\"],[1,\"#276419\"]]},\"xaxis\":{\"gridcolor\":\"white\",\"linecolor\":\"white\",\"ticks\":\"\",\"title\":{\"standoff\":15},\"zerolinecolor\":\"white\",\"automargin\":true,\"zerolinewidth\":2},\"yaxis\":{\"gridcolor\":\"white\",\"linecolor\":\"white\",\"ticks\":\"\",\"title\":{\"standoff\":15},\"zerolinecolor\":\"white\",\"automargin\":true,\"zerolinewidth\":2},\"scene\":{\"xaxis\":{\"backgroundcolor\":\"#E5ECF6\",\"gridcolor\":\"white\",\"linecolor\":\"white\",\"showbackground\":true,\"ticks\":\"\",\"zerolinecolor\":\"white\",\"gridwidth\":2},\"yaxis\":{\"backgroundcolor\":\"#E5ECF6\",\"gridcolor\":\"white\",\"linecolor\":\"white\",\"showbackground\":true,\"ticks\":\"\",\"zerolinecolor\":\"white\",\"gridwidth\":2},\"zaxis\":{\"backgroundcolor\":\"#E5ECF6\",\"gridcolor\":\"white\",\"linecolor\":\"white\",\"showbackground\":true,\"ticks\":\"\",\"zerolinecolor\":\"white\",\"gridwidth\":2}},\"shapedefaults\":{\"line\":{\"color\":\"#2a3f5f\"}},\"annotationdefaults\":{\"arrowcolor\":\"#2a3f5f\",\"arrowhead\":0,\"arrowwidth\":1},\"geo\":{\"bgcolor\":\"white\",\"landcolor\":\"#E5ECF6\",\"subunitcolor\":\"white\",\"showland\":true,\"showlakes\":true,\"lakecolor\":\"white\"},\"title\":{\"x\":0.05},\"mapbox\":{\"style\":\"light\"}}},\"title\":{\"text\":\"Validation / Training Percent Difference\"},\"xaxis\":{\"title\":{\"text\":\"Neural Architecture Index\"},\"color\":\"rgba(44,62,80,1.0)\",\"zeroline\":true,\"zerolinewidth\":1,\"zerolinecolor\":\"rgba(189,195,199,1.0)\",\"gridcolor\":\"rgba(189,195,199,0.75)\"},\"yaxis\":{\"title\":{\"text\":\"Generalization Improvement\"},\"tickformat\":\",.0%\",\"range\":[-0.10907050967216493,0.057526002675294875],\"color\":\"rgba(44,62,80,1.0)\",\"zeroline\":true,\"zerolinewidth\":1,\"zerolinecolor\":\"rgba(189,195,199,1.0)\",\"gridcolor\":\"rgba(189,195,199,0.75)\"},\"plot_bgcolor\":\"white\",\"autosize\":false,\"width\":800,\"height\":500},                        {\"responsive\": true}                    ).then(function(){\n",
       "                            \n",
       "var gd = document.getElementById('68e1dabf-71ac-4a8f-9296-e4e4a982e4b7');\n",
       "var x = new MutationObserver(function (mutations, observer) {{\n",
       "        var display = window.getComputedStyle(gd).display;\n",
       "        if (!display || display === 'none') {{\n",
       "            console.log([gd, 'removed!']);\n",
       "            Plotly.purge(gd);\n",
       "            observer.disconnect();\n",
       "        }}\n",
       "}});\n",
       "\n",
       "// Listen for the removal of the full notebook cells\n",
       "var notebookContainer = gd.closest('#notebook-container');\n",
       "if (notebookContainer) {{\n",
       "    x.observe(notebookContainer, {childList: true});\n",
       "}}\n",
       "\n",
       "// Listen for the clearing of the current output cell\n",
       "var outputEl = gd.closest('.output');\n",
       "if (outputEl) {{\n",
       "    x.observe(outputEl, {childList: true});\n",
       "}}\n",
       "\n",
       "                        })                };                });            </script>        </div>"
      ]
     },
     "metadata": {},
     "output_type": "display_data"
    }
   ],
   "source": [
    "# Data manipulation\n",
    "hist_df_a['train_test_gap'] = hist_df_a['val_sparse_categorical_accuracy'] - hist_df_a['sparse_categorical_accuracy']\n",
    "hist_df_b['train_test_gap'] = hist_df_b['val_sparse_categorical_accuracy'] - hist_df_b['sparse_categorical_accuracy']\n",
    "#log_df_a['train_test_gap'],log_df_a['train_acc'],log_df_a['val_acc']\n",
    "\n",
    "train_test_a = hist_df_a.groupby(['arch'])['train_test_gap'].mean().values\n",
    "train_test_b = hist_df_b.groupby(['arch'])['train_test_gap'].mean().values\n",
    "\n",
    "train_test_a = reject_outliers(train_test_a)\n",
    "train_test_b = reject_outliers(train_test_b)\n",
    "\n",
    "# Truncate data length to match (for aesthetic purposes)\n",
    "train_test_a = train_test_a[:min(len(train_test_a), len(train_test_b))]\n",
    "train_test_b = train_test_b[:min(len(train_test_a), len(train_test_b))]\n",
    "\n",
    "# Figure customization\n",
    "fig = go.Figure()\n",
    "fig.update_layout(\n",
    "    title='Validation / Training Percent Difference',\n",
    "    xaxis_title='Neural Architecture Index', \n",
    "    yaxis_title='Generalization Improvement',\n",
    "    plot_bgcolor='white',\n",
    "    autosize=False,\n",
    "    width=800,\n",
    "    height=500\n",
    ")\n",
    "\n",
    "fig.update_yaxes(tickformat=',.0%',\n",
    "                 range= [np.concatenate((train_test_a, train_test_b), axis=0).min() * 1.1, \n",
    "                         np.concatenate((train_test_a, train_test_b), axis=0).max() * 1.225],\n",
    "                 color=PLOT_TEXT_COLOR,\n",
    "                 zeroline=True,\n",
    "                 zerolinewidth=1,\n",
    "                 zerolinecolor=GRID_ZERO_LINE_COLOR,\n",
    "                 gridcolor=GRID_LINE_COLOR)\n",
    "\n",
    "fig.update_xaxes(color=PLOT_TEXT_COLOR,\n",
    "                 zeroline=True,\n",
    "                 zerolinewidth=1,\n",
    "                 zerolinecolor=GRID_ZERO_LINE_COLOR,\n",
    "                 gridcolor=GRID_LINE_COLOR)\n",
    "\n",
    "# Traces\n",
    "fig.add_trace(go.Scatter(x=list(range(len(train_test_a))), y=train_test_a,\n",
    "                         mode='lines',\n",
    "                         name='HiveNAS',\n",
    "                         line=dict(color=TRACE_1_COLOR)))\n",
    "fig.add_trace(go.Scatter(x=list(range(len(train_test_a))), y=[train_test_a.mean() for _ in range(len(train_test_a))],\n",
    "                         mode='lines',\n",
    "                         name='HiveNAS (mean)',\n",
    "                         line=dict(color=TRACE_1_DOTTED_COLOR, dash='dot')))\n",
    "\n",
    "\n",
    "fig.add_trace(go.Scatter(x=list(range(len(train_test_b))), y=train_test_b,\n",
    "                         mode='lines',\n",
    "                         name='HiveNAS+Aug',\n",
    "                         line=dict(color=TRACE_2_COLOR)))\n",
    "fig.add_trace(go.Scatter(x=list(range(len(train_test_b))), y=[train_test_b.mean() for _ in range(len(train_test_b))],\n",
    "                         mode='lines',\n",
    "                         name='HiveNAS+Aug (mean)',\n",
    "                         line=dict(color=TRACE_2_DOTTED_COLOR, dash='dot')))\n",
    "\n",
    "fig.write_image(ANALYSIS_RESULTS_PATH + 'augmentation_improvement.eps')\n",
    "\n",
    "fig.show()"
   ]
  },
  {
   "cell_type": "markdown",
   "id": "c8cca6d6",
   "metadata": {
    "ExecuteTime": {
     "end_time": "2022-09-28T14:58:58.846069Z",
     "start_time": "2022-09-28T14:58:58.702092Z"
    }
   },
   "source": [
    "#### Augmentation Performance Impact"
   ]
  },
  {
   "cell_type": "code",
   "execution_count": 33,
   "id": "9c129406",
   "metadata": {
    "ExecuteTime": {
     "end_time": "2022-10-02T20:08:02.145247Z",
     "start_time": "2022-10-02T20:08:01.858871Z"
    }
   },
   "outputs": [
    {
     "data": {
      "application/vnd.plotly.v1+json": {
       "config": {
        "plotlyServerURL": "https://plot.ly"
       },
       "data": [
        {
         "line": {
          "color": "rgba(230,126,34,1.0)"
         },
         "mode": "lines",
         "name": "HiveNAS",
         "type": "scatter",
         "x": [
          0,
          1,
          2,
          3,
          4,
          5,
          6,
          7,
          8,
          9,
          10,
          11,
          12,
          13,
          14,
          15,
          16,
          17,
          18,
          19,
          20,
          21,
          22,
          23,
          24,
          25,
          26,
          27,
          28,
          29,
          30,
          31,
          32,
          33,
          34,
          35,
          36,
          37,
          38,
          39,
          40,
          41,
          42,
          43,
          44,
          45,
          46,
          47,
          48,
          49,
          50,
          51,
          52,
          53,
          54
         ],
         "y": [
          96.20630431175232,
          93.93491125106812,
          85.12194871902466,
          78.24222946166992,
          40.84614419937134,
          43.249436140060425,
          86.88442921638489,
          92.39392566680908,
          82.21732974052429,
          80.59364581108093,
          75.54980874061584,
          79.87505030632019,
          97.65216255187988,
          79.42038679122925,
          85.89526176452637,
          78.44687557220459,
          50.10521411895752,
          78.18110799789429,
          50.04748439788818,
          95.74503874778748,
          83.10204339027405,
          82.07622981071472,
          65.73724365234375,
          34.6028151512146,
          42.708863973617554,
          64.31260967254639,
          49.32172846794128,
          80.64058089256287,
          49.45450282096863,
          64.3923830986023,
          44.72349810600281,
          36.400646448135376,
          43.40532946586609,
          79.3396863937378,
          50.93495035171509,
          75.92923164367676,
          77.07593655586243,
          52.72623443603516,
          73.86212754249573,
          54.73793983459473,
          93.68319821357728,
          45.98794722557068,
          84.45624685287476,
          89.52877831459045,
          50.6974048614502,
          83.90219640731812,
          59.97565150260925,
          70.21874594688416,
          69.21397686004639,
          90.98049235343932,
          44.61329174041748,
          71.3318600654602,
          86.32048416137695,
          39.17276668548584,
          91.07730054855348
         ]
        },
        {
         "line": {
          "color": "rgba(230,126,34,0.5)",
          "dash": "dot"
         },
         "mode": "lines",
         "name": "HiveNAS (mean)",
         "type": "scatter",
         "x": [
          0,
          1,
          2,
          3,
          4,
          5,
          6,
          7,
          8,
          9,
          10,
          11,
          12,
          13,
          14,
          15,
          16,
          17,
          18,
          19,
          20,
          21,
          22,
          23,
          24,
          25,
          26,
          27,
          28,
          29,
          30,
          31,
          32,
          33,
          34,
          35,
          36,
          37,
          38,
          39,
          40,
          41,
          42,
          43,
          44,
          45,
          46,
          47,
          48,
          49,
          50,
          51,
          52,
          53,
          54
         ],
         "y": [
          69.58642943555658,
          69.58642943555658,
          69.58642943555658,
          69.58642943555658,
          69.58642943555658,
          69.58642943555658,
          69.58642943555658,
          69.58642943555658,
          69.58642943555658,
          69.58642943555658,
          69.58642943555658,
          69.58642943555658,
          69.58642943555658,
          69.58642943555658,
          69.58642943555658,
          69.58642943555658,
          69.58642943555658,
          69.58642943555658,
          69.58642943555658,
          69.58642943555658,
          69.58642943555658,
          69.58642943555658,
          69.58642943555658,
          69.58642943555658,
          69.58642943555658,
          69.58642943555658,
          69.58642943555658,
          69.58642943555658,
          69.58642943555658,
          69.58642943555658,
          69.58642943555658,
          69.58642943555658,
          69.58642943555658,
          69.58642943555658,
          69.58642943555658,
          69.58642943555658,
          69.58642943555658,
          69.58642943555658,
          69.58642943555658,
          69.58642943555658,
          69.58642943555658,
          69.58642943555658,
          69.58642943555658,
          69.58642943555658,
          69.58642943555658,
          69.58642943555658,
          69.58642943555658,
          69.58642943555658,
          69.58642943555658,
          69.58642943555658,
          69.58642943555658,
          69.58642943555658,
          69.58642943555658,
          69.58642943555658,
          69.58642943555658
         ]
        },
        {
         "line": {
          "color": "rgba(52,152,219,1.0)"
         },
         "mode": "lines",
         "name": "HiveNAS+Aug",
         "type": "scatter",
         "x": [
          0,
          1,
          2,
          3,
          4,
          5,
          6,
          7,
          8,
          9,
          10,
          11,
          12,
          13,
          14,
          15,
          16,
          17,
          18,
          19,
          20,
          21,
          22,
          23,
          24,
          25,
          26,
          27,
          28,
          29,
          30,
          31,
          32,
          33,
          34,
          35,
          36,
          37,
          38,
          39,
          40,
          41,
          42,
          43,
          44,
          45,
          46,
          47,
          48,
          49,
          50,
          51,
          52,
          53,
          54
         ],
         "y": [
          491.28327775001526,
          571.7600436210632,
          475.167964220047,
          562.3654184341431,
          564.413740158081,
          572.2733280658722,
          490.837240934372,
          561.9648914337158,
          561.3695447444916,
          544.9445989131927,
          502.7448122501373,
          576.6627426147461,
          506.99349880218506,
          562.0102405548096,
          502.487530708313,
          518.3046550750732,
          565.1616561412811,
          475.7915437221527,
          598.3369390964508,
          555.5446863174438,
          476.6011836528778,
          505.47947931289673,
          554.4600732326508,
          525.6055669784546,
          516.924654006958,
          554.3545341491699,
          518.1357250213623,
          532.9472737312317,
          544.2661526203156,
          555.3626527786255,
          573.4873304367065,
          628.803307056427,
          518.0427742004395,
          542.9004919528961,
          600.7045328617096,
          578.588933467865,
          578.7728431224823,
          537.1512491703033,
          564.7678060531616,
          596.795196056366,
          569.0522646903992,
          603.385892868042,
          553.2457423210144,
          542.7540130615234,
          546.1384694576263,
          577.4240362644196,
          583.3445980548859,
          528.2651016712189,
          622.9956886768341,
          608.7242043018341,
          632.8800530433655,
          555.8583936691284,
          601.4367415904999,
          562.4901704788208,
          626.0142660140991
         ]
        },
        {
         "line": {
          "color": "rgba(52,152,219,0.5)",
          "dash": "dot"
         },
         "mode": "lines",
         "name": "HiveNAS+Aug (mean)",
         "type": "scatter",
         "x": [
          0,
          1,
          2,
          3,
          4,
          5,
          6,
          7,
          8,
          9,
          10,
          11,
          12,
          13,
          14,
          15,
          16,
          17,
          18,
          19,
          20,
          21,
          22,
          23,
          24,
          25,
          26,
          27,
          28,
          29,
          30,
          31,
          32,
          33,
          34,
          35,
          36,
          37,
          38,
          39,
          40,
          41,
          42,
          43,
          44,
          45,
          46,
          47,
          48,
          49,
          50,
          51,
          52,
          53,
          54
         ],
         "y": [
          554.1559954469855,
          554.1559954469855,
          554.1559954469855,
          554.1559954469855,
          554.1559954469855,
          554.1559954469855,
          554.1559954469855,
          554.1559954469855,
          554.1559954469855,
          554.1559954469855,
          554.1559954469855,
          554.1559954469855,
          554.1559954469855,
          554.1559954469855,
          554.1559954469855,
          554.1559954469855,
          554.1559954469855,
          554.1559954469855,
          554.1559954469855,
          554.1559954469855,
          554.1559954469855,
          554.1559954469855,
          554.1559954469855,
          554.1559954469855,
          554.1559954469855,
          554.1559954469855,
          554.1559954469855,
          554.1559954469855,
          554.1559954469855,
          554.1559954469855,
          554.1559954469855,
          554.1559954469855,
          554.1559954469855,
          554.1559954469855,
          554.1559954469855,
          554.1559954469855,
          554.1559954469855,
          554.1559954469855,
          554.1559954469855,
          554.1559954469855,
          554.1559954469855,
          554.1559954469855,
          554.1559954469855,
          554.1559954469855,
          554.1559954469855,
          554.1559954469855,
          554.1559954469855,
          554.1559954469855,
          554.1559954469855,
          554.1559954469855,
          554.1559954469855,
          554.1559954469855,
          554.1559954469855,
          554.1559954469855,
          554.1559954469855
         ]
        }
       ],
       "layout": {
        "autosize": false,
        "height": 500,
        "plot_bgcolor": "white",
        "template": {
         "data": {
          "bar": [
           {
            "error_x": {
             "color": "#2a3f5f"
            },
            "error_y": {
             "color": "#2a3f5f"
            },
            "marker": {
             "line": {
              "color": "#E5ECF6",
              "width": 0.5
             },
             "pattern": {
              "fillmode": "overlay",
              "size": 10,
              "solidity": 0.2
             }
            },
            "type": "bar"
           }
          ],
          "barpolar": [
           {
            "marker": {
             "line": {
              "color": "#E5ECF6",
              "width": 0.5
             },
             "pattern": {
              "fillmode": "overlay",
              "size": 10,
              "solidity": 0.2
             }
            },
            "type": "barpolar"
           }
          ],
          "carpet": [
           {
            "aaxis": {
             "endlinecolor": "#2a3f5f",
             "gridcolor": "white",
             "linecolor": "white",
             "minorgridcolor": "white",
             "startlinecolor": "#2a3f5f"
            },
            "baxis": {
             "endlinecolor": "#2a3f5f",
             "gridcolor": "white",
             "linecolor": "white",
             "minorgridcolor": "white",
             "startlinecolor": "#2a3f5f"
            },
            "type": "carpet"
           }
          ],
          "choropleth": [
           {
            "colorbar": {
             "outlinewidth": 0,
             "ticks": ""
            },
            "type": "choropleth"
           }
          ],
          "contour": [
           {
            "colorbar": {
             "outlinewidth": 0,
             "ticks": ""
            },
            "colorscale": [
             [
              0,
              "#0d0887"
             ],
             [
              0.1111111111111111,
              "#46039f"
             ],
             [
              0.2222222222222222,
              "#7201a8"
             ],
             [
              0.3333333333333333,
              "#9c179e"
             ],
             [
              0.4444444444444444,
              "#bd3786"
             ],
             [
              0.5555555555555556,
              "#d8576b"
             ],
             [
              0.6666666666666666,
              "#ed7953"
             ],
             [
              0.7777777777777778,
              "#fb9f3a"
             ],
             [
              0.8888888888888888,
              "#fdca26"
             ],
             [
              1,
              "#f0f921"
             ]
            ],
            "type": "contour"
           }
          ],
          "contourcarpet": [
           {
            "colorbar": {
             "outlinewidth": 0,
             "ticks": ""
            },
            "type": "contourcarpet"
           }
          ],
          "heatmap": [
           {
            "colorbar": {
             "outlinewidth": 0,
             "ticks": ""
            },
            "colorscale": [
             [
              0,
              "#0d0887"
             ],
             [
              0.1111111111111111,
              "#46039f"
             ],
             [
              0.2222222222222222,
              "#7201a8"
             ],
             [
              0.3333333333333333,
              "#9c179e"
             ],
             [
              0.4444444444444444,
              "#bd3786"
             ],
             [
              0.5555555555555556,
              "#d8576b"
             ],
             [
              0.6666666666666666,
              "#ed7953"
             ],
             [
              0.7777777777777778,
              "#fb9f3a"
             ],
             [
              0.8888888888888888,
              "#fdca26"
             ],
             [
              1,
              "#f0f921"
             ]
            ],
            "type": "heatmap"
           }
          ],
          "heatmapgl": [
           {
            "colorbar": {
             "outlinewidth": 0,
             "ticks": ""
            },
            "colorscale": [
             [
              0,
              "#0d0887"
             ],
             [
              0.1111111111111111,
              "#46039f"
             ],
             [
              0.2222222222222222,
              "#7201a8"
             ],
             [
              0.3333333333333333,
              "#9c179e"
             ],
             [
              0.4444444444444444,
              "#bd3786"
             ],
             [
              0.5555555555555556,
              "#d8576b"
             ],
             [
              0.6666666666666666,
              "#ed7953"
             ],
             [
              0.7777777777777778,
              "#fb9f3a"
             ],
             [
              0.8888888888888888,
              "#fdca26"
             ],
             [
              1,
              "#f0f921"
             ]
            ],
            "type": "heatmapgl"
           }
          ],
          "histogram": [
           {
            "marker": {
             "pattern": {
              "fillmode": "overlay",
              "size": 10,
              "solidity": 0.2
             }
            },
            "type": "histogram"
           }
          ],
          "histogram2d": [
           {
            "colorbar": {
             "outlinewidth": 0,
             "ticks": ""
            },
            "colorscale": [
             [
              0,
              "#0d0887"
             ],
             [
              0.1111111111111111,
              "#46039f"
             ],
             [
              0.2222222222222222,
              "#7201a8"
             ],
             [
              0.3333333333333333,
              "#9c179e"
             ],
             [
              0.4444444444444444,
              "#bd3786"
             ],
             [
              0.5555555555555556,
              "#d8576b"
             ],
             [
              0.6666666666666666,
              "#ed7953"
             ],
             [
              0.7777777777777778,
              "#fb9f3a"
             ],
             [
              0.8888888888888888,
              "#fdca26"
             ],
             [
              1,
              "#f0f921"
             ]
            ],
            "type": "histogram2d"
           }
          ],
          "histogram2dcontour": [
           {
            "colorbar": {
             "outlinewidth": 0,
             "ticks": ""
            },
            "colorscale": [
             [
              0,
              "#0d0887"
             ],
             [
              0.1111111111111111,
              "#46039f"
             ],
             [
              0.2222222222222222,
              "#7201a8"
             ],
             [
              0.3333333333333333,
              "#9c179e"
             ],
             [
              0.4444444444444444,
              "#bd3786"
             ],
             [
              0.5555555555555556,
              "#d8576b"
             ],
             [
              0.6666666666666666,
              "#ed7953"
             ],
             [
              0.7777777777777778,
              "#fb9f3a"
             ],
             [
              0.8888888888888888,
              "#fdca26"
             ],
             [
              1,
              "#f0f921"
             ]
            ],
            "type": "histogram2dcontour"
           }
          ],
          "mesh3d": [
           {
            "colorbar": {
             "outlinewidth": 0,
             "ticks": ""
            },
            "type": "mesh3d"
           }
          ],
          "parcoords": [
           {
            "line": {
             "colorbar": {
              "outlinewidth": 0,
              "ticks": ""
             }
            },
            "type": "parcoords"
           }
          ],
          "pie": [
           {
            "automargin": true,
            "type": "pie"
           }
          ],
          "scatter": [
           {
            "fillpattern": {
             "fillmode": "overlay",
             "size": 10,
             "solidity": 0.2
            },
            "type": "scatter"
           }
          ],
          "scatter3d": [
           {
            "line": {
             "colorbar": {
              "outlinewidth": 0,
              "ticks": ""
             }
            },
            "marker": {
             "colorbar": {
              "outlinewidth": 0,
              "ticks": ""
             }
            },
            "type": "scatter3d"
           }
          ],
          "scattercarpet": [
           {
            "marker": {
             "colorbar": {
              "outlinewidth": 0,
              "ticks": ""
             }
            },
            "type": "scattercarpet"
           }
          ],
          "scattergeo": [
           {
            "marker": {
             "colorbar": {
              "outlinewidth": 0,
              "ticks": ""
             }
            },
            "type": "scattergeo"
           }
          ],
          "scattergl": [
           {
            "marker": {
             "colorbar": {
              "outlinewidth": 0,
              "ticks": ""
             }
            },
            "type": "scattergl"
           }
          ],
          "scattermapbox": [
           {
            "marker": {
             "colorbar": {
              "outlinewidth": 0,
              "ticks": ""
             }
            },
            "type": "scattermapbox"
           }
          ],
          "scatterpolar": [
           {
            "marker": {
             "colorbar": {
              "outlinewidth": 0,
              "ticks": ""
             }
            },
            "type": "scatterpolar"
           }
          ],
          "scatterpolargl": [
           {
            "marker": {
             "colorbar": {
              "outlinewidth": 0,
              "ticks": ""
             }
            },
            "type": "scatterpolargl"
           }
          ],
          "scatterternary": [
           {
            "marker": {
             "colorbar": {
              "outlinewidth": 0,
              "ticks": ""
             }
            },
            "type": "scatterternary"
           }
          ],
          "surface": [
           {
            "colorbar": {
             "outlinewidth": 0,
             "ticks": ""
            },
            "colorscale": [
             [
              0,
              "#0d0887"
             ],
             [
              0.1111111111111111,
              "#46039f"
             ],
             [
              0.2222222222222222,
              "#7201a8"
             ],
             [
              0.3333333333333333,
              "#9c179e"
             ],
             [
              0.4444444444444444,
              "#bd3786"
             ],
             [
              0.5555555555555556,
              "#d8576b"
             ],
             [
              0.6666666666666666,
              "#ed7953"
             ],
             [
              0.7777777777777778,
              "#fb9f3a"
             ],
             [
              0.8888888888888888,
              "#fdca26"
             ],
             [
              1,
              "#f0f921"
             ]
            ],
            "type": "surface"
           }
          ],
          "table": [
           {
            "cells": {
             "fill": {
              "color": "#EBF0F8"
             },
             "line": {
              "color": "white"
             }
            },
            "header": {
             "fill": {
              "color": "#C8D4E3"
             },
             "line": {
              "color": "white"
             }
            },
            "type": "table"
           }
          ]
         },
         "layout": {
          "annotationdefaults": {
           "arrowcolor": "#2a3f5f",
           "arrowhead": 0,
           "arrowwidth": 1
          },
          "autotypenumbers": "strict",
          "coloraxis": {
           "colorbar": {
            "outlinewidth": 0,
            "ticks": ""
           }
          },
          "colorscale": {
           "diverging": [
            [
             0,
             "#8e0152"
            ],
            [
             0.1,
             "#c51b7d"
            ],
            [
             0.2,
             "#de77ae"
            ],
            [
             0.3,
             "#f1b6da"
            ],
            [
             0.4,
             "#fde0ef"
            ],
            [
             0.5,
             "#f7f7f7"
            ],
            [
             0.6,
             "#e6f5d0"
            ],
            [
             0.7,
             "#b8e186"
            ],
            [
             0.8,
             "#7fbc41"
            ],
            [
             0.9,
             "#4d9221"
            ],
            [
             1,
             "#276419"
            ]
           ],
           "sequential": [
            [
             0,
             "#0d0887"
            ],
            [
             0.1111111111111111,
             "#46039f"
            ],
            [
             0.2222222222222222,
             "#7201a8"
            ],
            [
             0.3333333333333333,
             "#9c179e"
            ],
            [
             0.4444444444444444,
             "#bd3786"
            ],
            [
             0.5555555555555556,
             "#d8576b"
            ],
            [
             0.6666666666666666,
             "#ed7953"
            ],
            [
             0.7777777777777778,
             "#fb9f3a"
            ],
            [
             0.8888888888888888,
             "#fdca26"
            ],
            [
             1,
             "#f0f921"
            ]
           ],
           "sequentialminus": [
            [
             0,
             "#0d0887"
            ],
            [
             0.1111111111111111,
             "#46039f"
            ],
            [
             0.2222222222222222,
             "#7201a8"
            ],
            [
             0.3333333333333333,
             "#9c179e"
            ],
            [
             0.4444444444444444,
             "#bd3786"
            ],
            [
             0.5555555555555556,
             "#d8576b"
            ],
            [
             0.6666666666666666,
             "#ed7953"
            ],
            [
             0.7777777777777778,
             "#fb9f3a"
            ],
            [
             0.8888888888888888,
             "#fdca26"
            ],
            [
             1,
             "#f0f921"
            ]
           ]
          },
          "colorway": [
           "#636efa",
           "#EF553B",
           "#00cc96",
           "#ab63fa",
           "#FFA15A",
           "#19d3f3",
           "#FF6692",
           "#B6E880",
           "#FF97FF",
           "#FECB52"
          ],
          "font": {
           "color": "#2a3f5f"
          },
          "geo": {
           "bgcolor": "white",
           "lakecolor": "white",
           "landcolor": "#E5ECF6",
           "showlakes": true,
           "showland": true,
           "subunitcolor": "white"
          },
          "hoverlabel": {
           "align": "left"
          },
          "hovermode": "closest",
          "mapbox": {
           "style": "light"
          },
          "paper_bgcolor": "white",
          "plot_bgcolor": "#E5ECF6",
          "polar": {
           "angularaxis": {
            "gridcolor": "white",
            "linecolor": "white",
            "ticks": ""
           },
           "bgcolor": "#E5ECF6",
           "radialaxis": {
            "gridcolor": "white",
            "linecolor": "white",
            "ticks": ""
           }
          },
          "scene": {
           "xaxis": {
            "backgroundcolor": "#E5ECF6",
            "gridcolor": "white",
            "gridwidth": 2,
            "linecolor": "white",
            "showbackground": true,
            "ticks": "",
            "zerolinecolor": "white"
           },
           "yaxis": {
            "backgroundcolor": "#E5ECF6",
            "gridcolor": "white",
            "gridwidth": 2,
            "linecolor": "white",
            "showbackground": true,
            "ticks": "",
            "zerolinecolor": "white"
           },
           "zaxis": {
            "backgroundcolor": "#E5ECF6",
            "gridcolor": "white",
            "gridwidth": 2,
            "linecolor": "white",
            "showbackground": true,
            "ticks": "",
            "zerolinecolor": "white"
           }
          },
          "shapedefaults": {
           "line": {
            "color": "#2a3f5f"
           }
          },
          "ternary": {
           "aaxis": {
            "gridcolor": "white",
            "linecolor": "white",
            "ticks": ""
           },
           "baxis": {
            "gridcolor": "white",
            "linecolor": "white",
            "ticks": ""
           },
           "bgcolor": "#E5ECF6",
           "caxis": {
            "gridcolor": "white",
            "linecolor": "white",
            "ticks": ""
           }
          },
          "title": {
           "x": 0.05
          },
          "xaxis": {
           "automargin": true,
           "gridcolor": "white",
           "linecolor": "white",
           "ticks": "",
           "title": {
            "standoff": 15
           },
           "zerolinecolor": "white",
           "zerolinewidth": 2
          },
          "yaxis": {
           "automargin": true,
           "gridcolor": "white",
           "linecolor": "white",
           "ticks": "",
           "title": {
            "standoff": 15
           },
           "zerolinecolor": "white",
           "zerolinewidth": 2
          }
         }
        },
        "title": {
         "text": "Augmentation Performance Impact"
        },
        "width": 800,
        "xaxis": {
         "color": "rgba(44,62,80,1.0)",
         "gridcolor": "rgba(189,195,199,0.75)",
         "title": {
          "text": "Neural Architecture Index"
         },
         "zeroline": true,
         "zerolinecolor": "rgba(189,195,199,1.0)",
         "zerolinewidth": 1
        },
        "yaxis": {
         "color": "rgba(44,62,80,1.0)",
         "gridcolor": "rgba(189,195,199,0.75)",
         "title": {
          "text": "Processing Time (s)"
         },
         "zeroline": true,
         "zerolinecolor": "rgba(189,195,199,1.0)",
         "zerolinewidth": 1
        }
       }
      },
      "text/html": [
       "<div>                            <div id=\"2c5925a9-b7e4-49ac-afbf-562bde06595d\" class=\"plotly-graph-div\" style=\"height:500px; width:800px;\"></div>            <script type=\"text/javascript\">                require([\"plotly\"], function(Plotly) {                    window.PLOTLYENV=window.PLOTLYENV || {};                                    if (document.getElementById(\"2c5925a9-b7e4-49ac-afbf-562bde06595d\")) {                    Plotly.newPlot(                        \"2c5925a9-b7e4-49ac-afbf-562bde06595d\",                        [{\"line\":{\"color\":\"rgba(230,126,34,1.0)\"},\"mode\":\"lines\",\"name\":\"HiveNAS\",\"x\":[0,1,2,3,4,5,6,7,8,9,10,11,12,13,14,15,16,17,18,19,20,21,22,23,24,25,26,27,28,29,30,31,32,33,34,35,36,37,38,39,40,41,42,43,44,45,46,47,48,49,50,51,52,53,54],\"y\":[96.20630431175232,93.93491125106812,85.12194871902466,78.24222946166992,40.84614419937134,43.249436140060425,86.88442921638489,92.39392566680908,82.21732974052429,80.59364581108093,75.54980874061584,79.87505030632019,97.65216255187988,79.42038679122925,85.89526176452637,78.44687557220459,50.10521411895752,78.18110799789429,50.04748439788818,95.74503874778748,83.10204339027405,82.07622981071472,65.73724365234375,34.6028151512146,42.708863973617554,64.31260967254639,49.32172846794128,80.64058089256287,49.45450282096863,64.3923830986023,44.72349810600281,36.400646448135376,43.40532946586609,79.3396863937378,50.93495035171509,75.92923164367676,77.07593655586243,52.72623443603516,73.86212754249573,54.73793983459473,93.68319821357728,45.98794722557068,84.45624685287476,89.52877831459045,50.6974048614502,83.90219640731812,59.97565150260925,70.21874594688416,69.21397686004639,90.98049235343932,44.61329174041748,71.3318600654602,86.32048416137695,39.17276668548584,91.07730054855348],\"type\":\"scatter\"},{\"line\":{\"color\":\"rgba(230,126,34,0.5)\",\"dash\":\"dot\"},\"mode\":\"lines\",\"name\":\"HiveNAS (mean)\",\"x\":[0,1,2,3,4,5,6,7,8,9,10,11,12,13,14,15,16,17,18,19,20,21,22,23,24,25,26,27,28,29,30,31,32,33,34,35,36,37,38,39,40,41,42,43,44,45,46,47,48,49,50,51,52,53,54],\"y\":[69.58642943555658,69.58642943555658,69.58642943555658,69.58642943555658,69.58642943555658,69.58642943555658,69.58642943555658,69.58642943555658,69.58642943555658,69.58642943555658,69.58642943555658,69.58642943555658,69.58642943555658,69.58642943555658,69.58642943555658,69.58642943555658,69.58642943555658,69.58642943555658,69.58642943555658,69.58642943555658,69.58642943555658,69.58642943555658,69.58642943555658,69.58642943555658,69.58642943555658,69.58642943555658,69.58642943555658,69.58642943555658,69.58642943555658,69.58642943555658,69.58642943555658,69.58642943555658,69.58642943555658,69.58642943555658,69.58642943555658,69.58642943555658,69.58642943555658,69.58642943555658,69.58642943555658,69.58642943555658,69.58642943555658,69.58642943555658,69.58642943555658,69.58642943555658,69.58642943555658,69.58642943555658,69.58642943555658,69.58642943555658,69.58642943555658,69.58642943555658,69.58642943555658,69.58642943555658,69.58642943555658,69.58642943555658,69.58642943555658],\"type\":\"scatter\"},{\"line\":{\"color\":\"rgba(52,152,219,1.0)\"},\"mode\":\"lines\",\"name\":\"HiveNAS+Aug\",\"x\":[0,1,2,3,4,5,6,7,8,9,10,11,12,13,14,15,16,17,18,19,20,21,22,23,24,25,26,27,28,29,30,31,32,33,34,35,36,37,38,39,40,41,42,43,44,45,46,47,48,49,50,51,52,53,54],\"y\":[491.28327775001526,571.7600436210632,475.167964220047,562.3654184341431,564.413740158081,572.2733280658722,490.837240934372,561.9648914337158,561.3695447444916,544.9445989131927,502.7448122501373,576.6627426147461,506.99349880218506,562.0102405548096,502.487530708313,518.3046550750732,565.1616561412811,475.7915437221527,598.3369390964508,555.5446863174438,476.6011836528778,505.47947931289673,554.4600732326508,525.6055669784546,516.924654006958,554.3545341491699,518.1357250213623,532.9472737312317,544.2661526203156,555.3626527786255,573.4873304367065,628.803307056427,518.0427742004395,542.9004919528961,600.7045328617096,578.588933467865,578.7728431224823,537.1512491703033,564.7678060531616,596.795196056366,569.0522646903992,603.385892868042,553.2457423210144,542.7540130615234,546.1384694576263,577.4240362644196,583.3445980548859,528.2651016712189,622.9956886768341,608.7242043018341,632.8800530433655,555.8583936691284,601.4367415904999,562.4901704788208,626.0142660140991],\"type\":\"scatter\"},{\"line\":{\"color\":\"rgba(52,152,219,0.5)\",\"dash\":\"dot\"},\"mode\":\"lines\",\"name\":\"HiveNAS+Aug (mean)\",\"x\":[0,1,2,3,4,5,6,7,8,9,10,11,12,13,14,15,16,17,18,19,20,21,22,23,24,25,26,27,28,29,30,31,32,33,34,35,36,37,38,39,40,41,42,43,44,45,46,47,48,49,50,51,52,53,54],\"y\":[554.1559954469855,554.1559954469855,554.1559954469855,554.1559954469855,554.1559954469855,554.1559954469855,554.1559954469855,554.1559954469855,554.1559954469855,554.1559954469855,554.1559954469855,554.1559954469855,554.1559954469855,554.1559954469855,554.1559954469855,554.1559954469855,554.1559954469855,554.1559954469855,554.1559954469855,554.1559954469855,554.1559954469855,554.1559954469855,554.1559954469855,554.1559954469855,554.1559954469855,554.1559954469855,554.1559954469855,554.1559954469855,554.1559954469855,554.1559954469855,554.1559954469855,554.1559954469855,554.1559954469855,554.1559954469855,554.1559954469855,554.1559954469855,554.1559954469855,554.1559954469855,554.1559954469855,554.1559954469855,554.1559954469855,554.1559954469855,554.1559954469855,554.1559954469855,554.1559954469855,554.1559954469855,554.1559954469855,554.1559954469855,554.1559954469855,554.1559954469855,554.1559954469855,554.1559954469855,554.1559954469855,554.1559954469855,554.1559954469855],\"type\":\"scatter\"}],                        {\"template\":{\"data\":{\"histogram2dcontour\":[{\"type\":\"histogram2dcontour\",\"colorbar\":{\"outlinewidth\":0,\"ticks\":\"\"},\"colorscale\":[[0.0,\"#0d0887\"],[0.1111111111111111,\"#46039f\"],[0.2222222222222222,\"#7201a8\"],[0.3333333333333333,\"#9c179e\"],[0.4444444444444444,\"#bd3786\"],[0.5555555555555556,\"#d8576b\"],[0.6666666666666666,\"#ed7953\"],[0.7777777777777778,\"#fb9f3a\"],[0.8888888888888888,\"#fdca26\"],[1.0,\"#f0f921\"]]}],\"choropleth\":[{\"type\":\"choropleth\",\"colorbar\":{\"outlinewidth\":0,\"ticks\":\"\"}}],\"histogram2d\":[{\"type\":\"histogram2d\",\"colorbar\":{\"outlinewidth\":0,\"ticks\":\"\"},\"colorscale\":[[0.0,\"#0d0887\"],[0.1111111111111111,\"#46039f\"],[0.2222222222222222,\"#7201a8\"],[0.3333333333333333,\"#9c179e\"],[0.4444444444444444,\"#bd3786\"],[0.5555555555555556,\"#d8576b\"],[0.6666666666666666,\"#ed7953\"],[0.7777777777777778,\"#fb9f3a\"],[0.8888888888888888,\"#fdca26\"],[1.0,\"#f0f921\"]]}],\"heatmap\":[{\"type\":\"heatmap\",\"colorbar\":{\"outlinewidth\":0,\"ticks\":\"\"},\"colorscale\":[[0.0,\"#0d0887\"],[0.1111111111111111,\"#46039f\"],[0.2222222222222222,\"#7201a8\"],[0.3333333333333333,\"#9c179e\"],[0.4444444444444444,\"#bd3786\"],[0.5555555555555556,\"#d8576b\"],[0.6666666666666666,\"#ed7953\"],[0.7777777777777778,\"#fb9f3a\"],[0.8888888888888888,\"#fdca26\"],[1.0,\"#f0f921\"]]}],\"heatmapgl\":[{\"type\":\"heatmapgl\",\"colorbar\":{\"outlinewidth\":0,\"ticks\":\"\"},\"colorscale\":[[0.0,\"#0d0887\"],[0.1111111111111111,\"#46039f\"],[0.2222222222222222,\"#7201a8\"],[0.3333333333333333,\"#9c179e\"],[0.4444444444444444,\"#bd3786\"],[0.5555555555555556,\"#d8576b\"],[0.6666666666666666,\"#ed7953\"],[0.7777777777777778,\"#fb9f3a\"],[0.8888888888888888,\"#fdca26\"],[1.0,\"#f0f921\"]]}],\"contourcarpet\":[{\"type\":\"contourcarpet\",\"colorbar\":{\"outlinewidth\":0,\"ticks\":\"\"}}],\"contour\":[{\"type\":\"contour\",\"colorbar\":{\"outlinewidth\":0,\"ticks\":\"\"},\"colorscale\":[[0.0,\"#0d0887\"],[0.1111111111111111,\"#46039f\"],[0.2222222222222222,\"#7201a8\"],[0.3333333333333333,\"#9c179e\"],[0.4444444444444444,\"#bd3786\"],[0.5555555555555556,\"#d8576b\"],[0.6666666666666666,\"#ed7953\"],[0.7777777777777778,\"#fb9f3a\"],[0.8888888888888888,\"#fdca26\"],[1.0,\"#f0f921\"]]}],\"surface\":[{\"type\":\"surface\",\"colorbar\":{\"outlinewidth\":0,\"ticks\":\"\"},\"colorscale\":[[0.0,\"#0d0887\"],[0.1111111111111111,\"#46039f\"],[0.2222222222222222,\"#7201a8\"],[0.3333333333333333,\"#9c179e\"],[0.4444444444444444,\"#bd3786\"],[0.5555555555555556,\"#d8576b\"],[0.6666666666666666,\"#ed7953\"],[0.7777777777777778,\"#fb9f3a\"],[0.8888888888888888,\"#fdca26\"],[1.0,\"#f0f921\"]]}],\"mesh3d\":[{\"type\":\"mesh3d\",\"colorbar\":{\"outlinewidth\":0,\"ticks\":\"\"}}],\"scatter\":[{\"fillpattern\":{\"fillmode\":\"overlay\",\"size\":10,\"solidity\":0.2},\"type\":\"scatter\"}],\"parcoords\":[{\"type\":\"parcoords\",\"line\":{\"colorbar\":{\"outlinewidth\":0,\"ticks\":\"\"}}}],\"scatterpolargl\":[{\"type\":\"scatterpolargl\",\"marker\":{\"colorbar\":{\"outlinewidth\":0,\"ticks\":\"\"}}}],\"bar\":[{\"error_x\":{\"color\":\"#2a3f5f\"},\"error_y\":{\"color\":\"#2a3f5f\"},\"marker\":{\"line\":{\"color\":\"#E5ECF6\",\"width\":0.5},\"pattern\":{\"fillmode\":\"overlay\",\"size\":10,\"solidity\":0.2}},\"type\":\"bar\"}],\"scattergeo\":[{\"type\":\"scattergeo\",\"marker\":{\"colorbar\":{\"outlinewidth\":0,\"ticks\":\"\"}}}],\"scatterpolar\":[{\"type\":\"scatterpolar\",\"marker\":{\"colorbar\":{\"outlinewidth\":0,\"ticks\":\"\"}}}],\"histogram\":[{\"marker\":{\"pattern\":{\"fillmode\":\"overlay\",\"size\":10,\"solidity\":0.2}},\"type\":\"histogram\"}],\"scattergl\":[{\"type\":\"scattergl\",\"marker\":{\"colorbar\":{\"outlinewidth\":0,\"ticks\":\"\"}}}],\"scatter3d\":[{\"type\":\"scatter3d\",\"line\":{\"colorbar\":{\"outlinewidth\":0,\"ticks\":\"\"}},\"marker\":{\"colorbar\":{\"outlinewidth\":0,\"ticks\":\"\"}}}],\"scattermapbox\":[{\"type\":\"scattermapbox\",\"marker\":{\"colorbar\":{\"outlinewidth\":0,\"ticks\":\"\"}}}],\"scatterternary\":[{\"type\":\"scatterternary\",\"marker\":{\"colorbar\":{\"outlinewidth\":0,\"ticks\":\"\"}}}],\"scattercarpet\":[{\"type\":\"scattercarpet\",\"marker\":{\"colorbar\":{\"outlinewidth\":0,\"ticks\":\"\"}}}],\"carpet\":[{\"aaxis\":{\"endlinecolor\":\"#2a3f5f\",\"gridcolor\":\"white\",\"linecolor\":\"white\",\"minorgridcolor\":\"white\",\"startlinecolor\":\"#2a3f5f\"},\"baxis\":{\"endlinecolor\":\"#2a3f5f\",\"gridcolor\":\"white\",\"linecolor\":\"white\",\"minorgridcolor\":\"white\",\"startlinecolor\":\"#2a3f5f\"},\"type\":\"carpet\"}],\"table\":[{\"cells\":{\"fill\":{\"color\":\"#EBF0F8\"},\"line\":{\"color\":\"white\"}},\"header\":{\"fill\":{\"color\":\"#C8D4E3\"},\"line\":{\"color\":\"white\"}},\"type\":\"table\"}],\"barpolar\":[{\"marker\":{\"line\":{\"color\":\"#E5ECF6\",\"width\":0.5},\"pattern\":{\"fillmode\":\"overlay\",\"size\":10,\"solidity\":0.2}},\"type\":\"barpolar\"}],\"pie\":[{\"automargin\":true,\"type\":\"pie\"}]},\"layout\":{\"autotypenumbers\":\"strict\",\"colorway\":[\"#636efa\",\"#EF553B\",\"#00cc96\",\"#ab63fa\",\"#FFA15A\",\"#19d3f3\",\"#FF6692\",\"#B6E880\",\"#FF97FF\",\"#FECB52\"],\"font\":{\"color\":\"#2a3f5f\"},\"hovermode\":\"closest\",\"hoverlabel\":{\"align\":\"left\"},\"paper_bgcolor\":\"white\",\"plot_bgcolor\":\"#E5ECF6\",\"polar\":{\"bgcolor\":\"#E5ECF6\",\"angularaxis\":{\"gridcolor\":\"white\",\"linecolor\":\"white\",\"ticks\":\"\"},\"radialaxis\":{\"gridcolor\":\"white\",\"linecolor\":\"white\",\"ticks\":\"\"}},\"ternary\":{\"bgcolor\":\"#E5ECF6\",\"aaxis\":{\"gridcolor\":\"white\",\"linecolor\":\"white\",\"ticks\":\"\"},\"baxis\":{\"gridcolor\":\"white\",\"linecolor\":\"white\",\"ticks\":\"\"},\"caxis\":{\"gridcolor\":\"white\",\"linecolor\":\"white\",\"ticks\":\"\"}},\"coloraxis\":{\"colorbar\":{\"outlinewidth\":0,\"ticks\":\"\"}},\"colorscale\":{\"sequential\":[[0.0,\"#0d0887\"],[0.1111111111111111,\"#46039f\"],[0.2222222222222222,\"#7201a8\"],[0.3333333333333333,\"#9c179e\"],[0.4444444444444444,\"#bd3786\"],[0.5555555555555556,\"#d8576b\"],[0.6666666666666666,\"#ed7953\"],[0.7777777777777778,\"#fb9f3a\"],[0.8888888888888888,\"#fdca26\"],[1.0,\"#f0f921\"]],\"sequentialminus\":[[0.0,\"#0d0887\"],[0.1111111111111111,\"#46039f\"],[0.2222222222222222,\"#7201a8\"],[0.3333333333333333,\"#9c179e\"],[0.4444444444444444,\"#bd3786\"],[0.5555555555555556,\"#d8576b\"],[0.6666666666666666,\"#ed7953\"],[0.7777777777777778,\"#fb9f3a\"],[0.8888888888888888,\"#fdca26\"],[1.0,\"#f0f921\"]],\"diverging\":[[0,\"#8e0152\"],[0.1,\"#c51b7d\"],[0.2,\"#de77ae\"],[0.3,\"#f1b6da\"],[0.4,\"#fde0ef\"],[0.5,\"#f7f7f7\"],[0.6,\"#e6f5d0\"],[0.7,\"#b8e186\"],[0.8,\"#7fbc41\"],[0.9,\"#4d9221\"],[1,\"#276419\"]]},\"xaxis\":{\"gridcolor\":\"white\",\"linecolor\":\"white\",\"ticks\":\"\",\"title\":{\"standoff\":15},\"zerolinecolor\":\"white\",\"automargin\":true,\"zerolinewidth\":2},\"yaxis\":{\"gridcolor\":\"white\",\"linecolor\":\"white\",\"ticks\":\"\",\"title\":{\"standoff\":15},\"zerolinecolor\":\"white\",\"automargin\":true,\"zerolinewidth\":2},\"scene\":{\"xaxis\":{\"backgroundcolor\":\"#E5ECF6\",\"gridcolor\":\"white\",\"linecolor\":\"white\",\"showbackground\":true,\"ticks\":\"\",\"zerolinecolor\":\"white\",\"gridwidth\":2},\"yaxis\":{\"backgroundcolor\":\"#E5ECF6\",\"gridcolor\":\"white\",\"linecolor\":\"white\",\"showbackground\":true,\"ticks\":\"\",\"zerolinecolor\":\"white\",\"gridwidth\":2},\"zaxis\":{\"backgroundcolor\":\"#E5ECF6\",\"gridcolor\":\"white\",\"linecolor\":\"white\",\"showbackground\":true,\"ticks\":\"\",\"zerolinecolor\":\"white\",\"gridwidth\":2}},\"shapedefaults\":{\"line\":{\"color\":\"#2a3f5f\"}},\"annotationdefaults\":{\"arrowcolor\":\"#2a3f5f\",\"arrowhead\":0,\"arrowwidth\":1},\"geo\":{\"bgcolor\":\"white\",\"landcolor\":\"#E5ECF6\",\"subunitcolor\":\"white\",\"showland\":true,\"showlakes\":true,\"lakecolor\":\"white\"},\"title\":{\"x\":0.05},\"mapbox\":{\"style\":\"light\"}}},\"title\":{\"text\":\"Augmentation Performance Impact\"},\"xaxis\":{\"title\":{\"text\":\"Neural Architecture Index\"},\"color\":\"rgba(44,62,80,1.0)\",\"zeroline\":true,\"zerolinewidth\":1,\"zerolinecolor\":\"rgba(189,195,199,1.0)\",\"gridcolor\":\"rgba(189,195,199,0.75)\"},\"yaxis\":{\"title\":{\"text\":\"Processing Time (s)\"},\"color\":\"rgba(44,62,80,1.0)\",\"zeroline\":true,\"zerolinewidth\":1,\"zerolinecolor\":\"rgba(189,195,199,1.0)\",\"gridcolor\":\"rgba(189,195,199,0.75)\"},\"plot_bgcolor\":\"white\",\"autosize\":false,\"width\":800,\"height\":500},                        {\"responsive\": true}                    ).then(function(){\n",
       "                            \n",
       "var gd = document.getElementById('2c5925a9-b7e4-49ac-afbf-562bde06595d');\n",
       "var x = new MutationObserver(function (mutations, observer) {{\n",
       "        var display = window.getComputedStyle(gd).display;\n",
       "        if (!display || display === 'none') {{\n",
       "            console.log([gd, 'removed!']);\n",
       "            Plotly.purge(gd);\n",
       "            observer.disconnect();\n",
       "        }}\n",
       "}});\n",
       "\n",
       "// Listen for the removal of the full notebook cells\n",
       "var notebookContainer = gd.closest('#notebook-container');\n",
       "if (notebookContainer) {{\n",
       "    x.observe(notebookContainer, {childList: true});\n",
       "}}\n",
       "\n",
       "// Listen for the clearing of the current output cell\n",
       "var outputEl = gd.closest('.output');\n",
       "if (outputEl) {{\n",
       "    x.observe(outputEl, {childList: true});\n",
       "}}\n",
       "\n",
       "                        })                };                });            </script>        </div>"
      ]
     },
     "metadata": {},
     "output_type": "display_data"
    }
   ],
   "source": [
    "p_time_a = main_df_a['time'].values\n",
    "p_time_b = main_df_b['time'].values\n",
    "\n",
    "# Truncate data length to match (for aesthetic purposes)\n",
    "p_time_a = p_time_a[:min(len(p_time_a), len(p_time_b))]\n",
    "p_time_b = p_time_b[:min(len(p_time_a), len(p_time_b))]\n",
    "\n",
    "# Instantiate processing times df\n",
    "performance_times = {'HiveNAS': p_time_a,\n",
    "                     'HiveNAS+Aug': p_time_b}\n",
    "\n",
    "performance_df = pd.DataFrame(dict([(k,pd.Series(val)) for k,val in performance_times.items()]))\n",
    "\n",
    "# Figure customization\n",
    "fig = go.Figure()\n",
    "fig.update_layout(\n",
    "    title='Augmentation Performance Impact',\n",
    "    xaxis_title='Neural Architecture Index', \n",
    "    yaxis_title='Processing Time (s)',\n",
    "    plot_bgcolor='white',\n",
    "    autosize=False,\n",
    "    width=800,\n",
    "    height=500\n",
    ")\n",
    "\n",
    "fig.update_yaxes(color=PLOT_TEXT_COLOR,\n",
    "                 zeroline=True,\n",
    "                 zerolinewidth=1,\n",
    "                 zerolinecolor=GRID_ZERO_LINE_COLOR,\n",
    "                 gridcolor=GRID_LINE_COLOR)\n",
    "\n",
    "fig.update_xaxes(color=PLOT_TEXT_COLOR,\n",
    "                 zeroline=True,\n",
    "                 zerolinewidth=1,\n",
    "                 zerolinecolor=GRID_ZERO_LINE_COLOR,\n",
    "                 gridcolor=GRID_LINE_COLOR)\n",
    "\n",
    "# Traces\n",
    "fig.add_trace(go.Scatter(x=list(range(len(p_time_a))), y=p_time_a,\n",
    "                         mode='lines',\n",
    "                         name='HiveNAS',\n",
    "                         line=dict(color=TRACE_1_COLOR)))\n",
    "fig.add_trace(go.Scatter(x=list(range(len(p_time_a))), y=[p_time_a.mean() for _ in range(len(p_time_a))],\n",
    "                         mode='lines',\n",
    "                         name='HiveNAS (mean)',\n",
    "                         line=dict(color=TRACE_1_DOTTED_COLOR, dash='dot')))\n",
    "\n",
    "\n",
    "fig.add_trace(go.Scatter(x=list(range(len(p_time_b))), y=p_time_b,\n",
    "                         mode='lines',\n",
    "                         name='HiveNAS+Aug',\n",
    "                         line=dict(color=TRACE_2_COLOR)))\n",
    "fig.add_trace(go.Scatter(x=list(range(len(p_time_b))), y=[p_time_b.mean() for _ in range(len(p_time_b))],\n",
    "                         mode='lines',\n",
    "                         name='HiveNAS+Aug (mean)',\n",
    "                         line=dict(color=TRACE_2_DOTTED_COLOR, dash='dot')))\n",
    "\n",
    "fig.write_image(ANALYSIS_RESULTS_PATH + 'augmentation_impact.eps')\n",
    "\n",
    "fig.show()\n"
   ]
  },
  {
   "cell_type": "markdown",
   "id": "47f28600",
   "metadata": {},
   "source": [
    "#### Convergence Profile"
   ]
  },
  {
   "cell_type": "code",
   "execution_count": 34,
   "id": "119cd835",
   "metadata": {
    "ExecuteTime": {
     "end_time": "2022-10-02T20:08:02.962340Z",
     "start_time": "2022-10-02T20:08:02.704658Z"
    },
    "scrolled": false
   },
   "outputs": [
    {
     "data": {
      "application/vnd.plotly.v1+json": {
       "config": {
        "plotlyServerURL": "https://plot.ly"
       },
       "data": [
        {
         "line": {
          "color": "rgba(230,126,34,1.0)"
         },
         "mode": "lines",
         "name": "HiveNAS",
         "type": "scatter",
         "x": [
          0,
          1,
          2,
          3,
          4,
          5,
          6,
          7,
          8,
          9,
          10,
          11,
          12,
          13,
          14,
          15,
          16,
          17,
          18,
          19,
          20,
          21,
          22,
          23,
          24,
          25,
          26,
          27,
          28,
          29,
          30,
          31,
          32,
          33,
          34,
          35,
          36,
          37,
          38,
          39,
          40,
          41,
          42,
          43,
          44,
          45,
          46,
          47,
          48
         ],
         "y": [
          0.09621849060058593,
          0.05980426073074341,
          0.09877297878265381,
          0.09991785287857055,
          0.09871710538864135,
          0.053827452659606936,
          0.026807403564453124,
          0.07544577121734619,
          0.029035186767578124,
          0.10001190900802612,
          0.09916520118713379,
          0.021383786201477052,
          0.10479938983917236,
          0.10954675674438477,
          0.03245861530303955,
          0.0711856722831726,
          0.11979784965515136,
          0.06724969148635865,
          0.10416686534881592,
          0.04241302013397217,
          0.08491343259811401,
          0.09118905067443847,
          0.10638015270233155,
          0.06407737731933594,
          0.08926916122436523,
          0.09087848663330078,
          0.12850264310836793,
          0.09888273477554321,
          0.11056180000305176,
          0.05633515119552612,
          0.08352912664413452,
          0.07506457567214966,
          0.1040601372718811,
          0.0230609655380249,
          0.06224825382232666,
          0.09195287227630615,
          0.12561067342758178,
          0.044075500965118405,
          0.023105788230895995,
          0.04284788370132446,
          0.09357115030288696,
          0.05768721103668213,
          0.056176066398620605,
          0.09657105207443237,
          0.04348868131637573,
          0.12012658119201661,
          0.08695461750030517,
          0.11118878126144409,
          0.08148150444030762
         ]
        },
        {
         "line": {
          "color": "rgba(230,126,34,0.5)",
          "dash": "dot"
         },
         "mode": "lines",
         "name": "HiveNAS (mean)",
         "type": "scatter",
         "x": [
          0,
          1,
          2,
          3,
          4,
          5,
          6,
          7,
          8,
          9,
          10,
          11,
          12,
          13,
          14,
          15,
          16,
          17,
          18,
          19,
          20,
          21,
          22,
          23,
          24,
          25,
          26,
          27,
          28,
          29,
          30,
          31,
          32,
          33,
          34,
          35,
          36,
          37,
          38,
          39,
          40,
          41,
          42,
          43,
          44,
          45,
          46,
          47,
          48
         ],
         "y": [
          0.07866360557322599,
          0.07866360557322599,
          0.07866360557322599,
          0.07866360557322599,
          0.07866360557322599,
          0.07866360557322599,
          0.07866360557322599,
          0.07866360557322599,
          0.07866360557322599,
          0.07866360557322599,
          0.07866360557322599,
          0.07866360557322599,
          0.07866360557322599,
          0.07866360557322599,
          0.07866360557322599,
          0.07866360557322599,
          0.07866360557322599,
          0.07866360557322599,
          0.07866360557322599,
          0.07866360557322599,
          0.07866360557322599,
          0.07866360557322599,
          0.07866360557322599,
          0.07866360557322599,
          0.07866360557322599,
          0.07866360557322599,
          0.07866360557322599,
          0.07866360557322599,
          0.07866360557322599,
          0.07866360557322599,
          0.07866360557322599,
          0.07866360557322599,
          0.07866360557322599,
          0.07866360557322599,
          0.07866360557322599,
          0.07866360557322599,
          0.07866360557322599,
          0.07866360557322599,
          0.07866360557322599,
          0.07866360557322599,
          0.07866360557322599,
          0.07866360557322599,
          0.07866360557322599,
          0.07866360557322599,
          0.07866360557322599,
          0.07866360557322599,
          0.07866360557322599,
          0.07866360557322599,
          0.07866360557322599
         ]
        },
        {
         "line": {
          "color": "rgba(52,152,219,1.0)"
         },
         "mode": "lines",
         "name": "HiveNAS+Aug",
         "type": "scatter",
         "x": [
          0,
          1,
          2,
          3,
          4,
          5,
          6,
          7,
          8,
          9,
          10,
          11,
          12,
          13,
          14,
          15,
          16,
          17,
          18,
          19,
          20,
          21,
          22,
          23,
          24,
          25,
          26,
          27,
          28,
          29,
          30,
          31,
          32,
          33,
          34,
          35,
          36,
          37,
          38,
          39,
          40,
          41,
          42,
          43,
          44,
          45,
          46,
          47,
          48
         ],
         "y": [
          0.06652836799621582,
          0.06765458583831788,
          0.09736406803131104,
          0.07026548385620117,
          0.084537935256958,
          0.16066789627075195,
          0.09667441844940186,
          0.07195250988006592,
          0.10150983333587646,
          0.15952541828155517,
          0.13210489749908447,
          0.08173534870147706,
          0.09060883522033691,
          0.12952058315277098,
          0.10576407909393311,
          0.08702738285064697,
          0.053946518898010255,
          0.10744304656982422,
          0.0882540225982666,
          0.09952166080474853,
          0.08911325931549072,
          0.10417342185974121,
          0.10720188617706299,
          0.08667480945587158,
          0.103332257270813,
          0.09672315120697021,
          0.0935701847076416,
          0.10122859477996826,
          0.09199752807617187,
          0.1019317626953125,
          0.0857388973236084,
          0.09312121868133545,
          0.10434527397155761,
          0.10050396919250489,
          0.0955777645111084,
          0.08934133052825928,
          0.08460397720336914,
          0.09567742347717285,
          0.08052849769592285,
          0.09346330165863037,
          0.1000352144241333,
          0.10065555572509766,
          0.09357292652130127,
          0.08993921279907227,
          0.0744626522064209,
          0.08949244022369385,
          0.09998948574066162,
          0.12628549337387085,
          0.10067315101623535
         ]
        },
        {
         "line": {
          "color": "rgba(52,152,219,0.5)",
          "dash": "dot"
         },
         "mode": "lines",
         "name": "HiveNAS+Aug (mean)",
         "type": "scatter",
         "x": [
          0,
          1,
          2,
          3,
          4,
          5,
          6,
          7,
          8,
          9,
          10,
          11,
          12,
          13,
          14,
          15,
          16,
          17,
          18,
          19,
          20,
          21,
          22,
          23,
          24,
          25,
          26,
          27,
          28,
          29,
          30,
          31,
          32,
          33,
          34,
          35,
          36,
          37,
          38,
          39,
          40,
          41,
          42,
          43,
          44,
          45,
          46,
          47,
          48
         ],
         "y": [
          0.09646043947764806,
          0.09646043947764806,
          0.09646043947764806,
          0.09646043947764806,
          0.09646043947764806,
          0.09646043947764806,
          0.09646043947764806,
          0.09646043947764806,
          0.09646043947764806,
          0.09646043947764806,
          0.09646043947764806,
          0.09646043947764806,
          0.09646043947764806,
          0.09646043947764806,
          0.09646043947764806,
          0.09646043947764806,
          0.09646043947764806,
          0.09646043947764806,
          0.09646043947764806,
          0.09646043947764806,
          0.09646043947764806,
          0.09646043947764806,
          0.09646043947764806,
          0.09646043947764806,
          0.09646043947764806,
          0.09646043947764806,
          0.09646043947764806,
          0.09646043947764806,
          0.09646043947764806,
          0.09646043947764806,
          0.09646043947764806,
          0.09646043947764806,
          0.09646043947764806,
          0.09646043947764806,
          0.09646043947764806,
          0.09646043947764806,
          0.09646043947764806,
          0.09646043947764806,
          0.09646043947764806,
          0.09646043947764806,
          0.09646043947764806,
          0.09646043947764806,
          0.09646043947764806,
          0.09646043947764806,
          0.09646043947764806,
          0.09646043947764806,
          0.09646043947764806,
          0.09646043947764806,
          0.09646043947764806
         ]
        }
       ],
       "layout": {
        "autosize": false,
        "height": 500,
        "plot_bgcolor": "white",
        "template": {
         "data": {
          "bar": [
           {
            "error_x": {
             "color": "#2a3f5f"
            },
            "error_y": {
             "color": "#2a3f5f"
            },
            "marker": {
             "line": {
              "color": "#E5ECF6",
              "width": 0.5
             },
             "pattern": {
              "fillmode": "overlay",
              "size": 10,
              "solidity": 0.2
             }
            },
            "type": "bar"
           }
          ],
          "barpolar": [
           {
            "marker": {
             "line": {
              "color": "#E5ECF6",
              "width": 0.5
             },
             "pattern": {
              "fillmode": "overlay",
              "size": 10,
              "solidity": 0.2
             }
            },
            "type": "barpolar"
           }
          ],
          "carpet": [
           {
            "aaxis": {
             "endlinecolor": "#2a3f5f",
             "gridcolor": "white",
             "linecolor": "white",
             "minorgridcolor": "white",
             "startlinecolor": "#2a3f5f"
            },
            "baxis": {
             "endlinecolor": "#2a3f5f",
             "gridcolor": "white",
             "linecolor": "white",
             "minorgridcolor": "white",
             "startlinecolor": "#2a3f5f"
            },
            "type": "carpet"
           }
          ],
          "choropleth": [
           {
            "colorbar": {
             "outlinewidth": 0,
             "ticks": ""
            },
            "type": "choropleth"
           }
          ],
          "contour": [
           {
            "colorbar": {
             "outlinewidth": 0,
             "ticks": ""
            },
            "colorscale": [
             [
              0,
              "#0d0887"
             ],
             [
              0.1111111111111111,
              "#46039f"
             ],
             [
              0.2222222222222222,
              "#7201a8"
             ],
             [
              0.3333333333333333,
              "#9c179e"
             ],
             [
              0.4444444444444444,
              "#bd3786"
             ],
             [
              0.5555555555555556,
              "#d8576b"
             ],
             [
              0.6666666666666666,
              "#ed7953"
             ],
             [
              0.7777777777777778,
              "#fb9f3a"
             ],
             [
              0.8888888888888888,
              "#fdca26"
             ],
             [
              1,
              "#f0f921"
             ]
            ],
            "type": "contour"
           }
          ],
          "contourcarpet": [
           {
            "colorbar": {
             "outlinewidth": 0,
             "ticks": ""
            },
            "type": "contourcarpet"
           }
          ],
          "heatmap": [
           {
            "colorbar": {
             "outlinewidth": 0,
             "ticks": ""
            },
            "colorscale": [
             [
              0,
              "#0d0887"
             ],
             [
              0.1111111111111111,
              "#46039f"
             ],
             [
              0.2222222222222222,
              "#7201a8"
             ],
             [
              0.3333333333333333,
              "#9c179e"
             ],
             [
              0.4444444444444444,
              "#bd3786"
             ],
             [
              0.5555555555555556,
              "#d8576b"
             ],
             [
              0.6666666666666666,
              "#ed7953"
             ],
             [
              0.7777777777777778,
              "#fb9f3a"
             ],
             [
              0.8888888888888888,
              "#fdca26"
             ],
             [
              1,
              "#f0f921"
             ]
            ],
            "type": "heatmap"
           }
          ],
          "heatmapgl": [
           {
            "colorbar": {
             "outlinewidth": 0,
             "ticks": ""
            },
            "colorscale": [
             [
              0,
              "#0d0887"
             ],
             [
              0.1111111111111111,
              "#46039f"
             ],
             [
              0.2222222222222222,
              "#7201a8"
             ],
             [
              0.3333333333333333,
              "#9c179e"
             ],
             [
              0.4444444444444444,
              "#bd3786"
             ],
             [
              0.5555555555555556,
              "#d8576b"
             ],
             [
              0.6666666666666666,
              "#ed7953"
             ],
             [
              0.7777777777777778,
              "#fb9f3a"
             ],
             [
              0.8888888888888888,
              "#fdca26"
             ],
             [
              1,
              "#f0f921"
             ]
            ],
            "type": "heatmapgl"
           }
          ],
          "histogram": [
           {
            "marker": {
             "pattern": {
              "fillmode": "overlay",
              "size": 10,
              "solidity": 0.2
             }
            },
            "type": "histogram"
           }
          ],
          "histogram2d": [
           {
            "colorbar": {
             "outlinewidth": 0,
             "ticks": ""
            },
            "colorscale": [
             [
              0,
              "#0d0887"
             ],
             [
              0.1111111111111111,
              "#46039f"
             ],
             [
              0.2222222222222222,
              "#7201a8"
             ],
             [
              0.3333333333333333,
              "#9c179e"
             ],
             [
              0.4444444444444444,
              "#bd3786"
             ],
             [
              0.5555555555555556,
              "#d8576b"
             ],
             [
              0.6666666666666666,
              "#ed7953"
             ],
             [
              0.7777777777777778,
              "#fb9f3a"
             ],
             [
              0.8888888888888888,
              "#fdca26"
             ],
             [
              1,
              "#f0f921"
             ]
            ],
            "type": "histogram2d"
           }
          ],
          "histogram2dcontour": [
           {
            "colorbar": {
             "outlinewidth": 0,
             "ticks": ""
            },
            "colorscale": [
             [
              0,
              "#0d0887"
             ],
             [
              0.1111111111111111,
              "#46039f"
             ],
             [
              0.2222222222222222,
              "#7201a8"
             ],
             [
              0.3333333333333333,
              "#9c179e"
             ],
             [
              0.4444444444444444,
              "#bd3786"
             ],
             [
              0.5555555555555556,
              "#d8576b"
             ],
             [
              0.6666666666666666,
              "#ed7953"
             ],
             [
              0.7777777777777778,
              "#fb9f3a"
             ],
             [
              0.8888888888888888,
              "#fdca26"
             ],
             [
              1,
              "#f0f921"
             ]
            ],
            "type": "histogram2dcontour"
           }
          ],
          "mesh3d": [
           {
            "colorbar": {
             "outlinewidth": 0,
             "ticks": ""
            },
            "type": "mesh3d"
           }
          ],
          "parcoords": [
           {
            "line": {
             "colorbar": {
              "outlinewidth": 0,
              "ticks": ""
             }
            },
            "type": "parcoords"
           }
          ],
          "pie": [
           {
            "automargin": true,
            "type": "pie"
           }
          ],
          "scatter": [
           {
            "fillpattern": {
             "fillmode": "overlay",
             "size": 10,
             "solidity": 0.2
            },
            "type": "scatter"
           }
          ],
          "scatter3d": [
           {
            "line": {
             "colorbar": {
              "outlinewidth": 0,
              "ticks": ""
             }
            },
            "marker": {
             "colorbar": {
              "outlinewidth": 0,
              "ticks": ""
             }
            },
            "type": "scatter3d"
           }
          ],
          "scattercarpet": [
           {
            "marker": {
             "colorbar": {
              "outlinewidth": 0,
              "ticks": ""
             }
            },
            "type": "scattercarpet"
           }
          ],
          "scattergeo": [
           {
            "marker": {
             "colorbar": {
              "outlinewidth": 0,
              "ticks": ""
             }
            },
            "type": "scattergeo"
           }
          ],
          "scattergl": [
           {
            "marker": {
             "colorbar": {
              "outlinewidth": 0,
              "ticks": ""
             }
            },
            "type": "scattergl"
           }
          ],
          "scattermapbox": [
           {
            "marker": {
             "colorbar": {
              "outlinewidth": 0,
              "ticks": ""
             }
            },
            "type": "scattermapbox"
           }
          ],
          "scatterpolar": [
           {
            "marker": {
             "colorbar": {
              "outlinewidth": 0,
              "ticks": ""
             }
            },
            "type": "scatterpolar"
           }
          ],
          "scatterpolargl": [
           {
            "marker": {
             "colorbar": {
              "outlinewidth": 0,
              "ticks": ""
             }
            },
            "type": "scatterpolargl"
           }
          ],
          "scatterternary": [
           {
            "marker": {
             "colorbar": {
              "outlinewidth": 0,
              "ticks": ""
             }
            },
            "type": "scatterternary"
           }
          ],
          "surface": [
           {
            "colorbar": {
             "outlinewidth": 0,
             "ticks": ""
            },
            "colorscale": [
             [
              0,
              "#0d0887"
             ],
             [
              0.1111111111111111,
              "#46039f"
             ],
             [
              0.2222222222222222,
              "#7201a8"
             ],
             [
              0.3333333333333333,
              "#9c179e"
             ],
             [
              0.4444444444444444,
              "#bd3786"
             ],
             [
              0.5555555555555556,
              "#d8576b"
             ],
             [
              0.6666666666666666,
              "#ed7953"
             ],
             [
              0.7777777777777778,
              "#fb9f3a"
             ],
             [
              0.8888888888888888,
              "#fdca26"
             ],
             [
              1,
              "#f0f921"
             ]
            ],
            "type": "surface"
           }
          ],
          "table": [
           {
            "cells": {
             "fill": {
              "color": "#EBF0F8"
             },
             "line": {
              "color": "white"
             }
            },
            "header": {
             "fill": {
              "color": "#C8D4E3"
             },
             "line": {
              "color": "white"
             }
            },
            "type": "table"
           }
          ]
         },
         "layout": {
          "annotationdefaults": {
           "arrowcolor": "#2a3f5f",
           "arrowhead": 0,
           "arrowwidth": 1
          },
          "autotypenumbers": "strict",
          "coloraxis": {
           "colorbar": {
            "outlinewidth": 0,
            "ticks": ""
           }
          },
          "colorscale": {
           "diverging": [
            [
             0,
             "#8e0152"
            ],
            [
             0.1,
             "#c51b7d"
            ],
            [
             0.2,
             "#de77ae"
            ],
            [
             0.3,
             "#f1b6da"
            ],
            [
             0.4,
             "#fde0ef"
            ],
            [
             0.5,
             "#f7f7f7"
            ],
            [
             0.6,
             "#e6f5d0"
            ],
            [
             0.7,
             "#b8e186"
            ],
            [
             0.8,
             "#7fbc41"
            ],
            [
             0.9,
             "#4d9221"
            ],
            [
             1,
             "#276419"
            ]
           ],
           "sequential": [
            [
             0,
             "#0d0887"
            ],
            [
             0.1111111111111111,
             "#46039f"
            ],
            [
             0.2222222222222222,
             "#7201a8"
            ],
            [
             0.3333333333333333,
             "#9c179e"
            ],
            [
             0.4444444444444444,
             "#bd3786"
            ],
            [
             0.5555555555555556,
             "#d8576b"
            ],
            [
             0.6666666666666666,
             "#ed7953"
            ],
            [
             0.7777777777777778,
             "#fb9f3a"
            ],
            [
             0.8888888888888888,
             "#fdca26"
            ],
            [
             1,
             "#f0f921"
            ]
           ],
           "sequentialminus": [
            [
             0,
             "#0d0887"
            ],
            [
             0.1111111111111111,
             "#46039f"
            ],
            [
             0.2222222222222222,
             "#7201a8"
            ],
            [
             0.3333333333333333,
             "#9c179e"
            ],
            [
             0.4444444444444444,
             "#bd3786"
            ],
            [
             0.5555555555555556,
             "#d8576b"
            ],
            [
             0.6666666666666666,
             "#ed7953"
            ],
            [
             0.7777777777777778,
             "#fb9f3a"
            ],
            [
             0.8888888888888888,
             "#fdca26"
            ],
            [
             1,
             "#f0f921"
            ]
           ]
          },
          "colorway": [
           "#636efa",
           "#EF553B",
           "#00cc96",
           "#ab63fa",
           "#FFA15A",
           "#19d3f3",
           "#FF6692",
           "#B6E880",
           "#FF97FF",
           "#FECB52"
          ],
          "font": {
           "color": "#2a3f5f"
          },
          "geo": {
           "bgcolor": "white",
           "lakecolor": "white",
           "landcolor": "#E5ECF6",
           "showlakes": true,
           "showland": true,
           "subunitcolor": "white"
          },
          "hoverlabel": {
           "align": "left"
          },
          "hovermode": "closest",
          "mapbox": {
           "style": "light"
          },
          "paper_bgcolor": "white",
          "plot_bgcolor": "#E5ECF6",
          "polar": {
           "angularaxis": {
            "gridcolor": "white",
            "linecolor": "white",
            "ticks": ""
           },
           "bgcolor": "#E5ECF6",
           "radialaxis": {
            "gridcolor": "white",
            "linecolor": "white",
            "ticks": ""
           }
          },
          "scene": {
           "xaxis": {
            "backgroundcolor": "#E5ECF6",
            "gridcolor": "white",
            "gridwidth": 2,
            "linecolor": "white",
            "showbackground": true,
            "ticks": "",
            "zerolinecolor": "white"
           },
           "yaxis": {
            "backgroundcolor": "#E5ECF6",
            "gridcolor": "white",
            "gridwidth": 2,
            "linecolor": "white",
            "showbackground": true,
            "ticks": "",
            "zerolinecolor": "white"
           },
           "zaxis": {
            "backgroundcolor": "#E5ECF6",
            "gridcolor": "white",
            "gridwidth": 2,
            "linecolor": "white",
            "showbackground": true,
            "ticks": "",
            "zerolinecolor": "white"
           }
          },
          "shapedefaults": {
           "line": {
            "color": "#2a3f5f"
           }
          },
          "ternary": {
           "aaxis": {
            "gridcolor": "white",
            "linecolor": "white",
            "ticks": ""
           },
           "baxis": {
            "gridcolor": "white",
            "linecolor": "white",
            "ticks": ""
           },
           "bgcolor": "#E5ECF6",
           "caxis": {
            "gridcolor": "white",
            "linecolor": "white",
            "ticks": ""
           }
          },
          "title": {
           "x": 0.05
          },
          "xaxis": {
           "automargin": true,
           "gridcolor": "white",
           "linecolor": "white",
           "ticks": "",
           "title": {
            "standoff": 15
           },
           "zerolinecolor": "white",
           "zerolinewidth": 2
          },
          "yaxis": {
           "automargin": true,
           "gridcolor": "white",
           "linecolor": "white",
           "ticks": "",
           "title": {
            "standoff": 15
           },
           "zerolinecolor": "white",
           "zerolinewidth": 2
          }
         }
        },
        "title": {
         "text": "Convergence Profile"
        },
        "width": 800,
        "xaxis": {
         "color": "rgba(44,62,80,1.0)",
         "gridcolor": "rgba(189,195,199,0.75)",
         "title": {
          "text": "Neural Architecture Index"
         },
         "zeroline": true,
         "zerolinecolor": "rgba(189,195,199,1.0)",
         "zerolinewidth": 1
        },
        "yaxis": {
         "color": "rgba(44,62,80,1.0)",
         "gridcolor": "rgba(189,195,199,0.75)",
         "title": {
          "text": "Mean Loss Rate of Change"
         },
         "zeroline": true,
         "zerolinecolor": "rgba(189,195,199,1.0)",
         "zerolinewidth": 1
        }
       }
      },
      "text/html": [
       "<div>                            <div id=\"94885857-46dd-4a92-a4db-2a0474fe8297\" class=\"plotly-graph-div\" style=\"height:500px; width:800px;\"></div>            <script type=\"text/javascript\">                require([\"plotly\"], function(Plotly) {                    window.PLOTLYENV=window.PLOTLYENV || {};                                    if (document.getElementById(\"94885857-46dd-4a92-a4db-2a0474fe8297\")) {                    Plotly.newPlot(                        \"94885857-46dd-4a92-a4db-2a0474fe8297\",                        [{\"line\":{\"color\":\"rgba(230,126,34,1.0)\"},\"mode\":\"lines\",\"name\":\"HiveNAS\",\"x\":[0,1,2,3,4,5,6,7,8,9,10,11,12,13,14,15,16,17,18,19,20,21,22,23,24,25,26,27,28,29,30,31,32,33,34,35,36,37,38,39,40,41,42,43,44,45,46,47,48],\"y\":[0.09621849060058593,0.05980426073074341,0.09877297878265381,0.09991785287857055,0.09871710538864135,0.053827452659606936,0.026807403564453124,0.07544577121734619,0.029035186767578124,0.10001190900802612,0.09916520118713379,0.021383786201477052,0.10479938983917236,0.10954675674438477,0.03245861530303955,0.0711856722831726,0.11979784965515136,0.06724969148635865,0.10416686534881592,0.04241302013397217,0.08491343259811401,0.09118905067443847,0.10638015270233155,0.06407737731933594,0.08926916122436523,0.09087848663330078,0.12850264310836793,0.09888273477554321,0.11056180000305176,0.05633515119552612,0.08352912664413452,0.07506457567214966,0.1040601372718811,0.0230609655380249,0.06224825382232666,0.09195287227630615,0.12561067342758178,0.044075500965118405,0.023105788230895995,0.04284788370132446,0.09357115030288696,0.05768721103668213,0.056176066398620605,0.09657105207443237,0.04348868131637573,0.12012658119201661,0.08695461750030517,0.11118878126144409,0.08148150444030762],\"type\":\"scatter\"},{\"line\":{\"color\":\"rgba(230,126,34,0.5)\",\"dash\":\"dot\"},\"mode\":\"lines\",\"name\":\"HiveNAS (mean)\",\"x\":[0,1,2,3,4,5,6,7,8,9,10,11,12,13,14,15,16,17,18,19,20,21,22,23,24,25,26,27,28,29,30,31,32,33,34,35,36,37,38,39,40,41,42,43,44,45,46,47,48],\"y\":[0.07866360557322599,0.07866360557322599,0.07866360557322599,0.07866360557322599,0.07866360557322599,0.07866360557322599,0.07866360557322599,0.07866360557322599,0.07866360557322599,0.07866360557322599,0.07866360557322599,0.07866360557322599,0.07866360557322599,0.07866360557322599,0.07866360557322599,0.07866360557322599,0.07866360557322599,0.07866360557322599,0.07866360557322599,0.07866360557322599,0.07866360557322599,0.07866360557322599,0.07866360557322599,0.07866360557322599,0.07866360557322599,0.07866360557322599,0.07866360557322599,0.07866360557322599,0.07866360557322599,0.07866360557322599,0.07866360557322599,0.07866360557322599,0.07866360557322599,0.07866360557322599,0.07866360557322599,0.07866360557322599,0.07866360557322599,0.07866360557322599,0.07866360557322599,0.07866360557322599,0.07866360557322599,0.07866360557322599,0.07866360557322599,0.07866360557322599,0.07866360557322599,0.07866360557322599,0.07866360557322599,0.07866360557322599,0.07866360557322599],\"type\":\"scatter\"},{\"line\":{\"color\":\"rgba(52,152,219,1.0)\"},\"mode\":\"lines\",\"name\":\"HiveNAS+Aug\",\"x\":[0,1,2,3,4,5,6,7,8,9,10,11,12,13,14,15,16,17,18,19,20,21,22,23,24,25,26,27,28,29,30,31,32,33,34,35,36,37,38,39,40,41,42,43,44,45,46,47,48],\"y\":[0.06652836799621582,0.06765458583831788,0.09736406803131104,0.07026548385620117,0.084537935256958,0.16066789627075195,0.09667441844940186,0.07195250988006592,0.10150983333587646,0.15952541828155517,0.13210489749908447,0.08173534870147706,0.09060883522033691,0.12952058315277098,0.10576407909393311,0.08702738285064697,0.053946518898010255,0.10744304656982422,0.0882540225982666,0.09952166080474853,0.08911325931549072,0.10417342185974121,0.10720188617706299,0.08667480945587158,0.103332257270813,0.09672315120697021,0.0935701847076416,0.10122859477996826,0.09199752807617187,0.1019317626953125,0.0857388973236084,0.09312121868133545,0.10434527397155761,0.10050396919250489,0.0955777645111084,0.08934133052825928,0.08460397720336914,0.09567742347717285,0.08052849769592285,0.09346330165863037,0.1000352144241333,0.10065555572509766,0.09357292652130127,0.08993921279907227,0.0744626522064209,0.08949244022369385,0.09998948574066162,0.12628549337387085,0.10067315101623535],\"type\":\"scatter\"},{\"line\":{\"color\":\"rgba(52,152,219,0.5)\",\"dash\":\"dot\"},\"mode\":\"lines\",\"name\":\"HiveNAS+Aug (mean)\",\"x\":[0,1,2,3,4,5,6,7,8,9,10,11,12,13,14,15,16,17,18,19,20,21,22,23,24,25,26,27,28,29,30,31,32,33,34,35,36,37,38,39,40,41,42,43,44,45,46,47,48],\"y\":[0.09646043947764806,0.09646043947764806,0.09646043947764806,0.09646043947764806,0.09646043947764806,0.09646043947764806,0.09646043947764806,0.09646043947764806,0.09646043947764806,0.09646043947764806,0.09646043947764806,0.09646043947764806,0.09646043947764806,0.09646043947764806,0.09646043947764806,0.09646043947764806,0.09646043947764806,0.09646043947764806,0.09646043947764806,0.09646043947764806,0.09646043947764806,0.09646043947764806,0.09646043947764806,0.09646043947764806,0.09646043947764806,0.09646043947764806,0.09646043947764806,0.09646043947764806,0.09646043947764806,0.09646043947764806,0.09646043947764806,0.09646043947764806,0.09646043947764806,0.09646043947764806,0.09646043947764806,0.09646043947764806,0.09646043947764806,0.09646043947764806,0.09646043947764806,0.09646043947764806,0.09646043947764806,0.09646043947764806,0.09646043947764806,0.09646043947764806,0.09646043947764806,0.09646043947764806,0.09646043947764806,0.09646043947764806,0.09646043947764806],\"type\":\"scatter\"}],                        {\"template\":{\"data\":{\"histogram2dcontour\":[{\"type\":\"histogram2dcontour\",\"colorbar\":{\"outlinewidth\":0,\"ticks\":\"\"},\"colorscale\":[[0.0,\"#0d0887\"],[0.1111111111111111,\"#46039f\"],[0.2222222222222222,\"#7201a8\"],[0.3333333333333333,\"#9c179e\"],[0.4444444444444444,\"#bd3786\"],[0.5555555555555556,\"#d8576b\"],[0.6666666666666666,\"#ed7953\"],[0.7777777777777778,\"#fb9f3a\"],[0.8888888888888888,\"#fdca26\"],[1.0,\"#f0f921\"]]}],\"choropleth\":[{\"type\":\"choropleth\",\"colorbar\":{\"outlinewidth\":0,\"ticks\":\"\"}}],\"histogram2d\":[{\"type\":\"histogram2d\",\"colorbar\":{\"outlinewidth\":0,\"ticks\":\"\"},\"colorscale\":[[0.0,\"#0d0887\"],[0.1111111111111111,\"#46039f\"],[0.2222222222222222,\"#7201a8\"],[0.3333333333333333,\"#9c179e\"],[0.4444444444444444,\"#bd3786\"],[0.5555555555555556,\"#d8576b\"],[0.6666666666666666,\"#ed7953\"],[0.7777777777777778,\"#fb9f3a\"],[0.8888888888888888,\"#fdca26\"],[1.0,\"#f0f921\"]]}],\"heatmap\":[{\"type\":\"heatmap\",\"colorbar\":{\"outlinewidth\":0,\"ticks\":\"\"},\"colorscale\":[[0.0,\"#0d0887\"],[0.1111111111111111,\"#46039f\"],[0.2222222222222222,\"#7201a8\"],[0.3333333333333333,\"#9c179e\"],[0.4444444444444444,\"#bd3786\"],[0.5555555555555556,\"#d8576b\"],[0.6666666666666666,\"#ed7953\"],[0.7777777777777778,\"#fb9f3a\"],[0.8888888888888888,\"#fdca26\"],[1.0,\"#f0f921\"]]}],\"heatmapgl\":[{\"type\":\"heatmapgl\",\"colorbar\":{\"outlinewidth\":0,\"ticks\":\"\"},\"colorscale\":[[0.0,\"#0d0887\"],[0.1111111111111111,\"#46039f\"],[0.2222222222222222,\"#7201a8\"],[0.3333333333333333,\"#9c179e\"],[0.4444444444444444,\"#bd3786\"],[0.5555555555555556,\"#d8576b\"],[0.6666666666666666,\"#ed7953\"],[0.7777777777777778,\"#fb9f3a\"],[0.8888888888888888,\"#fdca26\"],[1.0,\"#f0f921\"]]}],\"contourcarpet\":[{\"type\":\"contourcarpet\",\"colorbar\":{\"outlinewidth\":0,\"ticks\":\"\"}}],\"contour\":[{\"type\":\"contour\",\"colorbar\":{\"outlinewidth\":0,\"ticks\":\"\"},\"colorscale\":[[0.0,\"#0d0887\"],[0.1111111111111111,\"#46039f\"],[0.2222222222222222,\"#7201a8\"],[0.3333333333333333,\"#9c179e\"],[0.4444444444444444,\"#bd3786\"],[0.5555555555555556,\"#d8576b\"],[0.6666666666666666,\"#ed7953\"],[0.7777777777777778,\"#fb9f3a\"],[0.8888888888888888,\"#fdca26\"],[1.0,\"#f0f921\"]]}],\"surface\":[{\"type\":\"surface\",\"colorbar\":{\"outlinewidth\":0,\"ticks\":\"\"},\"colorscale\":[[0.0,\"#0d0887\"],[0.1111111111111111,\"#46039f\"],[0.2222222222222222,\"#7201a8\"],[0.3333333333333333,\"#9c179e\"],[0.4444444444444444,\"#bd3786\"],[0.5555555555555556,\"#d8576b\"],[0.6666666666666666,\"#ed7953\"],[0.7777777777777778,\"#fb9f3a\"],[0.8888888888888888,\"#fdca26\"],[1.0,\"#f0f921\"]]}],\"mesh3d\":[{\"type\":\"mesh3d\",\"colorbar\":{\"outlinewidth\":0,\"ticks\":\"\"}}],\"scatter\":[{\"fillpattern\":{\"fillmode\":\"overlay\",\"size\":10,\"solidity\":0.2},\"type\":\"scatter\"}],\"parcoords\":[{\"type\":\"parcoords\",\"line\":{\"colorbar\":{\"outlinewidth\":0,\"ticks\":\"\"}}}],\"scatterpolargl\":[{\"type\":\"scatterpolargl\",\"marker\":{\"colorbar\":{\"outlinewidth\":0,\"ticks\":\"\"}}}],\"bar\":[{\"error_x\":{\"color\":\"#2a3f5f\"},\"error_y\":{\"color\":\"#2a3f5f\"},\"marker\":{\"line\":{\"color\":\"#E5ECF6\",\"width\":0.5},\"pattern\":{\"fillmode\":\"overlay\",\"size\":10,\"solidity\":0.2}},\"type\":\"bar\"}],\"scattergeo\":[{\"type\":\"scattergeo\",\"marker\":{\"colorbar\":{\"outlinewidth\":0,\"ticks\":\"\"}}}],\"scatterpolar\":[{\"type\":\"scatterpolar\",\"marker\":{\"colorbar\":{\"outlinewidth\":0,\"ticks\":\"\"}}}],\"histogram\":[{\"marker\":{\"pattern\":{\"fillmode\":\"overlay\",\"size\":10,\"solidity\":0.2}},\"type\":\"histogram\"}],\"scattergl\":[{\"type\":\"scattergl\",\"marker\":{\"colorbar\":{\"outlinewidth\":0,\"ticks\":\"\"}}}],\"scatter3d\":[{\"type\":\"scatter3d\",\"line\":{\"colorbar\":{\"outlinewidth\":0,\"ticks\":\"\"}},\"marker\":{\"colorbar\":{\"outlinewidth\":0,\"ticks\":\"\"}}}],\"scattermapbox\":[{\"type\":\"scattermapbox\",\"marker\":{\"colorbar\":{\"outlinewidth\":0,\"ticks\":\"\"}}}],\"scatterternary\":[{\"type\":\"scatterternary\",\"marker\":{\"colorbar\":{\"outlinewidth\":0,\"ticks\":\"\"}}}],\"scattercarpet\":[{\"type\":\"scattercarpet\",\"marker\":{\"colorbar\":{\"outlinewidth\":0,\"ticks\":\"\"}}}],\"carpet\":[{\"aaxis\":{\"endlinecolor\":\"#2a3f5f\",\"gridcolor\":\"white\",\"linecolor\":\"white\",\"minorgridcolor\":\"white\",\"startlinecolor\":\"#2a3f5f\"},\"baxis\":{\"endlinecolor\":\"#2a3f5f\",\"gridcolor\":\"white\",\"linecolor\":\"white\",\"minorgridcolor\":\"white\",\"startlinecolor\":\"#2a3f5f\"},\"type\":\"carpet\"}],\"table\":[{\"cells\":{\"fill\":{\"color\":\"#EBF0F8\"},\"line\":{\"color\":\"white\"}},\"header\":{\"fill\":{\"color\":\"#C8D4E3\"},\"line\":{\"color\":\"white\"}},\"type\":\"table\"}],\"barpolar\":[{\"marker\":{\"line\":{\"color\":\"#E5ECF6\",\"width\":0.5},\"pattern\":{\"fillmode\":\"overlay\",\"size\":10,\"solidity\":0.2}},\"type\":\"barpolar\"}],\"pie\":[{\"automargin\":true,\"type\":\"pie\"}]},\"layout\":{\"autotypenumbers\":\"strict\",\"colorway\":[\"#636efa\",\"#EF553B\",\"#00cc96\",\"#ab63fa\",\"#FFA15A\",\"#19d3f3\",\"#FF6692\",\"#B6E880\",\"#FF97FF\",\"#FECB52\"],\"font\":{\"color\":\"#2a3f5f\"},\"hovermode\":\"closest\",\"hoverlabel\":{\"align\":\"left\"},\"paper_bgcolor\":\"white\",\"plot_bgcolor\":\"#E5ECF6\",\"polar\":{\"bgcolor\":\"#E5ECF6\",\"angularaxis\":{\"gridcolor\":\"white\",\"linecolor\":\"white\",\"ticks\":\"\"},\"radialaxis\":{\"gridcolor\":\"white\",\"linecolor\":\"white\",\"ticks\":\"\"}},\"ternary\":{\"bgcolor\":\"#E5ECF6\",\"aaxis\":{\"gridcolor\":\"white\",\"linecolor\":\"white\",\"ticks\":\"\"},\"baxis\":{\"gridcolor\":\"white\",\"linecolor\":\"white\",\"ticks\":\"\"},\"caxis\":{\"gridcolor\":\"white\",\"linecolor\":\"white\",\"ticks\":\"\"}},\"coloraxis\":{\"colorbar\":{\"outlinewidth\":0,\"ticks\":\"\"}},\"colorscale\":{\"sequential\":[[0.0,\"#0d0887\"],[0.1111111111111111,\"#46039f\"],[0.2222222222222222,\"#7201a8\"],[0.3333333333333333,\"#9c179e\"],[0.4444444444444444,\"#bd3786\"],[0.5555555555555556,\"#d8576b\"],[0.6666666666666666,\"#ed7953\"],[0.7777777777777778,\"#fb9f3a\"],[0.8888888888888888,\"#fdca26\"],[1.0,\"#f0f921\"]],\"sequentialminus\":[[0.0,\"#0d0887\"],[0.1111111111111111,\"#46039f\"],[0.2222222222222222,\"#7201a8\"],[0.3333333333333333,\"#9c179e\"],[0.4444444444444444,\"#bd3786\"],[0.5555555555555556,\"#d8576b\"],[0.6666666666666666,\"#ed7953\"],[0.7777777777777778,\"#fb9f3a\"],[0.8888888888888888,\"#fdca26\"],[1.0,\"#f0f921\"]],\"diverging\":[[0,\"#8e0152\"],[0.1,\"#c51b7d\"],[0.2,\"#de77ae\"],[0.3,\"#f1b6da\"],[0.4,\"#fde0ef\"],[0.5,\"#f7f7f7\"],[0.6,\"#e6f5d0\"],[0.7,\"#b8e186\"],[0.8,\"#7fbc41\"],[0.9,\"#4d9221\"],[1,\"#276419\"]]},\"xaxis\":{\"gridcolor\":\"white\",\"linecolor\":\"white\",\"ticks\":\"\",\"title\":{\"standoff\":15},\"zerolinecolor\":\"white\",\"automargin\":true,\"zerolinewidth\":2},\"yaxis\":{\"gridcolor\":\"white\",\"linecolor\":\"white\",\"ticks\":\"\",\"title\":{\"standoff\":15},\"zerolinecolor\":\"white\",\"automargin\":true,\"zerolinewidth\":2},\"scene\":{\"xaxis\":{\"backgroundcolor\":\"#E5ECF6\",\"gridcolor\":\"white\",\"linecolor\":\"white\",\"showbackground\":true,\"ticks\":\"\",\"zerolinecolor\":\"white\",\"gridwidth\":2},\"yaxis\":{\"backgroundcolor\":\"#E5ECF6\",\"gridcolor\":\"white\",\"linecolor\":\"white\",\"showbackground\":true,\"ticks\":\"\",\"zerolinecolor\":\"white\",\"gridwidth\":2},\"zaxis\":{\"backgroundcolor\":\"#E5ECF6\",\"gridcolor\":\"white\",\"linecolor\":\"white\",\"showbackground\":true,\"ticks\":\"\",\"zerolinecolor\":\"white\",\"gridwidth\":2}},\"shapedefaults\":{\"line\":{\"color\":\"#2a3f5f\"}},\"annotationdefaults\":{\"arrowcolor\":\"#2a3f5f\",\"arrowhead\":0,\"arrowwidth\":1},\"geo\":{\"bgcolor\":\"white\",\"landcolor\":\"#E5ECF6\",\"subunitcolor\":\"white\",\"showland\":true,\"showlakes\":true,\"lakecolor\":\"white\"},\"title\":{\"x\":0.05},\"mapbox\":{\"style\":\"light\"}}},\"title\":{\"text\":\"Convergence Profile\"},\"xaxis\":{\"title\":{\"text\":\"Neural Architecture Index\"},\"color\":\"rgba(44,62,80,1.0)\",\"zeroline\":true,\"zerolinewidth\":1,\"zerolinecolor\":\"rgba(189,195,199,1.0)\",\"gridcolor\":\"rgba(189,195,199,0.75)\"},\"yaxis\":{\"title\":{\"text\":\"Mean Loss Rate of Change\"},\"color\":\"rgba(44,62,80,1.0)\",\"zeroline\":true,\"zerolinewidth\":1,\"zerolinecolor\":\"rgba(189,195,199,1.0)\",\"gridcolor\":\"rgba(189,195,199,0.75)\"},\"plot_bgcolor\":\"white\",\"autosize\":false,\"width\":800,\"height\":500},                        {\"responsive\": true}                    ).then(function(){\n",
       "                            \n",
       "var gd = document.getElementById('94885857-46dd-4a92-a4db-2a0474fe8297');\n",
       "var x = new MutationObserver(function (mutations, observer) {{\n",
       "        var display = window.getComputedStyle(gd).display;\n",
       "        if (!display || display === 'none') {{\n",
       "            console.log([gd, 'removed!']);\n",
       "            Plotly.purge(gd);\n",
       "            observer.disconnect();\n",
       "        }}\n",
       "}});\n",
       "\n",
       "// Listen for the removal of the full notebook cells\n",
       "var notebookContainer = gd.closest('#notebook-container');\n",
       "if (notebookContainer) {{\n",
       "    x.observe(notebookContainer, {childList: true});\n",
       "}}\n",
       "\n",
       "// Listen for the clearing of the current output cell\n",
       "var outputEl = gd.closest('.output');\n",
       "if (outputEl) {{\n",
       "    x.observe(outputEl, {childList: true});\n",
       "}}\n",
       "\n",
       "                        })                };                });            </script>        </div>"
      ]
     },
     "metadata": {},
     "output_type": "display_data"
    }
   ],
   "source": [
    "# Data Prep.\n",
    "def group_avg_roc(tpl):\n",
    "    return abs((tpl[-1] - tpl[0]) / len(tpl))\n",
    "\n",
    "CONVERGENCE_METRIC = 'loss'    # 'loss', 'val_loss', 'sparse_categorical_accuracy', 'val_sparse_categorical_accuracy'\n",
    "    \n",
    "avg_roc_a = [group_avg_roc(group[1].values) for group in hist_df_a.groupby('arch')['val_loss']]\n",
    "avg_roc_b = [group_avg_roc(group[1].values) for group in hist_df_b.groupby('arch')['val_loss']]\n",
    "\n",
    "avg_roc_a = reject_outliers(np.array(avg_roc_a), m=2)\n",
    "avg_roc_b = reject_outliers(np.array(avg_roc_b), m=2)\n",
    "\n",
    "# Truncate data length to match (for aesthetic purposes)\n",
    "avg_roc_a = avg_roc_a[:min(len(avg_roc_a), len(avg_roc_b))]\n",
    "avg_roc_b = avg_roc_b[:min(len(avg_roc_a), len(avg_roc_b))]\n",
    "\n",
    "# Figure customization\n",
    "fig = go.Figure()\n",
    "fig.update_layout(\n",
    "    title='Convergence Profile',\n",
    "    xaxis_title='Neural Architecture Index', \n",
    "    yaxis_title='Mean Loss Rate of Change',\n",
    "    plot_bgcolor='white',\n",
    "    autosize=False,\n",
    "    width=800,\n",
    "    height=500\n",
    ")\n",
    "\n",
    "fig.update_yaxes(color=PLOT_TEXT_COLOR,\n",
    "                 zeroline=True,\n",
    "                 zerolinewidth=1,\n",
    "                 zerolinecolor=GRID_ZERO_LINE_COLOR,\n",
    "                 gridcolor=GRID_LINE_COLOR)\n",
    "\n",
    "fig.update_xaxes(color=PLOT_TEXT_COLOR,\n",
    "                 zeroline=True,\n",
    "                 zerolinewidth=1,\n",
    "                 zerolinecolor=GRID_ZERO_LINE_COLOR,\n",
    "                 gridcolor=GRID_LINE_COLOR)\n",
    "\n",
    "# Traces\n",
    "fig.add_trace(go.Scatter(x=list(range(len(avg_roc_a))), y=avg_roc_a,\n",
    "                         mode='lines',\n",
    "                         name='HiveNAS',\n",
    "                         line=dict(color=TRACE_1_COLOR)))\n",
    "fig.add_trace(go.Scatter(x=list(range(len(avg_roc_a))), y=[avg_roc_a.mean() for _ in range(len(avg_roc_a))],\n",
    "                         mode='lines',\n",
    "                         name='HiveNAS (mean)',\n",
    "                         line=dict(color=TRACE_1_DOTTED_COLOR, dash='dot')))\n",
    "\n",
    "\n",
    "fig.add_trace(go.Scatter(x=list(range(len(avg_roc_b))), y=avg_roc_b,\n",
    "                         mode='lines',\n",
    "                         name='HiveNAS+Aug',\n",
    "                         line=dict(color=TRACE_2_COLOR)))\n",
    "fig.add_trace(go.Scatter(x=list(range(len(avg_roc_b))), y=[avg_roc_b.mean() for _ in range(len(avg_roc_b))],\n",
    "                         mode='lines',\n",
    "                         name='HiveNAS+Aug (mean)',\n",
    "                         line=dict(color=TRACE_2_DOTTED_COLOR, dash='dot')))\n",
    "\n",
    "fig.write_image(ANALYSIS_RESULTS_PATH + 'convergence_profile.eps')\n",
    "\n",
    "fig.show()\n",
    "\n",
    "# print([i[0] for i in hist_df_a.groupby('arch')['val_loss']])\n",
    "# print(hist_df_a.groupby('arch')['val_loss'].get_group('input|avg_pool3x3|sep3x3_128|avg_pool3x3|sep5x5_32|output'),'\\n\\n')\n",
    "# print(hist_df_a.groupby('arch')['val_loss'].get_group('input|batch_norm|sep3x3_128|avg_pool3x3|sep5x5_32|output'))"
   ]
  },
  {
   "cell_type": "code",
   "execution_count": 37,
   "id": "cbd2abd7",
   "metadata": {
    "ExecuteTime": {
     "end_time": "2022-10-03T09:44:26.018949Z",
     "start_time": "2022-10-03T09:44:26.014414Z"
    }
   },
   "outputs": [
    {
     "name": "stdout",
     "output_type": "stream",
     "text": [
      "HiveNAS Mean Loss Rate of Change (standard deviation):     0.029585244956550065 --> Jittery convergence \n",
      "HiveNAS+Aug Mean Loss Rate of Change (standard deviation): 0.01954693346978766  --> More stable convergence\n"
     ]
    }
   ],
   "source": [
    "print(f'HiveNAS Mean Loss Rate of Change (standard deviation):     {avg_roc_a.std()} --> Jittery convergence',\n",
    "      f'\\nHiveNAS+Aug Mean Loss Rate of Change (standard deviation): {avg_roc_b.std()}  --> More stable convergence')"
   ]
  },
  {
   "cell_type": "code",
   "execution_count": null,
   "id": "83c58484",
   "metadata": {},
   "outputs": [],
   "source": []
  }
 ],
 "metadata": {
  "kernelspec": {
   "display_name": "Python 3 (ipykernel)",
   "language": "python",
   "name": "python3"
  },
  "language_info": {
   "codemirror_mode": {
    "name": "ipython",
    "version": 3
   },
   "file_extension": ".py",
   "mimetype": "text/x-python",
   "name": "python",
   "nbconvert_exporter": "python",
   "pygments_lexer": "ipython3",
   "version": "3.9.4"
  },
  "toc": {
   "base_numbering": 1,
   "nav_menu": {},
   "number_sections": true,
   "sideBar": true,
   "skip_h1_title": false,
   "title_cell": "Table of Contents",
   "title_sidebar": "Contents",
   "toc_cell": false,
   "toc_position": {
    "height": "calc(100% - 180px)",
    "left": "10px",
    "top": "150px",
    "width": "340.797px"
   },
   "toc_section_display": true,
   "toc_window_display": true
  }
 },
 "nbformat": 4,
 "nbformat_minor": 5
}
